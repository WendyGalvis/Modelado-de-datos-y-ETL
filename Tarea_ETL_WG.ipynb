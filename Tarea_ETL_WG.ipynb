{
 "cells": [
  {
   "cell_type": "markdown",
   "id": "42afe2bd-0371-4b14-8198-640e983af04f",
   "metadata": {},
   "source": [
    "# Tarea ELT \n",
    "\n",
    "Estudiante: Wendy Galvis"
   ]
  },
  {
   "cell_type": "markdown",
   "id": "56ca6383-12a4-48b7-ab04-71e0bc2938e1",
   "metadata": {},
   "source": [
    "## Enunciado\n",
    "\n",
    "Implementación del proceso ETL para las dimensiones Proveedor, TipoTransaccion, Fecha y para la tabla de hechos movimientos. Las dimensiones Producto y Cliente son iguales a las del hecho Orden, este caso se conoce como dimensiones compartidas. Usted debe concentrarse en las dimensiones Proveedor, TipoTransaccion, Fecha y la tabla de hechos que no existen en la bodega de datos actualmente.\n",
    "\n",
    "WWImporters le comparte el modelo multidimensional que ha decido utilizar. Este modelo representa los movimientos(transacciones) que se hacen sobre el inventario de WWImporters. En particular, se observa que se tiene información de los tipos de transacciones, realizadas por un proveedor, relacionado con un cliente y un producto específico en una fecha determinada. En el modelo se dejan explícitos los dos tipos de identificadores que se crean a nivel de la bodega. el propio de la Bodega, (con el sufijo DWH) y el que viene de la fuente (con el sufijo T).\n",
    "\n",
    "Sobre los resultados del entendimiento de datos, Wide World Importers les comenta lo siguiente:\n",
    "\n",
    "* Cada fila representa una transacción o movimiento de productos en el inventario\n",
    "* Los días de pago no pueden ser negativos no tiene sentido para nuestro negocio. Por favor corregir multiplicando los datos negativos por -1.\n",
    "* Sobre la regla de negocio dada para la actividad de entendimiento de datos “La cantidad máxima de productos movidos es 50 millones por transaccion”, el negocio revisó y encontró que efectivamente gracias a los avances en su operación, ya puede mover más que la cantidad de 50 millones por transacción, por lo cual elimina esa regla de negocio.\n",
    "* La falta de datos antes del 2014 es un error de extracción de datos. Los nuevos datos incluyen este año.\n",
    "* Nuestro análisis concluye que la información que se ha duplicado totalmente no es útil. Por favor no tenerlos en cuenta.\n",
    "* “El formato de fechas manejado es YYYY-MM-DD HH:MM:SS si tienen hora, minutos y segundos. De lo contrario el formato es YYYY-MM-DD”: En cuanto a formatos de fechas estamos de acuerdo con que los estandarizemos y el formato sea el especificado en la regla de negocio.\n",
    "* Existen proveedores que tienen 2 filas una con un nombre y otra con el mismo nombre mas un “Inc” o “Ltd”. Unimos estos a un solo proveedor dado que se trató de un error de digitación.\n",
    "* El código postal igual para todos nuestros proveedores es un error que también fue corregido.\n",
    "* Cantidades negativas significan salidas de productos del inventario\n",
    "* El negocio indica que las tablas de categoriasProveedores y TiposTransaccion fueron analizadas previamente, por su grupo de consultores."
   ]
  },
  {
   "cell_type": "markdown",
   "id": "06b55c69-4a1a-4d2a-82fb-68c51c0f9b50",
   "metadata": {},
   "source": [
    "## Configuración e importe de paquetes"
   ]
  },
  {
   "cell_type": "code",
   "execution_count": 1,
   "id": "89b8c193-dd41-4ebb-9aa1-af96c00201e9",
   "metadata": {},
   "outputs": [],
   "source": [
    "    db_user = 'Estudiante_8_202413'\n",
    "db_psswd = 'aabb1122'\n",
    "source_db_connection_string = 'jdbc:mysql://157.253.236.120:8080/WWImportersTransactional'\n",
    "dest_db_connection_string = 'jdbc:mysql://157.253.236.120:8080/Estudiante_8_202413'\n",
    "\n",
    "# Driver de conexion\n",
    "path_jar_driver = 'C:\\Program Files (x86)\\MySQL\\Connector J 8.0\\mysql-connector-java-8.0.28.jar'"
   ]
  },
  {
   "cell_type": "code",
   "execution_count": 2,
   "id": "289c4f0e-563f-4311-ba09-f513cbbac589",
   "metadata": {},
   "outputs": [],
   "source": [
    "import os \n",
    "from pyspark.sql import functions as f, SparkSession, types as t\n",
    "from pyspark import SparkContext, SparkConf, SQLContext\n",
    "from pyspark.sql.functions import udf, col, length, isnan, when, count, regexp_replace\n",
    "from datetime import datetime\n",
    "from pyspark.sql.functions import to_date, date_format\n",
    "from pyspark.sql.types import StringType"
   ]
  },
  {
   "cell_type": "code",
   "execution_count": 3,
   "id": "fb0bd624-124c-491c-a7ab-e699d2e934fc",
   "metadata": {},
   "outputs": [
    {
     "name": "stderr",
     "output_type": "stream",
     "text": [
      "C:\\Users\\estudiante\\anaconda3\\envs\\Tutoriales\\lib\\site-packages\\pyspark\\sql\\context.py:79: FutureWarning: Deprecated in 3.0.0. Use SparkSession.builder.getOrCreate() instead.\n",
      "  FutureWarning\n"
     ]
    }
   ],
   "source": [
    "#Configuración de la sesión\n",
    "conf=SparkConf() \\\n",
    "    .set('spark.driver.extraClassPath', path_jar_driver)\n",
    "\n",
    "spark_context = SparkContext(conf=conf)\n",
    "sql_context = SQLContext(spark_context)\n",
    "spark = sql_context.sparkSession"
   ]
  },
  {
   "cell_type": "markdown",
   "id": "7c4016e8-f0aa-4f1c-bd18-961b8754955d",
   "metadata": {},
   "source": [
    "### Conexión y carga de datos"
   ]
  },
  {
   "cell_type": "markdown",
   "id": "df659fef-1669-46bd-8cd1-3c8081b94e8f",
   "metadata": {},
   "source": [
    "Se define la función para conexión y cargue de dataframes desde la base de datos origen y luego la función para guardar un dataframe en una tabla de la base de datos destino."
   ]
  },
  {
   "cell_type": "code",
   "execution_count": 4,
   "id": "dd20ffff-e4a4-4af4-a1ce-91a7ef505e1f",
   "metadata": {},
   "outputs": [],
   "source": [
    "def obterner_dataframe_desde_csv(_PATH, _sep):\n",
    "    return spark.read.load(_PATH, format=\"csv\", sep=_sep, inferSchema=\"true\", header='true')\n",
    "\n",
    "def obtener_dataframe_de_bd(db_connection_string, sql, db_user, db_psswd):\n",
    "    df_bd = spark.read.format('jdbc')\\\n",
    "        .option('url', db_connection_string) \\\n",
    "        .option('dbtable', sql) \\\n",
    "        .option('user', db_user) \\\n",
    "        .option('password', db_psswd) \\\n",
    "        .option('driver', 'com.mysql.cj.jdbc.Driver') \\\n",
    "        .load()\n",
    "    return df_bd\n",
    "\n",
    "def guardar_db(db_connection_string, df, tabla, db_user, db_psswd):\n",
    "    df.select('*').write.format('jdbc') \\\n",
    "      .mode('append') \\\n",
    "      .option('url', db_connection_string) \\\n",
    "      .option('dbtable', tabla) \\\n",
    "      .option('user', db_user) \\\n",
    "      .option('password', db_psswd) \\\n",
    "      .option('driver', 'com.mysql.cj.jdbc.Driver') \\\n",
    "      .save()"
   ]
  },
  {
   "cell_type": "markdown",
   "id": "e19512f2-e322-4481-bc2e-c3fe5906ad00",
   "metadata": {},
   "source": [
    "### Dimensión Proveedor\n",
    "Empezamos con la dimensión <i>Proveedor</i>. Su fuente de datos es una combinación de las tablas transaccionales  <i>proveedores</i>, <i>CategoriasProovedor</i> y <i>Personas</i>. "
   ]
  },
  {
   "cell_type": "markdown",
   "id": "bea413c1-434a-496d-b5c9-f7577ec68825",
   "metadata": {},
   "source": [
    "#### Extracción\n",
    "A continuación, nos conectamos a la base de datos y extraemos la información deseada por medio de SQL, cargandola en un DataFrame PySpark, tambien renombramos los atributos de acuerdo con lo establecido en el modelo multidimensional."
   ]
  },
  {
   "cell_type": "code",
   "execution_count": 5,
   "id": "d4bfb84f-24a2-4aec-9647-9d990c211d35",
   "metadata": {},
   "outputs": [
    {
     "name": "stdout",
     "output_type": "stream",
     "text": [
      "['ID_Proveedor_T', 'Nombre', 'CategoriaProveedorID', 'ID_persona', 'Dias_pago', 'Codigo_postal'] ['CategoriaProveedorID', 'Categoria'] ['ID_persona', 'Contacto_principal']\n"
     ]
    }
   ],
   "source": [
    "#EXTRACCION\n",
    "sql_proveedores = '''(SELECT DISTINCT ProveedorID AS ID_Proveedor_T, NombreProveedor AS Nombre,  CategoriaProveedorID, PersonaContactoPrincipalID AS ID_persona, DiasPago AS Dias_pago, CodigoPostal AS Codigo_postal FROM WWImportersTransactional.proveedores) AS Temp_proveedores'''\n",
    "proveedores = obtener_dataframe_de_bd(source_db_connection_string, sql_proveedores, db_user, db_psswd)\n",
    "\n",
    "sql_categorias = '''(SELECT DISTINCT CategoriaProveedorID, CategoriaProveedor AS Categoria FROM WWImportersTransactional.CategoriasProveedores) AS Temp_categorias'''\n",
    "categorias = obtener_dataframe_de_bd(source_db_connection_string, sql_categorias, db_user, db_psswd)\n",
    "\n",
    "sql_personas = '''(SELECT DISTINCT ID_persona, NombreCompleto AS Contacto_principal FROM WWImportersTransactional.Personas) AS Temp_personas'''\n",
    "personas = obtener_dataframe_de_bd(source_db_connection_string, sql_personas, db_user, db_psswd)\n",
    "\n",
    "print(proveedores.columns, categorias.columns, personas.columns)"
   ]
  },
  {
   "cell_type": "markdown",
   "id": "035ee9c9-ef20-4928-a49a-d8421f473ced",
   "metadata": {},
   "source": [
    "#### Transformación"
   ]
  },
  {
   "cell_type": "markdown",
   "id": "accf0d3c-569a-475a-a044-d6c5ebe2ead0",
   "metadata": {},
   "source": [
    "T1. Eliminar de los registros de la columna Nombre los sufijos Inc y Ltd"
   ]
  },
  {
   "cell_type": "code",
   "execution_count": 6,
   "id": "608f684d-3ee8-48b2-bcba-c4877553b6ad",
   "metadata": {},
   "outputs": [
    {
     "name": "stdout",
     "output_type": "stream",
     "text": [
      "+--------------+--------------------+--------------------+----------+---------+-------------+\n",
      "|ID_Proveedor_T|              Nombre|CategoriaProveedorID|ID_persona|Dias_pago|Codigo_postal|\n",
      "+--------------+--------------------+--------------------+----------+---------+-------------+\n",
      "|             4|            Fabrikam|                   4|        27|       30|        40351|\n",
      "|             5|Graphic Design In...|                   2|        29|       14|        64847|\n",
      "|             7|             Litware|                   5|        33|       30|        95245|\n",
      "|             9|      Nod Publishers|                   2|        37|        7|        27906|\n",
      "|            10|Northwind Electri...|                   3|        39|       30|         7860|\n",
      "|            12|   The Phone Company|                   2|        43|       30|        56732|\n",
      "|            13|      Woodgrove Bank|                   7|        45|        7|        94101|\n",
      "|             2|             Contoso|                   2|        23|       -7|        98253|\n",
      "|             6| Humongous Insurance|                   9|        31|      -14|        37770|\n",
      "|             8|  Lucerne Publishing|                   2|        35|      -30|        37659|\n",
      "|             1| A Datum Corporation|                   2|        21|      -14|        46077|\n",
      "|            11|       Trey Research|                   8|        41|       -7|        57543|\n",
      "|             3|Consolidated Mess...|                   6|        25|      -30|        94101|\n",
      "+--------------+--------------------+--------------------+----------+---------+-------------+\n",
      "\n"
     ]
    }
   ],
   "source": [
    "proveedores = proveedores.withColumn('Nombre', regexp_replace('Nombre', r',\\s*(Ltd\\.|Inc\\.)', ''))\n",
    "proveedores.show()"
   ]
  },
  {
   "cell_type": "markdown",
   "id": "22f11099-7fdb-4696-a351-ad743ec7c1b0",
   "metadata": {},
   "source": [
    "T2. Multiplicar los valores negativos de la columna \"DiasPago\" por -1"
   ]
  },
  {
   "cell_type": "code",
   "execution_count": 7,
   "id": "19f8693e-a1ac-42b3-a29c-5b6d73fd48c2",
   "metadata": {},
   "outputs": [
    {
     "name": "stdout",
     "output_type": "stream",
     "text": [
      "+--------------+--------------------+--------------------+----------+---------+-------------+\n",
      "|ID_Proveedor_T|              Nombre|CategoriaProveedorID|ID_persona|Dias_pago|Codigo_postal|\n",
      "+--------------+--------------------+--------------------+----------+---------+-------------+\n",
      "|             4|            Fabrikam|                   4|        27|       30|        40351|\n",
      "|             5|Graphic Design In...|                   2|        29|       14|        64847|\n",
      "|             7|             Litware|                   5|        33|       30|        95245|\n",
      "|             9|      Nod Publishers|                   2|        37|        7|        27906|\n",
      "|            10|Northwind Electri...|                   3|        39|       30|         7860|\n",
      "|            12|   The Phone Company|                   2|        43|       30|        56732|\n",
      "|            13|      Woodgrove Bank|                   7|        45|        7|        94101|\n",
      "|             2|             Contoso|                   2|        23|        7|        98253|\n",
      "|             6| Humongous Insurance|                   9|        31|       14|        37770|\n",
      "|             8|  Lucerne Publishing|                   2|        35|       30|        37659|\n",
      "|             1| A Datum Corporation|                   2|        21|       14|        46077|\n",
      "|            11|       Trey Research|                   8|        41|        7|        57543|\n",
      "|             3|Consolidated Mess...|                   6|        25|       30|        94101|\n",
      "+--------------+--------------------+--------------------+----------+---------+-------------+\n",
      "\n"
     ]
    }
   ],
   "source": [
    "proveedores = proveedores.withColumn('Dias_pago', \n",
    "                                     when(col('Dias_pago') < 0, col('Dias_pago') * -1)\n",
    "                                     .otherwise(col('Dias_pago')))\n",
    "proveedores.show()"
   ]
  },
  {
   "cell_type": "markdown",
   "id": "2afdd73f-7058-47ba-b8e5-8f550123b040",
   "metadata": {},
   "source": [
    "T3. Seleccionar Categoria de la tabla CategoriasProovedor realizando la unión por medio de la variable  CategoriaProveedorID\n",
    "\n",
    "T4. Seleccionar Contacto_principal de la tabla Personas realizando la unión por medio de la variable  ID_persona\n",
    "\n",
    "T5. Generar códigos propios de la bódega de datos"
   ]
  },
  {
   "cell_type": "code",
   "execution_count": 8,
   "id": "9ef37459-46e6-4391-bfa5-a3e798909b03",
   "metadata": {},
   "outputs": [
    {
     "name": "stdout",
     "output_type": "stream",
     "text": [
      "+----------------+--------------+-------------------+--------------------+------------------+---------+-------------+\n",
      "|ID_Proveedor_DWH|ID_Proveedor_T|             Nombre|           Categoria|Contacto_principal|Dias_pago|Codigo_postal|\n",
      "+----------------+--------------+-------------------+--------------------+------------------+---------+-------------+\n",
      "|               1|             6|Humongous Insurance|servicios de seguros|Madelaine  Cartier|       14|        37770|\n",
      "|               2|             4|           Fabrikam|                ropa|       Bill Lawson|       30|        40351|\n",
      "|               3|            11|      Trey Research|servicios de mark...|      Donald Jones|        7|        57543|\n",
      "|               4|            12|  The Phone Company| productos novedosos|           Hai Dam|       30|        56732|\n",
      "|               5|             9|     Nod Publishers| productos novedosos|      Marcos Costa|        7|        27906|\n",
      "+----------------+--------------+-------------------+--------------------+------------------+---------+-------------+\n",
      "only showing top 5 rows\n",
      "\n"
     ]
    }
   ],
   "source": [
    "proveedores = proveedores.join(categorias, how = 'left', on = 'CategoriaProveedorID')\n",
    "proveedores = proveedores.join(personas, how = 'left', on = 'ID_persona')\n",
    "proveedores = proveedores.coalesce(1).withColumn('ID_Proveedor_DWH', f.monotonically_increasing_id() + 1)\n",
    "proveedores = proveedores.select('ID_Proveedor_DWH', 'ID_Proveedor_T', 'Nombre', 'Categoria', 'Contacto_principal', 'Dias_pago', 'Codigo_postal')\n",
    "proveedores.show(5)"
   ]
  },
  {
   "cell_type": "code",
   "execution_count": 9,
   "id": "4f022c4f-ae4b-4e16-8649-73f73d5fe08b",
   "metadata": {},
   "outputs": [
    {
     "name": "stdout",
     "output_type": "stream",
     "text": [
      "+----------------+--------------+--------------------+--------------------+------------------+---------+-------------+\n",
      "|ID_Proveedor_DWH|ID_Proveedor_T|              Nombre|           Categoria|Contacto_principal|Dias_pago|Codigo_postal|\n",
      "+----------------+--------------+--------------------+--------------------+------------------+---------+-------------+\n",
      "|               1|             6| Humongous Insurance|servicios de seguros|Madelaine  Cartier|       14|        37770|\n",
      "|               2|             4|            Fabrikam|                ropa|       Bill Lawson|       30|        40351|\n",
      "|               3|            11|       Trey Research|servicios de mark...|      Donald Jones|        7|        57543|\n",
      "|               4|            12|   The Phone Company| productos novedosos|           Hai Dam|       30|        56732|\n",
      "|               5|             9|      Nod Publishers| productos novedosos|      Marcos Costa|        7|        27906|\n",
      "|               6|             8|  Lucerne Publishing| productos novedosos|       Prem Prabhu|       30|        37659|\n",
      "|               7|             2|             Contoso| productos novedosos|   Hanna Mihhailov|        7|        98253|\n",
      "|               8|            10|Northwind Electri...|            juguetes|   Eliza Soderberg|       30|         7860|\n",
      "|               9|            13|      Woodgrove Bank|servicios financi...|      Hubert Helms|        7|        94101|\n",
      "|              10|             3|Consolidated Mess...|servicios de mens...|      Kerstin Parn|       30|        94101|\n",
      "|              11|             5|Graphic Design In...| productos novedosos|        Penny Buck|       14|        64847|\n",
      "|              12|             1| A Datum Corporation| productos novedosos|        Reio Kabin|       14|        46077|\n",
      "|              13|             7|             Litware|            embalaje|     Elias Myllari|       30|        95245|\n",
      "+----------------+--------------+--------------------+--------------------+------------------+---------+-------------+\n",
      "\n"
     ]
    }
   ],
   "source": [
    "proveedores.show()"
   ]
  },
  {
   "cell_type": "markdown",
   "id": "d294b348-a39a-42f9-8c32-44a2b27483b0",
   "metadata": {},
   "source": [
    "#### Carga"
   ]
  },
  {
   "cell_type": "code",
   "execution_count": 10,
   "id": "2c53ec9f-8e62-497f-a83b-7dced1f6da40",
   "metadata": {},
   "outputs": [],
   "source": [
    "guardar_db(dest_db_connection_string, proveedores,'Estudiante_8_202413.Proveedor_ETL', db_user, db_psswd)"
   ]
  },
  {
   "cell_type": "markdown",
   "id": "bdfafbf9-1c22-4daa-9357-ba300af79f1b",
   "metadata": {},
   "source": [
    "### Dimensión Tipo_transaccion\n",
    "Seguimos con la dimensión <i>Tipo_transaccion</i>. Su fuente de datos es la tabla transaccional  <i>TiposTransaccion</i>."
   ]
  },
  {
   "cell_type": "markdown",
   "id": "a16e833c-6e79-459f-a002-d46f11de3432",
   "metadata": {},
   "source": [
    "#### Extracción"
   ]
  },
  {
   "cell_type": "code",
   "execution_count": 11,
   "id": "939d7756-d22a-4a4d-a1ce-f8ae9eb38b2c",
   "metadata": {},
   "outputs": [
    {
     "name": "stdout",
     "output_type": "stream",
     "text": [
      "['Id_Tipo_transaccion_T', 'Tipo']\n"
     ]
    }
   ],
   "source": [
    "#EXTRACCION\n",
    "\n",
    "sql_transaccion = '''(SELECT DISTINCT TipoTransaccionID AS Id_Tipo_transaccion_T, TipoTransaccionNombre AS Tipo FROM WWImportersTransactional.TiposTransaccion) AS Temp_tipo_transaccion'''\n",
    "transaccion = obtener_dataframe_de_bd(source_db_connection_string, sql_transaccion, db_user, db_psswd)\n",
    "\n",
    "print(transaccion.columns)"
   ]
  },
  {
   "cell_type": "markdown",
   "id": "cf768112-f382-4ef2-a7da-6bf3f81b23db",
   "metadata": {},
   "source": [
    "#### Transformación"
   ]
  },
  {
   "cell_type": "markdown",
   "id": "546445ba-f4f3-4692-9421-f7dc60586a6c",
   "metadata": {},
   "source": [
    "T1. Generar códigos propios de la bódega de datos"
   ]
  },
  {
   "cell_type": "code",
   "execution_count": 12,
   "id": "77df6d79-fc20-4a56-b0d5-4e2e68b169a0",
   "metadata": {},
   "outputs": [
    {
     "name": "stdout",
     "output_type": "stream",
     "text": [
      "+---------------------+--------------------+-----------------------+\n",
      "|Id_Tipo_transaccion_T|                Tipo|Id_Tipo_transaccion_DWH|\n",
      "+---------------------+--------------------+-----------------------+\n",
      "|                    2|Customer Credit Note|                      1|\n",
      "|                    3|Customer Payment ...|                      2|\n",
      "|                    4|     Customer Refund|                      3|\n",
      "|                    5|    Supplier Invoice|                      4|\n",
      "|                    6|Supplier Credit Note|                      5|\n",
      "|                    7|Supplier Payment ...|                      6|\n",
      "|                    8|     Supplier Refund|                      7|\n",
      "|                    9|      Stock Transfer|                      8|\n",
      "|                   10|         Stock Issue|                      9|\n",
      "|                   11|       Stock Receipt|                     10|\n",
      "|                   12|Stock Adjustment ...|                     11|\n",
      "|                   13|     Customer Contra|                     12|\n",
      "+---------------------+--------------------+-----------------------+\n",
      "\n"
     ]
    }
   ],
   "source": [
    "transaccion = transaccion.coalesce(1).withColumn('Id_Tipo_transaccion_DWH', f.monotonically_increasing_id() + 1)\n",
    "transaccion.show()"
   ]
  },
  {
   "cell_type": "markdown",
   "id": "3d6c6ab4-9cbc-4589-b1d1-c40d67e238ba",
   "metadata": {},
   "source": [
    "#### Carga"
   ]
  },
  {
   "cell_type": "code",
   "execution_count": 13,
   "id": "324d7391-6df6-4b6d-be96-b0812d71f859",
   "metadata": {},
   "outputs": [],
   "source": [
    "guardar_db(dest_db_connection_string, transaccion,'Estudiante_8_202413.TipoTransacción_ETL', db_user, db_psswd)"
   ]
  },
  {
   "cell_type": "markdown",
   "id": "2be65133-b411-42d7-9d11-b0455cae7c90",
   "metadata": {},
   "source": [
    "### Dimensión Fecha\n",
    "Seguimos con la dimensión <i>Fecha</i>. Su fuente de datos es la tabla transaccional  <i>movimientos</i>."
   ]
  },
  {
   "cell_type": "markdown",
   "id": "d74dbe0b-7ce7-484d-ac4e-ec460e8688ba",
   "metadata": {},
   "source": [
    "#### Extracción"
   ]
  },
  {
   "cell_type": "code",
   "execution_count": 14,
   "id": "f6e8143c-aaf2-4e1f-9650-d7e7561a4eea",
   "metadata": {},
   "outputs": [
    {
     "name": "stdout",
     "output_type": "stream",
     "text": [
      "['ID_Fecha']\n"
     ]
    }
   ],
   "source": [
    "sql_fecha = '''(SELECT DISTINCT FechaTransaccion AS ID_Fecha FROM WWImportersTransactional.movimientos) AS Temp_fecha'''\n",
    "fecha = obtener_dataframe_de_bd(source_db_connection_string, sql_fecha, db_user, db_psswd)\n",
    "\n",
    "print(fecha.columns)"
   ]
  },
  {
   "cell_type": "markdown",
   "id": "e2bb4526-0cef-49b3-8770-bcf92db320cb",
   "metadata": {},
   "source": [
    "#### Transformación"
   ]
  },
  {
   "cell_type": "markdown",
   "id": "70486782-d720-4cf9-9a99-e47571565704",
   "metadata": {},
   "source": [
    "T1.  Convertir la fecha a un número que la representa en formato AAAAMMDD"
   ]
  },
  {
   "cell_type": "code",
   "execution_count": 15,
   "id": "5587b078-8733-4322-9900-792618de79db",
   "metadata": {},
   "outputs": [
    {
     "name": "stdout",
     "output_type": "stream",
     "text": [
      "+-----------+\n",
      "|   ID_Fecha|\n",
      "+-----------+\n",
      "|Jan 20,2014|\n",
      "|Jan 28,2014|\n",
      "|Feb 01,2014|\n",
      "|Mar 25,2014|\n",
      "|May 01,2014|\n",
      "|May 02,2014|\n",
      "|May 10,2014|\n",
      "|May 26,2014|\n",
      "|Jun 02,2014|\n",
      "|Jul 08,2014|\n",
      "|Jul 17,2014|\n",
      "|Jul 24,2014|\n",
      "|Aug 19,2014|\n",
      "|Sep 16,2014|\n",
      "|Sep 17,2014|\n",
      "|Sep 23,2014|\n",
      "|Oct 04,2014|\n",
      "|Oct 21,2014|\n",
      "|Oct 30,2014|\n",
      "|Nov 07,2014|\n",
      "+-----------+\n",
      "only showing top 20 rows\n",
      "\n"
     ]
    }
   ],
   "source": [
    "fecha.show()"
   ]
  },
  {
   "cell_type": "code",
   "execution_count": 16,
   "id": "afe667d2-8c4c-4e01-8830-566350723336",
   "metadata": {},
   "outputs": [
    {
     "name": "stdout",
     "output_type": "stream",
     "text": [
      "+--------+\n",
      "|ID_Fecha|\n",
      "+--------+\n",
      "|20140120|\n",
      "|20140128|\n",
      "|20140201|\n",
      "|20140325|\n",
      "|20140501|\n",
      "|20140502|\n",
      "|20140510|\n",
      "|20140526|\n",
      "|20140602|\n",
      "|20140708|\n",
      "|20140717|\n",
      "|20140724|\n",
      "|20140819|\n",
      "|20140916|\n",
      "|20140917|\n",
      "|20140923|\n",
      "|20141004|\n",
      "|20141021|\n",
      "|20141030|\n",
      "|20141107|\n",
      "+--------+\n",
      "only showing top 20 rows\n",
      "\n"
     ]
    }
   ],
   "source": [
    "# TRANSFORMACION\n",
    "regex = \"([0-2]\\\\d{3}-(0[1-9]|1[0-2])-(0[1-9]|[1-2][0-9]|3[0-1]))\"\n",
    "cumplenFormato = fecha.filter(fecha[\"ID_Fecha\"].rlike(regex))\n",
    "noCumplenFormato = fecha.filter(~fecha[\"ID_Fecha\"].rlike(regex))\n",
    "noCumplenFormato = noCumplenFormato.withColumn('ID_Fecha', \n",
    "    f.udf(lambda d: datetime.strptime(d, '%b %d,%Y').strftime('%Y%m%d'), StringType())(col('ID_Fecha')))\n",
    "fecha = noCumplenFormato.union(cumplenFormato)\n",
    "fecha.show()"
   ]
  },
  {
   "cell_type": "markdown",
   "id": "25064791-fea5-4cc5-a2e4-0b57565b07aa",
   "metadata": {},
   "source": [
    "T2. Crear Fecha llevando ID_Fecha al formato YYYY-MM-DD"
   ]
  },
  {
   "cell_type": "code",
   "execution_count": 17,
   "id": "f120c19f-c5a5-4fb4-9b19-98a41881eb1c",
   "metadata": {},
   "outputs": [
    {
     "name": "stdout",
     "output_type": "stream",
     "text": [
      "+--------+----------+\n",
      "|ID_Fecha|     Fecha|\n",
      "+--------+----------+\n",
      "|20140120|2014-01-20|\n",
      "|20140128|2014-01-28|\n",
      "|20140201|2014-02-01|\n",
      "|20140325|2014-03-25|\n",
      "|20140501|2014-05-01|\n",
      "|20140502|2014-05-02|\n",
      "|20140510|2014-05-10|\n",
      "|20140526|2014-05-26|\n",
      "|20140602|2014-06-02|\n",
      "|20140708|2014-07-08|\n",
      "|20140717|2014-07-17|\n",
      "|20140724|2014-07-24|\n",
      "|20140819|2014-08-19|\n",
      "|20140916|2014-09-16|\n",
      "|20140917|2014-09-17|\n",
      "|20140923|2014-09-23|\n",
      "|20141004|2014-10-04|\n",
      "|20141021|2014-10-21|\n",
      "|20141030|2014-10-30|\n",
      "|20141107|2014-11-07|\n",
      "+--------+----------+\n",
      "only showing top 20 rows\n",
      "\n"
     ]
    }
   ],
   "source": [
    "fecha = fecha.withColumn('Fecha', to_date(col('ID_Fecha'), 'yyyyMMdd'))\n",
    "fecha.show()"
   ]
  },
  {
   "cell_type": "markdown",
   "id": "45857fba-db86-4c43-b06f-ba0504b3e2a4",
   "metadata": {},
   "source": [
    "T3. Crear día, mes, año, número de día de la semana"
   ]
  },
  {
   "cell_type": "code",
   "execution_count": 18,
   "id": "09e40460-f848-4c72-a6f2-9b3051886c57",
   "metadata": {},
   "outputs": [
    {
     "name": "stdout",
     "output_type": "stream",
     "text": [
      "+--------+----------+---+---+----+-----------------+\n",
      "|ID_Fecha|     Fecha|Dia|Mes|Anio|Numero_semana_ISO|\n",
      "+--------+----------+---+---+----+-----------------+\n",
      "|20140120|2014-01-20| 20|  1|2014|                4|\n",
      "|20140128|2014-01-28| 28|  1|2014|                5|\n",
      "|20140201|2014-02-01|  1|  2|2014|                5|\n",
      "|20140325|2014-03-25| 25|  3|2014|               13|\n",
      "|20140501|2014-05-01|  1|  5|2014|               18|\n",
      "|20140502|2014-05-02|  2|  5|2014|               18|\n",
      "|20140510|2014-05-10| 10|  5|2014|               19|\n",
      "|20140526|2014-05-26| 26|  5|2014|               22|\n",
      "|20140602|2014-06-02|  2|  6|2014|               23|\n",
      "|20140708|2014-07-08|  8|  7|2014|               28|\n",
      "|20140717|2014-07-17| 17|  7|2014|               29|\n",
      "|20140724|2014-07-24| 24|  7|2014|               30|\n",
      "|20140819|2014-08-19| 19|  8|2014|               34|\n",
      "|20140916|2014-09-16| 16|  9|2014|               38|\n",
      "|20140917|2014-09-17| 17|  9|2014|               38|\n",
      "|20140923|2014-09-23| 23|  9|2014|               39|\n",
      "|20141004|2014-10-04|  4| 10|2014|               40|\n",
      "|20141021|2014-10-21| 21| 10|2014|               43|\n",
      "|20141030|2014-10-30| 30| 10|2014|               44|\n",
      "|20141107|2014-11-07|  7| 11|2014|               45|\n",
      "+--------+----------+---+---+----+-----------------+\n",
      "only showing top 20 rows\n",
      "\n"
     ]
    }
   ],
   "source": [
    "from pyspark.sql.functions import dayofmonth, month, year, weekofyear\n",
    "\n",
    "fecha = fecha.withColumn('Dia', dayofmonth('Fecha'))\n",
    "fecha = fecha.withColumn('Mes', month('Fecha'))\n",
    "fecha = fecha.withColumn('Anio', year('Fecha'))\n",
    "fecha = fecha.withColumn('Numero_semana_ISO', weekofyear('Fecha'))\n",
    "\n",
    "fecha.show()"
   ]
  },
  {
   "cell_type": "markdown",
   "id": "11cd812d-ae70-4b32-a744-4df5d3b9f5bc",
   "metadata": {},
   "source": [
    "#### Carga"
   ]
  },
  {
   "cell_type": "code",
   "execution_count": 19,
   "id": "b0737c47-1ddb-4dbf-a615-d3617a5e6d51",
   "metadata": {},
   "outputs": [],
   "source": [
    "guardar_db(dest_db_connection_string, transaccion,'Estudiante_8_202413.Fecha_ETL', db_user, db_psswd)"
   ]
  },
  {
   "cell_type": "markdown",
   "id": "42eafb1d-a2b3-49ee-abc3-e18f2db67262",
   "metadata": {},
   "source": [
    "### Dimensión: Cliente\n",
    "Su fuente de datos es la combinación entre las tablas transaccionales Categorias de cliente, Grupos de compra y Clientes. Se usa el mismo código implementado en el tutorial"
   ]
  },
  {
   "cell_type": "markdown",
   "id": "39afb998-9d74-4bbc-a30b-19fff55b6867",
   "metadata": {},
   "source": [
    "#### Extracción"
   ]
  },
  {
   "cell_type": "code",
   "execution_count": 20,
   "id": "e4b9cf50-cb12-40ed-bcaf-cca97e92a0f5",
   "metadata": {},
   "outputs": [],
   "source": [
    "sql_categoriasCliente = '''(SELECT DISTINCT ID_Categoria, NombreCategoria FROM WWImportersTransactional.CategoriasCliente) AS Temp_categoriasclientes'''\n",
    "sql_gruposCompra = '''(SELECT DISTINCT ID_GrupoCompra, NombreGrupoCompra FROM WWImportersTransactional.GruposCompra) AS Temp_gruposcompra'''\n",
    "sql_clientes = '''(SELECT DISTINCT ID_Cliente as ID_Cliente_T, Nombre, ClienteFactura, ID_Categoria, ID_GrupoCompra, ID_CiudadEntrega, LimiteCredito, FechaAperturaCuenta, DiasPago FROM WWImportersTransactional.Clientes) AS Temp_clientes'''\n",
    "\n",
    "categoriasCliente = obtener_dataframe_de_bd(source_db_connection_string, sql_categoriasCliente, db_user, db_psswd)\n",
    "gruposCompra = obtener_dataframe_de_bd(source_db_connection_string, sql_gruposCompra, db_user, db_psswd)\n",
    "clientes = obtener_dataframe_de_bd(source_db_connection_string, sql_clientes, db_user, db_psswd)"
   ]
  },
  {
   "cell_type": "markdown",
   "id": "9d55383c-e444-45ea-a057-aa54f387e125",
   "metadata": {},
   "source": [
    "#### Transformación"
   ]
  },
  {
   "cell_type": "code",
   "execution_count": 21,
   "id": "0dd817f1-e025-44a1-8bba-bcf66f125a58",
   "metadata": {},
   "outputs": [
    {
     "name": "stdout",
     "output_type": "stream",
     "text": [
      "+--------------+------------+-----------------+---------------+-----------------+--------------+----------------+-------------+-------------------+--------+\n",
      "|ID_Cliente_DWH|ID_Cliente_T|           Nombre|NombreCategoria|NombreGrupoCompra|ClienteFactura|ID_CiudadEntrega|LimiteCredito|FechaAperturaCuenta|DiasPago|\n",
      "+--------------+------------+-----------------+---------------+-----------------+--------------+----------------+-------------+-------------------+--------+\n",
      "|             1|         803|       Bala Dixit|   Novelty Shop|          Missing|           803|           33799|         2000|2013-01-01 00:00:00|       7|\n",
      "|             2|         805|     Ratan Poddar|   Novelty Shop|          Missing|           805|           10194|         3300|2013-01-01 00:00:00|       7|\n",
      "|             3|         806|           Shi Tu|   Novelty Shop|          Missing|           806|           31685|         3000|2013-01-01 00:00:00|       7|\n",
      "|             4|         811|    Surendra Sahu|   Novelty Shop|          Missing|           811|           25332|         2100|2013-01-01 00:00:00|       7|\n",
      "|             5|         814|Johanna Hoornstra|   Novelty Shop|          Missing|           814|           26752|         2310|2013-01-01 00:00:00|       7|\n",
      "+--------------+------------+-----------------+---------------+-----------------+--------------+----------------+-------------+-------------------+--------+\n",
      "only showing top 5 rows\n",
      "\n"
     ]
    }
   ],
   "source": [
    "# TRANSFORMACION \n",
    "# EL SUPUESTO QUE SE TIENE ES QUE TODOS LOS CLIENTES TIENEN TODOS SUS DATOS DE CATEGORIA Y GRUPO Y NO SE ESTÁN PERDIENDO CLIENTES AL REALIZAR ESTE JOIN\n",
    "clientes = clientes.join(gruposCompra, how = 'left', on = 'ID_GrupoCompra')\n",
    "clientes = clientes.alias('cl').join(categoriasCliente.alias('ct'), how = 'left', on = 'ID_Categoria') \\\n",
    ".select([col('cl.ID_Cliente_T'),col('cl.Nombre'),col('ct.NombreCategoria'),col('cl.NombreGrupoCompra') \\\n",
    "        ,col('cl.ClienteFactura'),col('cl.ID_CiudadEntrega'),col('cl.LimiteCredito'),col('cl.FechaAperturaCuenta'),col('cl.DiasPago')])\n",
    "clientes = clientes.coalesce(1).withColumn('ID_Cliente_DWH', f.monotonically_increasing_id() + 1)\n",
    "clientes = clientes.select('ID_Cliente_DWH','ID_Cliente_T','Nombre','NombreCategoria','NombreGrupoCompra','ClienteFactura',\n",
    "                          'ID_CiudadEntrega','LimiteCredito','FechaAperturaCuenta','DiasPago')\n",
    "\n",
    "clientes = clientes.fillna({'NombreCategoria':'Missing','NombreGrupoCompra':'Missing'})\n",
    "clientes.show(5)"
   ]
  },
  {
   "cell_type": "code",
   "execution_count": 22,
   "id": "98b15320-b097-484c-a61e-16a318c14968",
   "metadata": {},
   "outputs": [
    {
     "name": "stdout",
     "output_type": "stream",
     "text": [
      "+--------------+------------+-------+---------------+-----------------+--------------+----------------+-------------+-------------------+--------+\n",
      "|ID_Cliente_DWH|ID_Cliente_T| Nombre|NombreCategoria|NombreGrupoCompra|ClienteFactura|ID_CiudadEntrega|LimiteCredito|FechaAperturaCuenta|DiasPago|\n",
      "+--------------+------------+-------+---------------+-----------------+--------------+----------------+-------------+-------------------+--------+\n",
      "|             0|            |Missing|        Missing|          Missing|             0|               0|             |                   |        |\n",
      "+--------------+------------+-------+---------------+-----------------+--------------+----------------+-------------+-------------------+--------+\n",
      "\n"
     ]
    }
   ],
   "source": [
    "# Crea el registro para el id = 0\n",
    "clientes_0 = [('0','','Missing','Missing','Missing','0','0','','','')]\n",
    "columns = ['ID_Cliente_DWH','ID_Cliente_T','Nombre','NombreCategoria','NombreGrupoCompra','ClienteFactura',\n",
    "            'ID_CiudadEntrega','LimiteCredito','FechaAperturaCuenta','DiasPago']\n",
    "cliente_0 = spark.createDataFrame(data=clientes_0,schema=columns)\n",
    "cliente_0.show()"
   ]
  },
  {
   "cell_type": "code",
   "execution_count": 23,
   "id": "d601400f-a2fb-4147-ad64-9ed9a98abf41",
   "metadata": {},
   "outputs": [
    {
     "name": "stdout",
     "output_type": "stream",
     "text": [
      "+--------------+------------+------------------+---------------+-----------------+--------------+----------------+-------------+-------------------+--------+\n",
      "|ID_Cliente_DWH|ID_Cliente_T|            Nombre|NombreCategoria|NombreGrupoCompra|ClienteFactura|ID_CiudadEntrega|LimiteCredito|FechaAperturaCuenta|DiasPago|\n",
      "+--------------+------------+------------------+---------------+-----------------+--------------+----------------+-------------+-------------------+--------+\n",
      "|             1|         807|     Gunnar Lohmus|     Gift Store|          Missing|           807|           35810|         3100|2013-01-01 00:00:00|       7|\n",
      "|             2|         816|        Harsha Huq|     Gift Store|          Missing|           816|            8892|         2400|2013-01-01 00:00:00|       7|\n",
      "|             3|         823|Francisca Laureano|     Gift Store|          Missing|           823|           17142|         3500|2013-01-01 00:00:00|       7|\n",
      "|             4|         825|    Jayanta Thakur|     Gift Store|          Missing|           825|           28367|         3000|2013-01-01 00:00:00|       7|\n",
      "|             5|         828|      Sercan Celik|     Gift Store|          Missing|           828|           34193|         1785|2013-01-01 00:00:00|       7|\n",
      "+--------------+------------+------------------+---------------+-----------------+--------------+----------------+-------------+-------------------+--------+\n",
      "only showing top 5 rows\n",
      "\n"
     ]
    }
   ],
   "source": [
    "clientes = clientes.union(cliente_0)\n",
    "clientes.show(5)"
   ]
  },
  {
   "cell_type": "code",
   "execution_count": 24,
   "id": "2ec8ea4b-6da0-4023-9fa3-b82bd5e9c19c",
   "metadata": {},
   "outputs": [
    {
     "name": "stdout",
     "output_type": "stream",
     "text": [
      "+--------------+------------+------------------+---------------+-----------------+--------------+----------------+-------------+-------------------+--------+\n",
      "|ID_Cliente_DWH|ID_Cliente_T|            Nombre|NombreCategoria|NombreGrupoCompra|ClienteFactura|ID_CiudadEntrega|LimiteCredito|FechaAperturaCuenta|DiasPago|\n",
      "+--------------+------------+------------------+---------------+-----------------+--------------+----------------+-------------+-------------------+--------+\n",
      "|             0|            |           Missing|        Missing|          Missing|             0|               0|             |                   |        |\n",
      "|             1|         807|     Gunnar Lohmus|     Gift Store|          Missing|           807|           35810|         3100|2013-01-01 00:00:00|       7|\n",
      "|             2|         816|        Harsha Huq|     Gift Store|          Missing|           816|            8892|         2400|2013-01-01 00:00:00|       7|\n",
      "|             3|         823|Francisca Laureano|     Gift Store|          Missing|           823|           17142|         3500|2013-01-01 00:00:00|       7|\n",
      "|             4|         825|    Jayanta Thakur|     Gift Store|          Missing|           825|           28367|         3000|2013-01-01 00:00:00|       7|\n",
      "+--------------+------------+------------------+---------------+-----------------+--------------+----------------+-------------+-------------------+--------+\n",
      "only showing top 5 rows\n",
      "\n"
     ]
    }
   ],
   "source": [
    "# Se ordena por el identificador DWH\n",
    "clientes = clientes.withColumn('ID_Cliente_DWH',col('ID_Cliente_DWH').cast('int')).orderBy(col('ID_Cliente_DWH'))\n",
    "clientes.show(5)"
   ]
  },
  {
   "cell_type": "markdown",
   "id": "f34e60c8-8da1-425f-b62d-2f3f303e8026",
   "metadata": {},
   "source": [
    "#### Carga"
   ]
  },
  {
   "cell_type": "code",
   "execution_count": 25,
   "id": "d8f728fb-6747-4099-a32b-dee44e0de81d",
   "metadata": {},
   "outputs": [],
   "source": [
    "# CARGUE\n",
    "guardar_db(dest_db_connection_string,clientes,'Estudiante_8_202413.Cliente_ETL', db_user, db_psswd)"
   ]
  },
  {
   "cell_type": "markdown",
   "id": "fdef00f0-5b75-4e42-903e-df5dc238a258",
   "metadata": {},
   "source": [
    "### Dimensión: Producto\n",
    "Su fuente de datos es la combinación entre las tablas transaccionales Productos y Colores. Se usa el mismo código implementado en el tutorial"
   ]
  },
  {
   "cell_type": "markdown",
   "id": "950341b8-346a-471f-a12d-b8bd867d1149",
   "metadata": {},
   "source": [
    "#### Extracción"
   ]
  },
  {
   "cell_type": "code",
   "execution_count": 26,
   "id": "2821ee28-5d08-46e9-8063-530dc924879b",
   "metadata": {},
   "outputs": [],
   "source": [
    "sql_productos = '''(SELECT DISTINCT ID_Producto as ID_Producto_T, ID_Color, NombreProducto, Marca, Necesita_refrigeracion, Dias_tiempo_entrega, Impuesto, PrecioUnitario, PrecioRecomendado FROM WWImportersTransactional.Producto) AS Temp_productos'''\n",
    "sql_colores = '''(SELECT DISTINCT ID_Color, Color FROM WWImportersTransactional.Colores) AS Temp_colores'''\n",
    "\n",
    "productos = obtener_dataframe_de_bd(source_db_connection_string, sql_productos, db_user, db_psswd)\n",
    "colores = obtener_dataframe_de_bd(source_db_connection_string, sql_colores, db_user, db_psswd)"
   ]
  },
  {
   "cell_type": "markdown",
   "id": "543927de-4099-4d45-b86c-36656ca6f0dc",
   "metadata": {},
   "source": [
    "#### Transformación"
   ]
  },
  {
   "cell_type": "code",
   "execution_count": 27,
   "id": "3de9f412-bffe-450c-a13c-7c3e93069d0a",
   "metadata": {},
   "outputs": [
    {
     "name": "stdout",
     "output_type": "stream",
     "text": [
      "+---------------+-------------+--------------------+-----+-------+----------------------+-------------------+-----------------+--------+--------------+\n",
      "|ID_Producto_DWH|ID_Producto_T|      NombreProducto|Marca|  Color|Necesita_refrigeracion|Dias_tiempo_entrega|PrecioRecomendado|Impuesto|PrecioUnitario|\n",
      "+---------------+-------------+--------------------+-----+-------+----------------------+-------------------+-----------------+--------+--------------+\n",
      "|              1|            1|USB missile launc...| null|Missing|                     0|                 14|               37|      15|            25|\n",
      "|              2|            4|USB food flash dr...| null|Missing|                     0|                 14|               48|      15|            32|\n",
      "|              3|            5|USB food flash dr...| null|Missing|                     0|                 14|               48|      15|            32|\n",
      "|              4|            6|USB food flash dr...| null|Missing|                     0|                 14|               48|      15|            32|\n",
      "|              5|            7|USB food flash dr...| null|Missing|                     0|                 14|               48|      15|            32|\n",
      "+---------------+-------------+--------------------+-----+-------+----------------------+-------------------+-----------------+--------+--------------+\n",
      "only showing top 5 rows\n",
      "\n"
     ]
    }
   ],
   "source": [
    "# TRANSFORMACION\n",
    "productos = productos.join(colores, how = 'left', on = 'ID_Color').fillna({'Color': 'Missing'})\n",
    "productos = productos.coalesce(1).withColumn('ID_Producto_DWH', f.monotonically_increasing_id() + 1)\n",
    "productos = productos.select('ID_Producto_DWH','ID_Producto_T','NombreProducto','Marca','Color','Necesita_refrigeracion','Dias_tiempo_entrega','PrecioRecomendado','Impuesto','PrecioUnitario')\n",
    "productos.show(5)"
   ]
  },
  {
   "cell_type": "markdown",
   "id": "6371cd44-747a-45ff-80e3-66c3e43451c6",
   "metadata": {},
   "source": [
    "#### Carga"
   ]
  },
  {
   "cell_type": "code",
   "execution_count": 28,
   "id": "39cf310b-b22b-4e92-b99a-4b1d88a05fb4",
   "metadata": {},
   "outputs": [],
   "source": [
    "# CARGUE\n",
    "guardar_db(dest_db_connection_string, productos,'Estudiante_8_202413.Producto_ETL', db_user, db_psswd)"
   ]
  },
  {
   "cell_type": "markdown",
   "id": "8e898aa3-ac97-4323-8052-6437ce6c4421",
   "metadata": {},
   "source": [
    "### Hecho movimiento\n",
    "Su fuente de datos es la la tabla transaccional movimientos"
   ]
  },
  {
   "cell_type": "markdown",
   "id": "4bc4fe79-1479-401b-9f54-cf4ae8b8262d",
   "metadata": {},
   "source": [
    "#### Extracción"
   ]
  },
  {
   "cell_type": "code",
   "execution_count": 29,
   "id": "8445deed-125b-4670-b407-f331a6a85f3d",
   "metadata": {},
   "outputs": [
    {
     "name": "stdout",
     "output_type": "stream",
     "text": [
      "['ID_Fecha', 'ID_Producto_T', 'ID_Proveedor_T', 'ID_Cliente_T', 'Id_Tipo_transaccion_T', 'Cantidad']\n"
     ]
    }
   ],
   "source": [
    "sql_movimientos = '''(SELECT DISTINCT FechaTransaccion AS ID_Fecha, ProductoID AS ID_Producto_T, ProveedorID AS ID_Proveedor_T, ClienteID AS ID_Cliente_T, TipoTransaccionID AS Id_Tipo_transaccion_T, Cantidad FROM WWImportersTransactional.movimientos) AS Temp_movimientos'''\n",
    "movimientos = obtener_dataframe_de_bd(source_db_connection_string, sql_movimientos, db_user, db_psswd)\n",
    "\n",
    "print(movimientos.columns)"
   ]
  },
  {
   "cell_type": "markdown",
   "id": "0f79c02d-a77a-4dc8-8f2f-d119a02e5d73",
   "metadata": {},
   "source": [
    "#### Transformación"
   ]
  },
  {
   "cell_type": "markdown",
   "id": "73dd0a1d-f569-475d-bf4e-b05e278c88dd",
   "metadata": {},
   "source": [
    "Verificamos si existen registros duplicados"
   ]
  },
  {
   "cell_type": "code",
   "execution_count": 30,
   "id": "015b35dc-ff89-422a-becf-28dd5c4f70ba",
   "metadata": {},
   "outputs": [
    {
     "name": "stdout",
     "output_type": "stream",
     "text": [
      "No hay registros duplicados.\n"
     ]
    }
   ],
   "source": [
    "num_total_registros = movimientos.count()\n",
    "num_registros_unicos = movimientos.dropDuplicates().count()\n",
    "\n",
    "if num_total_registros == num_registros_unicos:\n",
    "    print(\"No hay registros duplicados.\")\n",
    "else:\n",
    "    print(f\"Hay {num_total_registros - num_registros_unicos} registros duplicados.\")"
   ]
  },
  {
   "cell_type": "markdown",
   "id": "416fbcb8-e8f7-4cf1-aba3-94e3f84323dd",
   "metadata": {},
   "source": [
    "En el siguiente código para el manejo de fechas, pasamos del formato MM dd,YYYY al formato establecido en el modelado."
   ]
  },
  {
   "cell_type": "markdown",
   "id": "04295e68-0152-4b18-a983-c71069eba400",
   "metadata": {},
   "source": [
    "Convertir la fecha a un número que la representa en formato AAAAMMDD. En el modelado se establece que ID_Fecha es un número que corresponde a YYYYMMDD"
   ]
  },
  {
   "cell_type": "code",
   "execution_count": 31,
   "id": "2b4f5169-574a-43cc-b128-5a0b47daa90b",
   "metadata": {},
   "outputs": [
    {
     "name": "stdout",
     "output_type": "stream",
     "text": [
      "+--------+-------------+--------------+------------+---------------------+--------+\n",
      "|ID_Fecha|ID_Producto_T|ID_Proveedor_T|ID_Cliente_T|Id_Tipo_transaccion_T|Cantidad|\n",
      "+--------+-------------+--------------+------------+---------------------+--------+\n",
      "|20140120|          108|          null|       185.0|                   10|   -10.0|\n",
      "|20140128|          162|           4.0|         0.0|                   11|    10.0|\n",
      "|20140128|          216|          null|       474.0|                   10|   -10.0|\n",
      "|20140128|           22|           7.0|         0.0|                   11|    10.0|\n",
      "|20140128|           25|           7.0|         0.0|                   11|    10.0|\n",
      "|20140201|           14|          null|       444.0|                   10|   -10.0|\n",
      "|20140201|           75|           7.0|         0.0|                   11|    10.0|\n",
      "|20140325|           20|          null|       802.0|                   10|   -10.0|\n",
      "|20140325|           65|           4.0|         0.0|                   11|    10.0|\n",
      "|20140325|          130|          null|       487.0|                   10|   -10.0|\n",
      "|20140325|          171|           7.0|         0.0|                   11|    10.0|\n",
      "|20140325|          118|          null|       129.0|                   10|   -10.0|\n",
      "|20140325|          168|           7.0|         0.0|                   11|    10.0|\n",
      "|20140325|           52|           7.0|         0.0|                   11|    10.0|\n",
      "|20140325|          131|           7.0|         0.0|                   11|    10.0|\n",
      "|20140325|          171|          null|       420.0|                   10|   -10.0|\n",
      "|20140325|          105|          null|       433.0|                   10|   -10.0|\n",
      "|20140325|          112|           4.0|         0.0|                   11|    10.0|\n",
      "|20140325|          170|          null|       593.0|                   10|   -10.0|\n",
      "|20140325|          132|           4.0|         0.0|                   11|    10.0|\n",
      "+--------+-------------+--------------+------------+---------------------+--------+\n",
      "only showing top 20 rows\n",
      "\n"
     ]
    }
   ],
   "source": [
    "regex = \"([0-2]\\\\d{3}-(0[1-9]|1[0-2])-(0[1-9]|[1-2][0-9]|3[0-1]))\"\n",
    "cumplenFormato = movimientos.filter(movimientos[\"ID_Fecha\"].rlike(regex))\n",
    "noCumplenFormato = movimientos.filter(~movimientos[\"ID_Fecha\"].rlike(regex))\n",
    "noCumplenFormato = noCumplenFormato.withColumn('ID_Fecha', \n",
    "    f.udf(lambda d: datetime.strptime(d, '%b %d,%Y').strftime('%Y%m%d'), StringType())(col('ID_Fecha')))\n",
    "movimientos = noCumplenFormato.union(cumplenFormato)\n",
    "movimientos.show()"
   ]
  },
  {
   "cell_type": "markdown",
   "id": "bfe7c807-9867-42c7-a738-92b0d29e098d",
   "metadata": {},
   "source": [
    "T3. Seleccionar ID_Proveedor_DWH de la tabla de proveedores, Id_Tipo_transaccion_DWH de la tabla TipoTransacción, ID_Cliente_DWH de la tabla Cliente y ID_Producto_DWH de la tabla Producto"
   ]
  },
  {
   "cell_type": "code",
   "execution_count": 32,
   "id": "9a8f038b-a609-4df6-b9c1-05f3b3583dbd",
   "metadata": {},
   "outputs": [
    {
     "name": "stdout",
     "output_type": "stream",
     "text": [
      "+--------+--------------+---------------+----------------+-----------------------+--------+\n",
      "|ID_Fecha|ID_Cliente_DWH|ID_Producto_DWH|ID_Proveedor_DWH|Id_Tipo_transaccion_DWH|Cantidad|\n",
      "+--------+--------------+---------------+----------------+-----------------------+--------+\n",
      "|20140325|           618|            194|               0|                      9|   -10.0|\n",
      "|20140325|           234|             18|               0|                      9|   -10.0|\n",
      "|20140325|           339|            144|               0|                      9|   -10.0|\n",
      "|20140201|           350|             12|               0|                      9|   -10.0|\n",
      "|20140325|           326|            170|               0|                      9|   -10.0|\n",
      "|20140120|           290|            154|               0|                      9|   -10.0|\n",
      "|20140325|           499|            169|               0|                      9|   -10.0|\n",
      "|20140128|           380|             88|               0|                      9|   -10.0|\n",
      "|20140325|           393|            146|               0|                      9|   -10.0|\n",
      "|20140128|             0|             46|               2|                     10|    10.0|\n",
      "|20140128|             0|            195|              13|                     10|    10.0|\n",
      "|20140128|             0|            105|              13|                     10|    10.0|\n",
      "|20140201|             0|            127|              13|                     10|    10.0|\n",
      "|20140325|             0|            123|               2|                     10|    10.0|\n",
      "|20140325|             0|            170|              13|                     10|    10.0|\n",
      "|20140325|             0|            167|              13|                     10|    10.0|\n",
      "|20140325|             0|            210|              13|                     10|    10.0|\n",
      "|20140325|             0|            147|              13|                     10|    10.0|\n",
      "|20140325|             0|            158|               2|                     10|    10.0|\n",
      "|20140325|             0|            148|               2|                     10|    10.0|\n",
      "+--------+--------------+---------------+----------------+-----------------------+--------+\n",
      "only showing top 20 rows\n",
      "\n"
     ]
    }
   ],
   "source": [
    "movimientos = movimientos.alias('m').join(clientes.alias('cl'), movimientos.ID_Cliente_T == clientes.ID_Cliente_T,'left')\\\n",
    "                    .join(productos.alias('pr'), movimientos.ID_Producto_T == productos.ID_Producto_T,'left') \\\n",
    "                    .join(proveedores.alias('p'), movimientos.ID_Proveedor_T == proveedores.ID_Proveedor_T,'left') \\\n",
    "                    .join(transaccion.alias('tr'), movimientos.Id_Tipo_transaccion_T == transaccion.Id_Tipo_transaccion_T,'left') \\\n",
    "                    .join(fecha.alias('f'), (movimientos.ID_Fecha == fecha.ID_Fecha) ,'left') \\\n",
    "                    .select([col('m.ID_Fecha'),col('cl.ID_Cliente_DWH'),col('pr.ID_Producto_DWH'),\n",
    "                             col('p.ID_Proveedor_DWH'),col('tr.Id_Tipo_transaccion_DWH'),col('m.Cantidad')]) \\\n",
    "                   .fillna({'ID_Cliente_DWH': 0, 'ID_Producto_DWH': 0, 'ID_Proveedor_DWH': 0, 'Id_Tipo_transaccion_DWH': 0,\n",
    "                             'ID_Fecha': 0})\n",
    "movimientos.show()"
   ]
  },
  {
   "cell_type": "markdown",
   "id": "864cebb5-44c0-4f43-bd87-f67ee288e0c5",
   "metadata": {},
   "source": [
    "#### Carga"
   ]
  },
  {
   "cell_type": "code",
   "execution_count": 33,
   "id": "7cd0ae87-de61-47ad-ac7c-06c99456e95b",
   "metadata": {},
   "outputs": [],
   "source": [
    "# CARGUE\n",
    "guardar_db(dest_db_connection_string, movimientos,'Estudiante_8_202413.Movimientos_ETL', db_user, db_psswd)"
   ]
  }
 ],
 "metadata": {
  "kernelspec": {
   "display_name": "Python 3 (ipykernel)",
   "language": "python",
   "name": "python3"
  },
  "language_info": {
   "codemirror_mode": {
    "name": "ipython",
    "version": 3
   },
   "file_extension": ".py",
   "mimetype": "text/x-python",
   "name": "python",
   "nbconvert_exporter": "python",
   "pygments_lexer": "ipython3",
   "version": "3.7.13"
  }
 },
 "nbformat": 4,
 "nbformat_minor": 5
}
