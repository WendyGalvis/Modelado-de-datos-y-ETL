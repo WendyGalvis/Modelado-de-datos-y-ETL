{
  "cells": [
    {
      "cell_type": "markdown",
      "metadata": {
        "id": "WO1I95eN1E6D"
      },
      "source": [
        "# Proyecto ETL\n",
        "## Entrega 1: Entendimiento de datos"
      ]
    },
    {
      "cell_type": "markdown",
      "metadata": {
        "id": "quq3MLF31E6H"
      },
      "source": [
        "## Grupo 2:\n",
        "* Wendy Liney Galvis Larios\n",
        "* Juan Pablo Vera Fuentes\n",
        "* Jose David Contreras Arenas\n",
        "* Luis Felipe González Vallejo"
      ]
    },
    {
      "cell_type": "markdown",
      "metadata": {
        "id": "ZVKJVinc1E6I"
      },
      "source": [
        "### Objetivo\n",
        "* Explorar y analizar fuentes de datos (entendimiento de datos) relacionadas con el proyecto del curso.\n",
        "* Inspeccionar el nivel de calidad de las fuentes de datos provistas.\n",
        "* Revisar la viabilidad de implementar análisis con fuentes de datos dadas."
      ]
    },
    {
      "cell_type": "markdown",
      "metadata": {
        "id": "99cVg6ed1E6J"
      },
      "source": [
        "## Instrucciones\n",
        "RaSA de forma conjunta con un grupo de consultores de inteligencia de negocios, ha trabajado en una especificación de los primeros análisis que quiere que usted realice. En esta primera fase, a partir de estos análisis propuestos, la empresa le ha entregado una serie de fuentes de datos y requiere que usted realice los siguientes entregables relacionados con la etapa de entendimiento de datos:\n",
        "1. Entregable 1 - Perfilamiento de datos: Explore las fuentes de datos compartidas y analice el resultado.\n",
        "\n",
        "2. Entregable 2 - Análisis de calidad de datos: Revise las 4 dimensiones de calidad vistas en el curso en las fuentes compartidas y saque conclusiones.\n",
        "3. Entregable 3 - Conclusión del entendimiento de datos: Valide y documente si es posible realizar los análisis solicitados, si debe hacer ajustes en la forma como han sido planteados o si requiere de información adicional para el desarrollo de los mismos. En caso de ser posible, indique explicitamente las columnas que permiten relacionar los registros de las diferentes fuentes para poder integrarlas y no olvide incluir la lista de supuestos y dudas que quedan luego de este ejercicio para que sea la empresan quien de respuesta a esas inquietudes.\n",
        "4. Entregable 4 - Reflexión sobre el trabajo en equipo: De forma individual califique el desempeño de sus compañeros en una escala de 1 a 5. Tengan en cuenta los siguientes criterios y analícenlos a la luz del comportamiento de las actividades realizadas en esta entrega. Utilice esta información para socializarla al interior del grupo y llegar a un consenso por cada estudiante y criterio. Este consenso es el que deben entregar en este punto de la tarea.\n",
        "* Cumplimiento: Cumplió con los compromisos definidos por el grupo en las fechas pactadas.\n",
        "* Calidad: Las actividades realizadas las hizo con un buen nivel de calidad, aplicando lo visto en el curso y no fue necesario rehacer, completar o no cumplir con dichas partes de los entregables.\n",
        "* Aporte: Aportó al desarrollo del proyecto dando pautas para su desarrollo y buscando soluciones en caso de dificultades.\n",
        "* Comportamiento: Trató con respecto y amabilidad a los miembros del equipo. Estuvo receptivo a sugerencias o criticas de los miembros del equipo. Recuerde que la exploración de los datos depende de los objetivos que tenga el proyecto de analítica. Es así como RaSA le comparte ejemplos de análisis que en este momento está interesado en responder, documentados en la matriz de temas analíticos, donde se encuentra, adicional a los análisis identificados (ver la columna análisis requeridos), los datos requeridos para lograr los objetivos del proyecto."
      ]
    },
    {
      "cell_type": "markdown",
      "metadata": {
        "id": "KKh4PitS1E6L"
      },
      "source": [
        "Recuerde que la exploración de los datos depende de los objetivos que tenga el proyecto de analítica. Es así como RaSA le comparte ejemplos de análisis que en este momento está interesado en responder, documentados en la matriz de temas analíticos, donde se encuentra, adicional a los análisis identificados (ver la columna análisis requeridos), los datos requeridos para lograr los objetivos del proyecto.\n",
        "\n",
        "| Tema analítico | Análisis requeridos o inferidos | Categoría del análisis (*) | Procesos de negocio | Fuentes de datos |\n",
        "|----------|----------|----------|----------|----------|\n",
        "| Comportamiento desleal de proveedores    | **Análisis 1.a**: Dado un proveedor o grupo de proveedores si tiene o ha tenido un comportamiento desleal?. **Análisis 1.b**: Dado un rango de fechas se identifican proveedores con comportamientos desleales. Un comportamiento desleal corresponde a proveedores que brinden planes con el mismo tipo de beneficio cuyo valor de copago o coseguro evidencian diferencias mayores al 20%    |   Tablero de control       |    Oferta de planes      | F2. Beneficios (Tipos de beneficio y condiciones), F3. BeneficiosPlanes  |\n",
        "| Cobertura de planes | **Análisis 2.a**: Dado un rango de años, mostrar el nivel de cobertura de los planes con respecto a las áreas de servicio **Análisis 2.b** ¿Se ha logrado una cobertura total de los proveedores, cubriendo con sus planes TODAS las áreas de servicio? **Análisis 2.c**: ¿Han existido áreas de servicios que sean cubiertas, a nivel de planes, por menos de dos proveedores?  |   Tableros de control       |  Oferta de planes | F1. GruposAreasdeServicio y areas de servicio, F3. BeneficiosPlanes|\n",
        "| Concentraciones de planes  | **Análisis 3.a**: Dado un rango de años, identificar ¿cuantos y cuales planes hay por áreas de servicio? **Análisis 3.b**: ¿en qué áreas hay concentraciones de planes que no correspondan con la cantidad de habitantes del área? | Tableros de control | Oferta de planes | F1. GruposAreasdeServicio y areas de servicio, F3. Beneficios planes |\n",
        "|Evolución de planes\t | **Análisis 4.a**: Dado un rango de fechas y tipos de beneficios ¿Cómo han evolucionado los costos y tipos de beneficios a lo largo del tiempo por tipo de beneficio, proveedor, fecha? **Análisis 4.b**: ¿Qué tipos de beneficios han aumentado o disminuido costos?  | Tableros de control | Oferta de planes         | F2. Beneficios (Tipos de beneficio y condiciones), F3. Beneficios planes |\n",
        "\n",
        "\n",
        "\n",
        "\n",
        "\n",
        "\n",
        "\n"
      ]
    },
    {
      "cell_type": "markdown",
      "metadata": {
        "id": "YS5MKXdr1E6M"
      },
      "source": [
        "*La categoría de análisis posibles son Tableros de control, Análisis OLAP, Aprendizaje automático, Consultas SQL. En el curso solo vamos a abordar los tableros de control.\n",
        "\n",
        "** Los análisis de la tabla pueden ser agrupaciones de análisis más pequeños o se pueden extender, incluso puede que los análisis no estén completos. Es libre de proponerle nuevos análisis al negocio o complementar los de la tabla como parte de sus conclusiones. Piense en qué, le beneficiaría más a RaSA y en particular a un usuario que esté interesado en este estilo de análisis. Para esta actividad de entender los datos, la empresa les comparte los siguientes grupos de fuentes de datos y las respectivas tablas: F1. AreasdeServicio: FuenteAreasDeServicio_Copia_E F2. TiposBeneficios: FuenteTiposBeneficio_Copia_E F3. BeneficiosPlanes: FuentePlanesBeneficio_Copia_E F4. Tablas de referencia: FuenteCondicionesDePago_Copia_E."
      ]
    },
    {
      "cell_type": "markdown",
      "metadata": {
        "id": "Yf1pEjLs1E6N"
      },
      "source": [
        "Para esta actividad de entender los datos, la empresa les comparte los siguientes grupos de fuentes de datos y las respectivas tablas:\n",
        "\n",
        "* F1. AreasdeServicio: FuenteAreasDeServicio_Copia_E\n",
        "\n",
        "* F2. TiposBeneficios: FuenteTiposBeneficio_Copia_E\n",
        "\n",
        "* F3. BeneficiosPlanes: FuentePlanesBeneficio_Copia_E\n",
        "\n",
        "* F4. Tablas de referencia: FuenteCondicionesDePago_Copia_E\n",
        "\n",
        "Dichos datos pueden tener errores ya que no han sido utilizados previamente para ser analizados. La empresa nos da información adicional sobre los datos:\n",
        "\n",
        "1. Las áreas de servicios reportadas cubren todos los condados del país\n",
        "2. Los tipos de beneficios con límite cuantitativo deben tener una cantidad límite diferente de cero en los planes que los ofrecen.\n",
        "3. Las fuentes FuenteAreasDeServicio_Copia_E y FuenteTiposBeneficio_Copia_E comparten información de los años 2017 al 2019\n",
        "4. La empresa comparte 5409 áreas de servicios y 170 tipos de beneficios.\n",
        "5. El valor máximo Copago y Coseguro para el año 2018 es respectivamente 3300 y 100.\n",
        "6. Además, les comparte información de 301 planes para 2017 y de 422 para el año 2018.\n",
        "7. Existen 15 y 5 diferentes condiciones de copago y coseguro respectivamente\n"
      ]
    },
    {
      "cell_type": "markdown",
      "metadata": {
        "id": "fTJOZFr91E6O"
      },
      "source": [
        "## Recursos requeridos\n",
        "\n",
        "\n",
        "### Datos suministrados\n",
        "Los datos los puede encontrar en la base de datos: RaSaTransaccional del servidor que manejamos en los tutoriales. También puede encontrar el diccionario de los mismos aquí, ambos recursos requeridos para el desarrollo de esta tarea, las tablas son copias de las tablas relacionales del negocio. Las tablas compartidas por grupo de fuente son las descritas previamente.\n",
        "### Tecnología\n",
        "Recuerde que está el tutorial de “Entendimiento de datos”, que será de utilidad para el uso de la tecnología utilizada en esta tarea.\n",
        "* JupyterLab\n",
        "* Pyspark\n",
        "\n",
        "## Recomendaciones de los entregables\n",
        "* Recuerde incluir el significado de una fila\n",
        "* Evite tener imágenes o resultados de consultas sin comentarios asociados\n",
        "* Sea organizado al momento de generar el archivo a entregar\n",
        "\n",
        "## Preguntas o más información\n",
        "* Las preguntas que surjan en el desarrollo de esta tarea pueden registrarlas en el slack del curso.\n",
        "* La forma en que se organicen y aporten al interior del grupo es fundamental para el logro del objetivo del proyecto y será evaluada en la entrega final del proyecto."
      ]
    },
    {
      "cell_type": "markdown",
      "metadata": {
        "id": "xIZfIwTS1E6P"
      },
      "source": [
        "--- ---"
      ]
    },
    {
      "cell_type": "markdown",
      "metadata": {
        "id": "NkmsoNio1E6Q"
      },
      "source": [
        "# Desarrollo\n",
        "\n",
        "## Índice:\n",
        "1. [Conexión a la base de datos](#s1)\n",
        "2. [Entendimiento Tabla F1. AreasdeServicio: FuenteAreasDeServicio_Copia_E](#s2)\n",
        "3. [Entendimiento Tabla F2. TiposBeneficios: FuenteTiposBeneficio_Copia_E](#s3)\n",
        "4. [Entendimiento Tabla F3. BeneficiosPlanes: FuentePlanesBeneficio_Copia_E](#s4)\n",
        "5. [Entendimiento Tabla F4. Tablas de referencia: FuenteCondicionesDePago_Copia_E](#s5)\n",
        "6. [Conclusiones, preguntas al negocio y recomendaciones](#s6)"
      ]
    },
    {
      "cell_type": "markdown",
      "metadata": {
        "id": "2HU8RwLp1E6R"
      },
      "source": [
        "<a id=\"s1\"></a>\n",
        "##  1. Conexión a la base de datos\n",
        "En esta parte, se crea la conexión a la base de datos y se guardan las tablas en un dataframe de Spark."
      ]
    },
    {
      "cell_type": "code",
      "execution_count": null,
      "metadata": {
        "id": "LRCedaPX1E6S"
      },
      "outputs": [],
      "source": [
        "# warnings\n",
        "import warnings\n",
        "warnings.filterwarnings(\"ignore\")"
      ]
    },
    {
      "cell_type": "code",
      "execution_count": null,
      "metadata": {
        "id": "UDs9RXKk1E6U"
      },
      "outputs": [],
      "source": [
        "# librerías\n",
        "from pyspark.sql import SparkSession\n",
        "from pyspark.sql import functions\n",
        "from pyspark.sql.types import StructType\n",
        "from pyspark import SparkContext, SparkConf, SQLContext\n",
        "from pyspark.sql.types import FloatType, StringType, IntegerType, DateType\n",
        "from pyspark.sql.functions import col, length, isnan, when, count\n",
        "import pyspark.sql.functions as f\n",
        "import os\n",
        "from datetime import datetime\n",
        "from pyspark.sql import types as t\n",
        "import matplotlib.pyplot as plt\n",
        "import numpy as np"
      ]
    },
    {
      "cell_type": "code",
      "execution_count": null,
      "metadata": {
        "id": "0-m3Q2MtPn3O"
      },
      "outputs": [],
      "source": [
        "# configuración del controlador e inicio de sesión\n",
        "path_jar_driver = 'C:\\Program Files (x86)\\MySQL\\Connector J 8.0\\mysql-connector-java-8.0.28.jar'\n",
        "\n",
        "conf=SparkConf() \\\n",
        "    .set('spark.driver.extraClassPath', path_jar_driver)\n",
        "\n",
        "spark_context = SparkContext(conf=conf)\n",
        "sql_context = SQLContext(spark_context)\n",
        "spark = sql_context.sparkSession"
      ]
    },
    {
      "cell_type": "code",
      "execution_count": null,
      "metadata": {
        "id": "0eQw66SIPn3P"
      },
      "outputs": [],
      "source": [
        "# credenciales bd\n",
        "db_connection_string = 'jdbc:mysql://157.253.236.120:8080/RaSaTransaccional'\n",
        "db_user = 'Estudiante_9_202413'\n",
        "db_psswd = 'aabb1122'\n",
        "PATH='./'"
      ]
    },
    {
      "cell_type": "code",
      "execution_count": null,
      "metadata": {
        "id": "_ghc-Qw_1E6W"
      },
      "outputs": [],
      "source": [
        "# función para conectarse a la fuente de datos (archivo csv o base de datos) y retornar un dataframe\n",
        "def obtener_dataframe_de_bd(db_connection_string, sql, db_user, db_psswd):\n",
        "    df_bd = spark.read.format('jdbc')\\\n",
        "        .option('url', db_connection_string) \\\n",
        "        .option('dbtable', sql) \\\n",
        "        .option('user', db_user) \\\n",
        "        .option('password', db_psswd) \\\n",
        "        .option('driver', 'com.mysql.cj.jdbc.Driver') \\\n",
        "        .load()\n",
        "    return df_bd"
      ]
    },
    {
      "cell_type": "code",
      "execution_count": null,
      "metadata": {
        "id": "CkAt4alU1E6X"
      },
      "outputs": [],
      "source": [
        "# seleccionar la tabla, realizar conexión BD y guardar en un dataframe de pyspark\n",
        "tabla1 = 'RaSaTransaccional.FuenteAreasDeServicio_Copia_E'\n",
        "tabla2 = 'RaSaTransaccional.FuenteTiposBeneficio_Copia_E'\n",
        "tabla3 = 'RaSaTransaccional.FuentePlanesBeneficio_Copia_E'\n",
        "tabla4 = 'RaSaTransaccional.FuenteCondicionesDePago_Copia_E'\n",
        "\n",
        "# obtener f1s de spark\n",
        "f1 = obtener_dataframe_de_bd(db_connection_string, tabla1, db_user, db_psswd)\n",
        "f2 = obtener_dataframe_de_bd(db_connection_string, tabla2, db_user, db_psswd)\n",
        "f3 = obtener_dataframe_de_bd(db_connection_string, tabla3, db_user, db_psswd)\n",
        "f4 = obtener_dataframe_de_bd(db_connection_string, tabla4, db_user, db_psswd)"
      ]
    },
    {
      "cell_type": "markdown",
      "metadata": {
        "tags": [],
        "id": "Z9zJ9TPX1E6X"
      },
      "source": [
        "<a id=\"s2\"></a>\n",
        "## F1. AreasdeServicio: FuenteAreasDeServicio_Copia_E\n",
        "### Perfilamiento de Datos\n",
        "En esta parte, se exploran las características generales del conjunto de datos."
      ]
    },
    {
      "cell_type": "code",
      "execution_count": null,
      "metadata": {
        "id": "e6wneMTH1E6Y",
        "outputId": "4f5956b9-2522-41b2-dd0f-88424ffb6c80"
      },
      "outputs": [
        {
          "name": "stdout",
          "output_type": "stream",
          "text": [
            "Número de filas:  188815\n",
            "Número de columnas:  9\n"
          ]
        }
      ],
      "source": [
        "print(\"Número de filas: \", f1.count())\n",
        "print(\"Número de columnas: \",len(f1.columns))"
      ]
    },
    {
      "cell_type": "markdown",
      "metadata": {
        "id": "oHOwkqh01E6a"
      },
      "source": [
        "El conjunto de datos tiene 188.815 observaciones de 9 atributos. Profundicemos a mayor detalle sobre sus columnas (tomado del diccionario de datos):"
      ]
    },
    {
      "cell_type": "markdown",
      "metadata": {
        "id": "XTto2DuV1E6a"
      },
      "source": [
        "* `idAreaServicio_T`:\tIdentificador del area de servicio.\n",
        "* `NombreAreaDeServicio`:\tNombre del área de servicio.\n",
        "* `Fecha`:\tFecha de creación del área de servicio.\n",
        "* `idGeografía_T`:\tIdentificador del condado.\n",
        "* `Estado`:\tNombre del estado.\n",
        "* `Condado`:\tNombre del condado.\n",
        "* `PoblacionAct`:\tNúmero de habitantes actuales.\n",
        "* `Area`:\tÁrea, en millas cuadradas.\n",
        "* `Densidad`:\tNumero de habitantes por milla cuadrada.\n",
        "\n",
        "Adicionalmente, se tiene el siguiente formato para los datos:"
      ]
    },
    {
      "cell_type": "code",
      "execution_count": null,
      "metadata": {
        "id": "7LXPVI901E6b",
        "outputId": "382dbc78-b30d-4cf4-c4f4-b1165d7fe614"
      },
      "outputs": [
        {
          "data": {
            "text/plain": [
              "[('IdAreaDeServicio_T', 'int'),\n",
              " ('NombreAreaDeServicio', 'string'),\n",
              " ('IdGeografia_T', 'int'),\n",
              " ('Condado', 'string'),\n",
              " ('Estado', 'string'),\n",
              " ('PoblacionAct', 'double'),\n",
              " ('Area', 'double'),\n",
              " ('Densidad', 'double'),\n",
              " ('Fecha', 'int')]"
            ]
          },
          "execution_count": 13,
          "metadata": {},
          "output_type": "execute_result"
        }
      ],
      "source": [
        "f1.dtypes"
      ]
    },
    {
      "cell_type": "markdown",
      "metadata": {
        "id": "64YFOgUy1E6c"
      },
      "source": [
        "Se observa, entonces, que hay datos de tipo tanto numérico como categórico. Todas las columnas, a excepción del nombre del área de servicio, el nombre del condado y del estado son de tipo numérico. La única inconsistencia de formato que se evidencia hasta el momento es para el campo `Fecha`, que debería ser de tipo date o datetime para ser analizado de forma correcta."
      ]
    },
    {
      "cell_type": "code",
      "execution_count": null,
      "metadata": {
        "id": "MCE778xp1E6c",
        "outputId": "e4e25c24-3abf-4226-9177-42f193d95a3e"
      },
      "outputs": [
        {
          "data": {
            "text/html": [
              "<div>\n",
              "<style scoped>\n",
              "    .dataframe tbody tr th:only-of-type {\n",
              "        vertical-align: middle;\n",
              "    }\n",
              "\n",
              "    .dataframe tbody tr th {\n",
              "        vertical-align: top;\n",
              "    }\n",
              "\n",
              "    .dataframe thead th {\n",
              "        text-align: right;\n",
              "    }\n",
              "</style>\n",
              "<table border=\"1\" class=\"dataframe\">\n",
              "  <thead>\n",
              "    <tr style=\"text-align: right;\">\n",
              "      <th></th>\n",
              "      <th>IdAreaDeServicio_T</th>\n",
              "      <th>NombreAreaDeServicio</th>\n",
              "      <th>IdGeografia_T</th>\n",
              "      <th>Condado</th>\n",
              "      <th>Estado</th>\n",
              "      <th>PoblacionAct</th>\n",
              "      <th>Area</th>\n",
              "      <th>Densidad</th>\n",
              "      <th>Fecha</th>\n",
              "    </tr>\n",
              "  </thead>\n",
              "  <tbody>\n",
              "    <tr>\n",
              "      <th>0</th>\n",
              "      <td>100622017</td>\n",
              "      <td>New Jersey - Medical91661NJ2340003-0520174859</td>\n",
              "      <td>34005</td>\n",
              "      <td>Burlington County</td>\n",
              "      <td>New Jersey</td>\n",
              "      <td>464269.0</td>\n",
              "      <td>805.0</td>\n",
              "      <td>577.0</td>\n",
              "      <td>2017</td>\n",
              "    </tr>\n",
              "    <tr>\n",
              "      <th>1</th>\n",
              "      <td>101012018</td>\n",
              "      <td>New Jersey - Medical91661NJ2340003-0520184611</td>\n",
              "      <td>34031</td>\n",
              "      <td>Passaic County</td>\n",
              "      <td>New Jersey</td>\n",
              "      <td>518117.0</td>\n",
              "      <td>185.0</td>\n",
              "      <td>2801.0</td>\n",
              "      <td>2018</td>\n",
              "    </tr>\n",
              "    <tr>\n",
              "      <th>2</th>\n",
              "      <td>10132017</td>\n",
              "      <td>BlueOptions16842FL0070128-032017260</td>\n",
              "      <td>12031</td>\n",
              "      <td>Duval County</td>\n",
              "      <td>Florida</td>\n",
              "      <td>999935.0</td>\n",
              "      <td>774.0</td>\n",
              "      <td>1292.0</td>\n",
              "      <td>2017</td>\n",
              "    </tr>\n",
              "    <tr>\n",
              "      <th>3</th>\n",
              "      <td>101982018</td>\n",
              "      <td>New Jersey - Medical91661NJ2340003-0520184591</td>\n",
              "      <td>34003</td>\n",
              "      <td>Bergen County</td>\n",
              "      <td>New Jersey</td>\n",
              "      <td>953819.0</td>\n",
              "      <td>234.0</td>\n",
              "      <td>4076.0</td>\n",
              "      <td>2018</td>\n",
              "    </tr>\n",
              "    <tr>\n",
              "      <th>4</th>\n",
              "      <td>102012017</td>\n",
              "      <td>New Jersey - Medical91661NJ2340003-0520174601</td>\n",
              "      <td>34021</td>\n",
              "      <td>Mercer County</td>\n",
              "      <td>New Jersey</td>\n",
              "      <td>385898.0</td>\n",
              "      <td>226.0</td>\n",
              "      <td>1708.0</td>\n",
              "      <td>2017</td>\n",
              "    </tr>\n",
              "    <tr>\n",
              "      <th>5</th>\n",
              "      <td>102012017</td>\n",
              "      <td>New Jersey - Medical91661NJ2340003-0520174601</td>\n",
              "      <td>34023</td>\n",
              "      <td>Middlesex County</td>\n",
              "      <td>New Jersey</td>\n",
              "      <td>860807.0</td>\n",
              "      <td>311.0</td>\n",
              "      <td>2768.0</td>\n",
              "      <td>2017</td>\n",
              "    </tr>\n",
              "    <tr>\n",
              "      <th>6</th>\n",
              "      <td>10242017</td>\n",
              "      <td>BlueOptions16842FL0070128-032017345</td>\n",
              "      <td>12107</td>\n",
              "      <td>Putnam County</td>\n",
              "      <td>Florida</td>\n",
              "      <td>74167.0</td>\n",
              "      <td>722.0</td>\n",
              "      <td>103.0</td>\n",
              "      <td>2017</td>\n",
              "    </tr>\n",
              "    <tr>\n",
              "      <th>7</th>\n",
              "      <td>10252017</td>\n",
              "      <td>BlueOptions16842FL0070128-032017368</td>\n",
              "      <td>12055</td>\n",
              "      <td>Highlands County</td>\n",
              "      <td>Florida</td>\n",
              "      <td>103296.0</td>\n",
              "      <td>1028.0</td>\n",
              "      <td>100.0</td>\n",
              "      <td>2017</td>\n",
              "    </tr>\n",
              "    <tr>\n",
              "      <th>8</th>\n",
              "      <td>10262017</td>\n",
              "      <td>BlueOptions16842FL0070128-032017249</td>\n",
              "      <td>12085</td>\n",
              "      <td>Martin County</td>\n",
              "      <td>Florida</td>\n",
              "      <td>159942.0</td>\n",
              "      <td>556.0</td>\n",
              "      <td>288.0</td>\n",
              "      <td>2017</td>\n",
              "    </tr>\n",
              "    <tr>\n",
              "      <th>9</th>\n",
              "      <td>10272017</td>\n",
              "      <td>BlueOptions16842FL0070128-032017273</td>\n",
              "      <td>12059</td>\n",
              "      <td>Holmes County</td>\n",
              "      <td>Florida</td>\n",
              "      <td>19784.0</td>\n",
              "      <td>482.0</td>\n",
              "      <td>41.0</td>\n",
              "      <td>2017</td>\n",
              "    </tr>\n",
              "  </tbody>\n",
              "</table>\n",
              "</div>"
            ],
            "text/plain": [
              "   IdAreaDeServicio_T                           NombreAreaDeServicio  \\\n",
              "0           100622017  New Jersey - Medical91661NJ2340003-0520174859   \n",
              "1           101012018  New Jersey - Medical91661NJ2340003-0520184611   \n",
              "2            10132017            BlueOptions16842FL0070128-032017260   \n",
              "3           101982018  New Jersey - Medical91661NJ2340003-0520184591   \n",
              "4           102012017  New Jersey - Medical91661NJ2340003-0520174601   \n",
              "5           102012017  New Jersey - Medical91661NJ2340003-0520174601   \n",
              "6            10242017            BlueOptions16842FL0070128-032017345   \n",
              "7            10252017            BlueOptions16842FL0070128-032017368   \n",
              "8            10262017            BlueOptions16842FL0070128-032017249   \n",
              "9            10272017            BlueOptions16842FL0070128-032017273   \n",
              "\n",
              "   IdGeografia_T            Condado      Estado  PoblacionAct    Area  \\\n",
              "0          34005  Burlington County  New Jersey      464269.0   805.0   \n",
              "1          34031     Passaic County  New Jersey      518117.0   185.0   \n",
              "2          12031       Duval County     Florida      999935.0   774.0   \n",
              "3          34003      Bergen County  New Jersey      953819.0   234.0   \n",
              "4          34021      Mercer County  New Jersey      385898.0   226.0   \n",
              "5          34023   Middlesex County  New Jersey      860807.0   311.0   \n",
              "6          12107      Putnam County     Florida       74167.0   722.0   \n",
              "7          12055   Highlands County     Florida      103296.0  1028.0   \n",
              "8          12085      Martin County     Florida      159942.0   556.0   \n",
              "9          12059      Holmes County     Florida       19784.0   482.0   \n",
              "\n",
              "   Densidad  Fecha  \n",
              "0     577.0   2017  \n",
              "1    2801.0   2018  \n",
              "2    1292.0   2017  \n",
              "3    4076.0   2018  \n",
              "4    1708.0   2017  \n",
              "5    2768.0   2017  \n",
              "6     103.0   2017  \n",
              "7     100.0   2017  \n",
              "8     288.0   2017  \n",
              "9      41.0   2017  "
            ]
          },
          "execution_count": 14,
          "metadata": {},
          "output_type": "execute_result"
        }
      ],
      "source": [
        "# crear una visualización de los datos más ordenada que la de pyspark\n",
        "f1.limit(10).toPandas()"
      ]
    },
    {
      "cell_type": "markdown",
      "metadata": {
        "id": "4_jfL0Jj1E6d"
      },
      "source": [
        "De visualizar los primeros registros de datos, se resaltan los siguientes hallazgos:\n",
        "* `idAreaServicio_T`:\tEs un número grande, de al menos 8 dígitos. Esta es una consideración importante para un posible proceso futuro de diseño de ETL.\n",
        "* `NombreAreaDeServicio`:\tParece ser un tipo de código, de entre dos y tres niveles. En unos casos, se tiene el nombre del estado (e.g., New Jersey), seguido por una codificación propia del área de servicio. En otros, como ocurre cuando el estado es Florida, el nombre del área empieza por \"BlueOptions...\". Esto da primeros indicios sobre posibles inconsistencias en el formato empleado para esta columna.\n",
        "* `PoblacionAct`:\tLa población es de tipo decimal, cuando en realidad debería ser de tipo entero, ya que no es posible tener, por ejemplo, 10.5 habitantes en un lugar.\n",
        "* `Fecha`:\tLa fecha en realidad parece ser el año de creación de servicio, y no incluir el mes ni el día. Esto se verificará más adelante de forma más rigurosa.\n",
        "\n"
      ]
    },
    {
      "cell_type": "markdown",
      "metadata": {
        "id": "x1LpkGcC1E6e"
      },
      "source": [
        "### Revisión de reglas de negocio\n",
        "En esta parte, se revisan las reglas de negocio que aplican a la tabla F1."
      ]
    },
    {
      "cell_type": "code",
      "execution_count": null,
      "metadata": {
        "id": "RTrc5Zsz1E6e"
      },
      "outputs": [],
      "source": [
        " # crear una vista temporal de los datos, llamada movimientos\n",
        "f1.createOrReplaceTempView(\"Areas\")"
      ]
    },
    {
      "cell_type": "markdown",
      "metadata": {
        "id": "5C4yn7I_1E6e"
      },
      "source": [
        "*  **Las áreas de servicios reportadas cubren todos los condados del país **\n",
        "\n",
        "Esta regla refiere a la columna `Condado`. No se cuenta con una tabla separada que verifique todos los condados, por lo cual deben hacerse suposiciones. La primera es que el país es Estados Unidos (se infiere de sus estados New Jersey y Florida). Tras una consulta externa, se conoce que en EE.UU. existen 3.143 condados (counties) diferentes. También se sabe que ciertos condados tienen nombres idénticos a otros de diferentes estados, por lo cual debe revsisarse no solo el condado, sino su pareja condado- estado."
      ]
    },
    {
      "cell_type": "code",
      "execution_count": null,
      "metadata": {
        "id": "7OgWI9j01E6f",
        "outputId": "c6e3e0cb-c182-4238-d6fc-aa5931d55665"
      },
      "outputs": [
        {
          "name": "stdout",
          "output_type": "stream",
          "text": [
            "+----------+\n",
            "|N_condados|\n",
            "+----------+\n",
            "|      2282|\n",
            "+----------+\n",
            "\n"
          ]
        }
      ],
      "source": [
        "# usar sentencia de sql para consultar los datos\n",
        "spark.sql(\"SELECT COUNT (DISTINCT(Condado, Estado)) AS N_condados FROM Areas\").show()"
      ]
    },
    {
      "cell_type": "markdown",
      "metadata": {
        "id": "uVyi009k1E6g"
      },
      "source": [
        "En la base de datos solamente hay 2282 condados diferentes registrados, por lo cual la regla es incorrecta. Sólamente se cubren el 72.6% de los condados totales en EE.UU."
      ]
    },
    {
      "cell_type": "markdown",
      "metadata": {
        "id": "s6XcDXVd1E6g"
      },
      "source": [
        "* **La empresa comparte 5409 áreas de servicios y 170 tipos de beneficios.**\n",
        "Para revisar esto, se verifica el número de áreas de servicio diferentes en la tabla F1."
      ]
    },
    {
      "cell_type": "code",
      "execution_count": null,
      "metadata": {
        "id": "7xINsabA1E6h",
        "outputId": "f937ead1-674d-4f0f-806d-17a4e3c7e9a3"
      },
      "outputs": [
        {
          "name": "stdout",
          "output_type": "stream",
          "text": [
            "+----------------------------------+\n",
            "|count(DISTINCT IdAreaDeServicio_T)|\n",
            "+----------------------------------+\n",
            "|                              5409|\n",
            "+----------------------------------+\n",
            "\n"
          ]
        }
      ],
      "source": [
        "spark.sql(\"SELECT COUNT (DISTINCT(IdAreaDeServicio_T))FROM Areas\").show()"
      ]
    },
    {
      "cell_type": "code",
      "execution_count": null,
      "metadata": {
        "id": "59JGA8O31E6i",
        "outputId": "576a5e8a-0522-411f-9bba-b68f1b5bc136"
      },
      "outputs": [
        {
          "name": "stdout",
          "output_type": "stream",
          "text": [
            "+---------------------------------+\n",
            "|count(DISTINCT IdTipoBeneficio_T)|\n",
            "+---------------------------------+\n",
            "|                              285|\n",
            "+---------------------------------+\n",
            "\n"
          ]
        }
      ],
      "source": [
        " # crear una vista temporal de los datos, llamada movimientos\n",
        "f3.createOrReplaceTempView(\"Tipos\")\n",
        "spark.sql(\"SELECT COUNT (DISTINCT(IdTipoBeneficio_T))FROM Tipos\").show()"
      ]
    },
    {
      "cell_type": "markdown",
      "metadata": {
        "id": "PBhtKsBL1E6j"
      },
      "source": [
        "Se observa que la regla es incorrecta, pues mientras que se cumple el número de áreas de servicio, en realidad hay 285 tipos diferentes de beneficio, no 170."
      ]
    },
    {
      "cell_type": "markdown",
      "metadata": {
        "id": "8J3qnMhc1E6j"
      },
      "source": [
        "### Análisis Descriptivo de las variables\n",
        "\n"
      ]
    },
    {
      "cell_type": "code",
      "execution_count": null,
      "metadata": {
        "id": "6u2xSbDZ1E6k",
        "outputId": "234470e3-e1ea-4aa8-c89a-c13beec3d74f"
      },
      "outputs": [
        {
          "data": {
            "text/plain": [
              "['IdAreaDeServicio_T',\n",
              " 'NombreAreaDeServicio',\n",
              " 'IdGeografia_T',\n",
              " 'Condado',\n",
              " 'Estado',\n",
              " 'PoblacionAct',\n",
              " 'Area',\n",
              " 'Densidad',\n",
              " 'Fecha']"
            ]
          },
          "execution_count": 10,
          "metadata": {},
          "output_type": "execute_result"
        }
      ],
      "source": [
        "f1.columns"
      ]
    },
    {
      "cell_type": "code",
      "execution_count": null,
      "metadata": {
        "id": "Lr5-DMNm1E6l"
      },
      "outputs": [],
      "source": [
        "# separar variables categóricas de las numéricas\n",
        "cats=['IdAreaDeServicio_T', 'NombreAreaDeServicio','IdGeografia_T', 'Condado', 'Estado']\n",
        "nums=['PoblacionAct', 'Area', 'Densidad', 'Fecha']"
      ]
    },
    {
      "cell_type": "markdown",
      "metadata": {
        "id": "8Qpdvk0u1E6l"
      },
      "source": [
        "Para las variables categóricas, se busca conocer la moda."
      ]
    },
    {
      "cell_type": "code",
      "execution_count": null,
      "metadata": {
        "id": "8vi0HhXq1E6m",
        "outputId": "24c33962-4d83-453e-ac51-887fbb7f1c3a"
      },
      "outputs": [
        {
          "name": "stdout",
          "output_type": "stream",
          "text": [
            "+------------------+-----+\n",
            "|IdAreaDeServicio_T|count|\n",
            "+------------------+-----+\n",
            "|              null| 6288|\n",
            "|          92882017|  237|\n",
            "|          92932017|  230|\n",
            "|          92892017|  213|\n",
            "|          92872017|  204|\n",
            "+------------------+-----+\n",
            "only showing top 5 rows\n",
            "\n",
            "+--------------------+-----+\n",
            "|NombreAreaDeServicio|count|\n",
            "+--------------------+-----+\n",
            "|BEST Life Georgia...|  243|\n",
            "|BEST Life Georgia...|  239|\n",
            "|BEST Life Georgia...|  219|\n",
            "|BEST Life Georgia...|  205|\n",
            "|BEST Life Georgia...|  200|\n",
            "+--------------------+-----+\n",
            "only showing top 5 rows\n",
            "\n",
            "+-------------+-----+\n",
            "|IdGeografia_T|count|\n",
            "+-------------+-----+\n",
            "|         null| 6378|\n",
            "|        13013|  333|\n",
            "|        51085|  327|\n",
            "|        13117|  320|\n",
            "|        13057|  312|\n",
            "+-------------+-----+\n",
            "only showing top 5 rows\n",
            "\n",
            "+----------------+-----+\n",
            "|         Condado|count|\n",
            "+----------------+-----+\n",
            "|  Jackson County| 1857|\n",
            "|  Lincoln County| 1741|\n",
            "|    Union County| 1557|\n",
            "|Jefferson County| 1525|\n",
            "|   Marion County| 1297|\n",
            "+----------------+-----+\n",
            "only showing top 5 rows\n",
            "\n",
            "+---------+-----+\n",
            "|   Estado|count|\n",
            "+---------+-----+\n",
            "|  Indiana|14150|\n",
            "| Missouri|13913|\n",
            "|  Georgia|13822|\n",
            "|Wisconsin|12543|\n",
            "| Michigan|11598|\n",
            "+---------+-----+\n",
            "only showing top 5 rows\n",
            "\n"
          ]
        }
      ],
      "source": [
        "for i in cats:\n",
        "    f1.groupby(i).count().orderBy(\"count\", ascending=False).show(5)"
      ]
    },
    {
      "cell_type": "markdown",
      "metadata": {
        "id": "VESY23PF1E6n"
      },
      "source": [
        "Se observa lo siguiente:\n",
        "* Para `IdAreaDeServicio_T` e `IdGeografia_T`, el valor más común es nulo, lo cual se revisará más adelante con más detenimiento.\n",
        "* El condado más frecuente en los registros es Jackson County, en Missouri. Este es seguido por Lincoln County, el cual es un nombre repetido en condados para los estados de Oregon, North Carolina y South Dakota.\n",
        "* El estado más frecuente es Indiana, seguido de Missouri y Georgia. Estos tres estados están relativamente cerca entre sí, en la costa este de Estados Unidos, lo cual puede indicar que en estas áreas se concentran las actividades de negocios de RaSa.\n"
      ]
    },
    {
      "cell_type": "markdown",
      "metadata": {
        "id": "pPq3BaeE1E6n"
      },
      "source": [
        "Se pasa a analizar las variables numéricas con más detenimiento."
      ]
    },
    {
      "cell_type": "code",
      "execution_count": null,
      "metadata": {
        "id": "ncDRA5PC1E6o",
        "outputId": "385fd702-ce90-4a8e-8f13-d7996dc676f6"
      },
      "outputs": [
        {
          "name": "stdout",
          "output_type": "stream",
          "text": [
            "+-------+-------------------+------------------+-----------------+------------------+\n",
            "|summary|       PoblacionAct|              Area|         Densidad|             Fecha|\n",
            "+-------+-------------------+------------------+-----------------+------------------+\n",
            "|  count|             188815|            186408|           186408|            188815|\n",
            "|   mean|4.147959051463602E7| 770.9518851122269|276.0979410754903|2010.2215554908244|\n",
            "| stddev|5.943835931334065E8|1263.4887340485252|851.3219978151402| 39.00236181529916|\n",
            "|    min|               82.0|          -24707.0|              0.0|              1800|\n",
            "|    25%|            12538.0|             400.0|             20.0|              2017|\n",
            "|    50%|            30885.0|             575.0|             51.0|              2017|\n",
            "|    75%|           110686.0|             870.0|            170.0|              2018|\n",
            "|    max|         4.72803E10|           88824.0|          14946.0|              2018|\n",
            "+-------+-------------------+------------------+-----------------+------------------+\n",
            "\n"
          ]
        }
      ],
      "source": [
        "f1_num= f1.drop(*cats)\n",
        "f1_num.summary().show()"
      ]
    },
    {
      "cell_type": "markdown",
      "metadata": {
        "id": "aj5Y7RrF1E6p"
      },
      "source": [
        "Se observa lo siguiente sobre los datos:\n",
        "* Para `PoblacionAct`, el valor más pequeño registrado es de 82 personas, mientras que el más alto es de 47.28 billones de personas. Se sabe que el último valor es incorrecto, pues no existen tantas personas ni en EE.UU. ni en todo el planeta Tierra. Claramente hay valores atípicos que deben corregirse, por lo cual la mediana es más confiable que la media. Esta primera resultó ser de 30885 personas, lo cual es un tamaño razonable de personas, si se piensa en un espacio relativamente pequeño, como un condado.\n",
        "\n",
        "* Para `Area`, el valor más pequeño es negativo, lo cual de entrada se sabe es incorrecto, pues las personas no pueden vivir en un área negativa. El valor más alto también parece estar equivocado, ya que es más de 100 veces más grande que el valor del percentil 75. Es improbable que existan condados 100 veces más grandes que otros en un mismo país, por lo cual se concluye que esta columna también está afectada por datos atípicos e incorrectos.\n",
        "* Para `Densidad`, ya que esta columna es un cálculo de la población sobre el área, dado que en sus dos columnas de referencia hay valores incorrectos, en ella necesariamente también habrán valores incorrectos.\n",
        "* Respecto a `Fecha`, se observa que el año más antiguo es de 1800. Este valor probablemente es erróneo, pues es muy improbable que RaSa tenga 224 años de antigüedad. Adicionalmente, este valor marca un gran contraste con los valores del percentil 25, 50 y 75. Eliminando este valor, los registros van del año 2017 al 2018."
      ]
    },
    {
      "cell_type": "code",
      "execution_count": null,
      "metadata": {
        "id": "EmLonYBb1E6q",
        "outputId": "c6f5f1d5-9745-4bc4-dbea-037ce6707458"
      },
      "outputs": [
        {
          "data": {
            "image/png": "[encoded data removed]",
            "text/plain": [
              "<Figure size 360x360 with 1 Axes>"
            ]
          },
          "metadata": {
            "needs_background": "light"
          },
          "output_type": "display_data"
        }
      ],
      "source": [
        "# boxplot para Poblacion\n",
        "%matplotlib inline\n",
        "import matplotlib.pyplot as plt\n",
        "var=\"PoblacionAct\"\n",
        "data = f1.select(var).toPandas()[var]\n",
        "fig = plt.figure(figsize =(5, 5))\n",
        "plt.boxplot(data)\n",
        "plt.title(\"Diagrama de cajas y bigotes \"+var)\n",
        "plt.ylim(0, 300000)\n",
        "plt.show()"
      ]
    },
    {
      "cell_type": "markdown",
      "metadata": {
        "id": "ur6YKiOu1E6r"
      },
      "source": [
        "El gráfico anterior permite observar de forma más clara la distribución de la población. A partir de 250.000 habitantes aproximadamente, los valores se consideran atípicamente altos. También, se puede ver que la mayoría de los datos corresponde a condados con menos de 50.000 habitantes."
      ]
    },
    {
      "cell_type": "code",
      "execution_count": null,
      "metadata": {
        "id": "5E6hCdda1E6r",
        "outputId": "6a37e1bd-571a-4f2a-f5bd-d109251820b8"
      },
      "outputs": [
        {
          "data": {
            "image/png": "[encoded data removed]",
            "text/plain": [
              "<Figure size 360x360 with 1 Axes>"
            ]
          },
          "metadata": {
            "needs_background": "light"
          },
          "output_type": "display_data"
        }
      ],
      "source": [
        "var=\"Fecha\"\n",
        "data = f1.select(var).toPandas()[var]\n",
        "fig = plt.figure(figsize =(5, 5))\n",
        "plt.boxplot(data)\n",
        "plt.title(\"Diagrama de cajas y bigotes \"+var)\n",
        "plt.ylim(2015, 2020)\n",
        "plt.show()"
      ]
    },
    {
      "cell_type": "code",
      "execution_count": null,
      "metadata": {
        "id": "OrLBu-1c1E6t",
        "outputId": "59dcc53b-fbeb-45ba-80ca-1ef511a54202"
      },
      "outputs": [
        {
          "data": {
            "text/plain": [
              "2017    99211\n",
              "2018    83322\n",
              "1800     6282\n",
              "Name: Fecha, dtype: int64"
            ]
          },
          "execution_count": 35,
          "metadata": {},
          "output_type": "execute_result"
        }
      ],
      "source": [
        "data.value_counts()"
      ]
    },
    {
      "cell_type": "markdown",
      "metadata": {
        "id": "durPb4va1E6t"
      },
      "source": [
        "Se observa que casi todos los datos corresponden a 2017 o 2018. Tal es el caso, que la caja no tiene bigotes. Adicionalmente, más de 6000 valores tienen como registro al año 1800, lo cual es incorrecto. Lo más probable es que sea uno de los dos años mencionados previamente, por lo cual es recomendable realizar una imputación simple, y no eliminar los datos."
      ]
    },
    {
      "cell_type": "markdown",
      "metadata": {
        "id": "gELV6_H_1E6u"
      },
      "source": [
        "### Análisis de calidad de datos\n",
        "\n",
        "A lo largo del análisis de entendimiento que se ha realizado, se han identificado varios problemas de calidad de datos, que se profundizarán en esta sección en orden. Se introducen las funciones vistas en los tutoriales del curso, para facilitar el análisis.\n"
      ]
    },
    {
      "cell_type": "code",
      "execution_count": null,
      "metadata": {
        "id": "1dMI8IK21E6u"
      },
      "outputs": [],
      "source": [
        "def contar_vacios(f1):\n",
        "    for i in f1.columns:\n",
        "        vacios = vacios = f1.filter(f1[i].isNull()).count()\n",
        "        vacios=(vacios/f1.count())*100\n",
        "        print('Nulos para '+i+': '+str( vacios ))\n",
        "    return None\n",
        "\n",
        "def cardinalidad(f1):\n",
        "    resultado = {}\n",
        "    for c in f1.columns:\n",
        "        cardinalidad = f1.select(col(c)).distinct().count()\n",
        "        if cardinalidad>=f1.count()*0.5:\n",
        "            resultado[c] = cardinalidad\n",
        "    return resultado"
      ]
    },
    {
      "cell_type": "markdown",
      "metadata": {
        "id": "uBkKOQ6b1E6v"
      },
      "source": [
        "* **Completitud**\n",
        "\n",
        "Se verifica el porcentaje de nulos por columna:"
      ]
    },
    {
      "cell_type": "code",
      "execution_count": null,
      "metadata": {
        "id": "6itOduu81E6v",
        "outputId": "a7797a53-4d1f-42f4-eb38-f7baf56d5c4e"
      },
      "outputs": [
        {
          "name": "stdout",
          "output_type": "stream",
          "text": [
            "Nulos para IdAreaDeServicio_T: 3.330243889521489\n",
            "Nulos para NombreAreaDeServicio: 0.0\n",
            "Nulos para IdGeografia_T: 3.377909594047083\n",
            "Nulos para Condado: 0.0\n",
            "Nulos para Estado: 0.0\n",
            "Nulos para PoblacionAct: 0.0\n",
            "Nulos para Area: 1.2747927865900484\n",
            "Nulos para Densidad: 1.2747927865900484\n",
            "Nulos para Fecha: 0.0\n"
          ]
        }
      ],
      "source": [
        "contar_vacios(f1)"
      ]
    },
    {
      "cell_type": "markdown",
      "metadata": {
        "id": "zQQUu3aC1E6w"
      },
      "source": [
        "Como se puede ver, el porcentaje de nulos más alto existente en los datos es de 3.38%, para la columna `IdGeografia_T`. Al ser un porcentaje tan bajo de nulos, se sugiere para las etapas de análisis eliminar estos registros del conjunto de datos."
      ]
    },
    {
      "cell_type": "markdown",
      "metadata": {
        "id": "FDyUUBn31E6x"
      },
      "source": [
        "* **Unicidad**\n",
        "\n",
        "A continuación, se verifica por registros repetidos en el conjunto de datos:"
      ]
    },
    {
      "cell_type": "code",
      "execution_count": null,
      "metadata": {
        "id": "-REzGTk41E6x",
        "outputId": "021a97eb-67d6-46bd-9ac3-dfd5ec0a32d5"
      },
      "outputs": [
        {
          "data": {
            "text/plain": [
              "'Existen 43573 observaciones repetidas en el conjunto de datos.'"
            ]
          },
          "execution_count": 33,
          "metadata": {},
          "output_type": "execute_result"
        }
      ],
      "source": [
        "def filas_repetidas(f1):\n",
        "    antes = f1.count()\n",
        "\n",
        "   # eliminar duplicados y volver a contar las filas\n",
        "    f1_2 = f1.dropDuplicates()\n",
        "    despues = f1_2.count()\n",
        "    # Calculate number of repeated rows\n",
        "    repetidos=antes-despues\n",
        "    resp=\"Existen \"+str(repetidos)+ \" observaciones repetidas en el conjunto de datos.\"\n",
        "    return resp\n",
        "filas_repetidas(f1)"
      ]
    },
    {
      "cell_type": "code",
      "execution_count": null,
      "metadata": {
        "id": "UWVU4mvz1E6y",
        "outputId": "90a80a94-c01c-42da-f4c7-6947dbbc91d8"
      },
      "outputs": [
        {
          "data": {
            "text/plain": [
              "188815"
            ]
          },
          "execution_count": 34,
          "metadata": {},
          "output_type": "execute_result"
        }
      ],
      "source": [
        "f1.count()"
      ]
    },
    {
      "cell_type": "markdown",
      "metadata": {
        "id": "ULi8rB0o1E6z"
      },
      "source": [
        "El cálculo anterior deja en evidencia un problema importante para esta tabla, ya que los datos repetidos corresponden al 23% del total de los datos, lo cual es una pérdida considerable de información. Lo más prudente es eliminar estos registros para las fases de análisis."
      ]
    },
    {
      "cell_type": "markdown",
      "metadata": {
        "id": "eGyPzMDB1E60"
      },
      "source": [
        "* **Consistencia**\n",
        "\n",
        "En el análisis exploratorio, no se encontraron problemas de consistencia. Un posible problema podría ser que el campo de `IdGeografia_T` no tenga una referencia en su respectiva tabla."
      ]
    },
    {
      "cell_type": "markdown",
      "metadata": {
        "id": "rSVTfgnA1E61"
      },
      "source": [
        "* **Validez**\n",
        "\n",
        "El análisis descriptivo ha revelado múltiples problemas de validez, que se mencionan a continuación:\n",
        "* Para las variables `PoblacionAct`, `Area` y `Densidad`, existen problemas de datos atípicos, que deben corregirse antes de realizar la fase de análisis. Se sugiere eliminar dichos valores.\n",
        "* Para la variable `Fecha`, hay igualmente un problema con una fecha atípica (1800). Examinando el conjunto de datos, se sugiere imputar ya sea 2017 o 2018, y no eliminar los datos.\n",
        "* La variable `PoblacionAct` debería tener un formato de entero, debido a la naturaleza de los datos. No es posible tener poblaciones de personas no enteras, por definición.\n",
        "\n"
      ]
    },
    {
      "cell_type": "markdown",
      "metadata": {
        "tags": [],
        "id": "pmk-CHDy1E61"
      },
      "source": [
        "### 6. Preguntas al negocio\n",
        "\n",
        "* ¿ Existe una razón para que los datos tengan un porcentaje tan alto de observaciones repetidas, que impida su eliminación?\n",
        "\n",
        "* Dada la marcada presencia de valores atípicos en los datos, ¿Existe un error inherente al proceso de recolección de información que pueda estar ocasionando dicho problema?\n"
      ]
    },
    {
      "cell_type": "markdown",
      "metadata": {
        "id": "Vj86Eeop1E61"
      },
      "source": [
        "<a id=\"s3\"></a>\n",
        "## F2. TiposBeneficios: FuenteTiposBeneficio_Copia_E"
      ]
    },
    {
      "cell_type": "code",
      "execution_count": null,
      "metadata": {
        "id": "8iNSqNao1E62"
      },
      "outputs": [],
      "source": [
        "sql_f2 = 'RaSaTransaccional.FuenteTiposf2_Copia_E'\n",
        "sql_f3 = 'RaSaTransaccional.Fuentef3f2_Copia_E'\n",
        "sql_f4 = 'RaSaTransaccional.Fuentef4DeServicio_Copia_E'"
      ]
    },
    {
      "cell_type": "code",
      "execution_count": null,
      "metadata": {
        "id": "ezAQA9cl1E62"
      },
      "outputs": [],
      "source": [
        "#Se cargan los dataframes desde la base de datos\n",
        "f2 = obtener_dataframe_de_bd(db_connection_string, sql_f2, db_user, db_psswd)\n",
        "f3 = obtener_dataframe_de_bd(db_connection_string, sql_f3, db_user, db_psswd)\n",
        "f4 = obtener_dataframe_de_bd(db_connection_string, sql_f4, db_user, db_psswd)\n"
      ]
    },
    {
      "cell_type": "markdown",
      "metadata": {
        "id": "fXchnBpP1E63"
      },
      "source": [
        "### Entendimiento general de datos"
      ]
    },
    {
      "cell_type": "markdown",
      "metadata": {
        "id": "NABTJRmZ1E63"
      },
      "source": [
        "Visualización de las primeras 5 filas del dataframe"
      ]
    },
    {
      "cell_type": "code",
      "execution_count": null,
      "metadata": {
        "id": "wtkRDbCj1E64",
        "outputId": "487ab455-134e-45b9-ff34-06e25a1f5c55"
      },
      "outputs": [
        {
          "name": "stdout",
          "output_type": "stream",
          "text": [
            "+-----------------+--------------------+--------------------+-----+---------------------+-----------------------+----------------------------------------+---------------------------------------+-----+\n",
            "|IdTipoBeneficio_T|              Nombre|     UnidadDelLimite|EsEHB|EstaCubiertaPorSeguro|TieneLimiteCuantitativo|ExcluidoDelDesembolsoMaximoDentroDeLaRed|ExcluidoDelDesembolsoMaximoFueraDeLaRed|Fecha|\n",
            "+-----------------+--------------------+--------------------+-----+---------------------+-----------------------+----------------------------------------+---------------------------------------+-----+\n",
            "|              565|Nutritional Couns...|                    |   No|                  Yes|                     No|                                      No|                                    Yes| 2017|\n",
            "|              795|Rehabilitative Sp...|Days per Benefit ...|  Yes|                  Yes|                    Yes|                                      No|                                    Yes| 2017|\n",
            "|              200| Denture Adjustments|                    |   No|                  Yes|                     No|                                      No|                                    Yes| 2017|\n",
            "|              335|        Hearing Aids| Item(s) per 3 Years|  Yes|                  Yes|                    Yes|                                      No|                                    Yes| 2017|\n",
            "|              570|Occlusal Adjustments|Procedure(s) per ...|   No|                  Yes|                    Yes|                                      No|                                    Yes| 2017|\n",
            "+-----------------+--------------------+--------------------+-----+---------------------+-----------------------+----------------------------------------+---------------------------------------+-----+\n",
            "only showing top 5 rows\n",
            "\n"
          ]
        }
      ],
      "source": [
        "f2.show(5)"
      ]
    },
    {
      "cell_type": "markdown",
      "metadata": {
        "id": "GfBiI1821E64"
      },
      "source": [
        "* idTipoBeneficio_T: identificador del tipo de beneficio\n",
        "* Nombre: nombre del tipo de beneficio\n",
        "* UnidadDelLimite: unidad en la que se expresa el límite\n",
        "* EsEHB: Es beneficio esencial de salud\n",
        "* EstaCubiertoPorSeguro: Indica si el seguor lo cubre\n",
        "* TieneLimiteCuantitativo: Indica si tiene limiente cuantitativo\n",
        "* ExcluidoDelDesembolsoMaximoDentroDeLaRed: indica si está excluído del desembolso máximo dentro de la red\n",
        "* ExcluidoDelDesembolsoMaximoFueraDeLaRed: indica si está excluído del desembolso máximo fuera de la red\n",
        "* Fecha: Fecha en que se definel el tipo de beneficio\n",
        "\n",
        "Esta tabla define los diferentes beneficios que se puede tener"
      ]
    },
    {
      "cell_type": "code",
      "execution_count": null,
      "metadata": {
        "id": "_5Ct6iK_1E65",
        "outputId": "0a65cb27-7961-4794-8b1d-3227a67d1410"
      },
      "outputs": [
        {
          "data": {
            "text/plain": [
              "StructType(List(StructField(IdTipoBeneficio_T,IntegerType,true),StructField(Nombre,StringType,true),StructField(UnidadDelLimite,StringType,true),StructField(EsEHB,StringType,true),StructField(EstaCubiertaPorSeguro,StringType,true),StructField(TieneLimiteCuantitativo,StringType,true),StructField(ExcluidoDelDesembolsoMaximoDentroDeLaRed,StringType,true),StructField(ExcluidoDelDesembolsoMaximoFueraDeLaRed,StringType,true),StructField(Fecha,IntegerType,true)))"
            ]
          },
          "metadata": {},
          "output_type": "display_data"
        }
      ],
      "source": [
        "f2.schema"
      ]
    },
    {
      "cell_type": "markdown",
      "metadata": {
        "id": "-HXVvAtI1E66"
      },
      "source": [
        "IntegerType:\n",
        "+ IdTipoBeneficio_T\n",
        "+ Fecha\n",
        "\n",
        "StringType:\n",
        "+ Nombre\n",
        "+ UnidadDelLimite\n",
        "+ EsEHB\n",
        "+ EstaCubiertaPorSeguro\n",
        "+ TieneLimiteCuantitativo\n",
        "+ ExcluidoDelDesembolsoMaximoDentroDeLaRed\n",
        "+ ExcluidoDelDesembolsoMaximoFueraDeLaRed\n",
        "\n",
        "Todos los campos admiten valores nulos (nullable=true)"
      ]
    },
    {
      "cell_type": "code",
      "execution_count": null,
      "metadata": {
        "id": "9K-o5xvQ1E66",
        "outputId": "378c35e3-68b5-4829-9f99-79b5fb542318"
      },
      "outputs": [
        {
          "data": {
            "text/plain": [
              "StructType(List(StructField(IdTipoBeneficio_T,LongType,true),StructField(IdAreaDeServicio_T,LongType,true),StructField(IdCondicionDePagoCopago_T,IntegerType,true),StructField(IdCondicionDePagoCoseguro_T,IntegerType,true),StructField(IdNivelServicio_T,IntegerType,true),StructField(IdPlan_T,StringType,true),StructField(Fecha,StringType,true),StructField(IdProveedor_T,IntegerType,true),StructField(valorCopago,IntegerType,true),StructField(valorCoseguro,IntegerType,true),StructField(cantidadLimite,IntegerType,true)))"
            ]
          },
          "metadata": {},
          "output_type": "display_data"
        }
      ],
      "source": [
        "f3.schema"
      ]
    },
    {
      "cell_type": "code",
      "execution_count": null,
      "metadata": {
        "id": "5q-nHHbK1E67",
        "outputId": "c258db9c-3d7a-409b-bf9f-7923a53bc752"
      },
      "outputs": [
        {
          "data": {
            "text/plain": [
              "StructType(List(StructField(IdAreaDeServicio_T,IntegerType,true),StructField(NombreAreaDeServicio,StringType,true),StructField(IdGeografia_T,IntegerType,true),StructField(Condado,StringType,true),StructField(Estado,StringType,true),StructField(PoblacionAct,DoubleType,true),StructField(Area,DoubleType,true),StructField(Densidad,DoubleType,true),StructField(Fecha,IntegerType,true)))"
            ]
          },
          "metadata": {},
          "output_type": "display_data"
        }
      ],
      "source": [
        "f4.schema"
      ]
    },
    {
      "cell_type": "code",
      "execution_count": null,
      "metadata": {
        "id": "J3Hyd9Va1E68",
        "outputId": "4ad3e576-73a7-4a13-8350-fc29cae0bf91"
      },
      "outputs": [
        {
          "name": "stdout",
          "output_type": "stream",
          "text": [
            "+------------------+--------------------+-------------+-----------------+----------+------------+------+--------+-----+\n",
            "|IdAreaDeServicio_T|NombreAreaDeServicio|IdGeografia_T|          Condado|    Estado|PoblacionAct|  Area|Densidad|Fecha|\n",
            "+------------------+--------------------+-------------+-----------------+----------+------------+------+--------+-----+\n",
            "|         100622017|New Jersey - Medi...|        34005|Burlington County|New Jersey|    464269.0| 805.0|   577.0| 2017|\n",
            "|         101012018|New Jersey - Medi...|        34031|   Passaic County|New Jersey|    518117.0| 185.0|  2801.0| 2018|\n",
            "|          10132017|BlueOptions16842F...|        12031|     Duval County|   Florida|    999935.0| 774.0|  1292.0| 2017|\n",
            "|         101982018|New Jersey - Medi...|        34003|    Bergen County|New Jersey|    953819.0| 234.0|  4076.0| 2018|\n",
            "|         102012017|New Jersey - Medi...|        34021|    Mercer County|New Jersey|    385898.0| 226.0|  1708.0| 2017|\n",
            "|         102012017|New Jersey - Medi...|        34023| Middlesex County|New Jersey|    860807.0| 311.0|  2768.0| 2017|\n",
            "|          10242017|BlueOptions16842F...|        12107|    Putnam County|   Florida|     74167.0| 722.0|   103.0| 2017|\n",
            "|          10252017|BlueOptions16842F...|        12055| Highlands County|   Florida|    103296.0|1028.0|   100.0| 2017|\n",
            "|          10262017|BlueOptions16842F...|        12085|    Martin County|   Florida|    159942.0| 556.0|   288.0| 2017|\n",
            "|          10272017|BlueOptions16842F...|        12059|    Holmes County|   Florida|     19784.0| 482.0|    41.0| 2017|\n",
            "|          10282017|BlueOptions16842F...|        12035|   Flagler County|   Florida|    120932.0| 485.0|   249.0| 2017|\n",
            "|         103082018|New Jersey - Medi...|        34003|    Bergen County|New Jersey|    953819.0| 234.0|  4076.0| 2018|\n",
            "|         103392018|AmeriHealth Advan...|        34029|     Ocean County|New Jersey|    648998.0| 636.0|  1020.0| 2018|\n",
            "|          10352017|BlueOptions16842F...|        12083|    Marion County|   Florida|    385915.0|1579.0|   244.0| 2017|\n",
            "|         103612018|AmeriHealth Advan...|        34035|  Somerset County|New Jersey|    345647.0| 305.0|  1133.0| 2018|\n",
            "|          10372017|BlueOptions16842F...|        12093|Okeechobee County|   Florida|     40266.0| 774.0|    52.0| 2017|\n",
            "|          10382017|BlueOptions16842F...|        12081|   Manatee County|   Florida|    412703.0| 741.0|   557.0| 2017|\n",
            "|         104122018|AmeriHealth Advan...|        34025|  Monmouth County|New Jersey|    645354.0| 472.0|  1367.0| 2018|\n",
            "|         104402018|AmeriHealth Advan...|        34005|Burlington County|New Jersey|    464269.0| 805.0|   577.0| 2018|\n",
            "|          10472017|BlueOptions16842F...|        12097|   Osceola County|   Florida|    403282.0|1322.0|   305.0| 2017|\n",
            "+------------------+--------------------+-------------+-----------------+----------+------------+------+--------+-----+\n",
            "only showing top 20 rows\n",
            "\n"
          ]
        }
      ],
      "source": [
        "f4.show()"
      ]
    },
    {
      "cell_type": "code",
      "execution_count": null,
      "metadata": {
        "id": "G2IGCyXm1E68",
        "outputId": "5528a068-dd55-46b7-c374-b30db61fe095"
      },
      "outputs": [
        {
          "name": "stdout",
          "output_type": "stream",
          "text": [
            "(849, 9)\n"
          ]
        }
      ],
      "source": [
        "print((f2.count(), len(f2.columns)))"
      ]
    },
    {
      "cell_type": "code",
      "execution_count": null,
      "metadata": {
        "id": "jvP8cECg1E69",
        "outputId": "fa89f11d-48a9-46d8-e6a0-4946149b0b56"
      },
      "outputs": [
        {
          "name": "stdout",
          "output_type": "stream",
          "text": [
            "(188815, 9)\n"
          ]
        }
      ],
      "source": [
        "print((f4.count(), len(f4.columns)))"
      ]
    },
    {
      "cell_type": "markdown",
      "metadata": {
        "id": "Wpl1LXu11E6_"
      },
      "source": [
        "La tabla TipoBeneficio tiene 9 variables y 849 registros en su contenido"
      ]
    },
    {
      "cell_type": "markdown",
      "metadata": {
        "id": "a0ycBr_91E6_"
      },
      "source": [
        "### Revisión de reglas de negocio\n",
        "\n",
        "- Los tipos de beneficios con límite cuantitativo deben tener una cantidad límite diferente de cero en los planes que los ofrecen.\n",
        "\n",
        "Para validar esto inicialmente revisaremos los valore únicos de la variable TieneLimiteCuantitativo"
      ]
    },
    {
      "cell_type": "code",
      "execution_count": null,
      "metadata": {
        "id": "9HJSOo1j1E7A",
        "outputId": "cdcf0130-b44b-4439-f938-17ec40697792"
      },
      "outputs": [
        {
          "name": "stdout",
          "output_type": "stream",
          "text": [
            "+-----------------------+-----+\n",
            "|TieneLimiteCuantitativo|count|\n",
            "+-----------------------+-----+\n",
            "|                   Nein|   24|\n",
            "|                     No|  542|\n",
            "|                    Yes|  271|\n",
            "|                     Si|   12|\n",
            "+-----------------------+-----+\n",
            "\n"
          ]
        }
      ],
      "source": [
        "TieneLimite_unicos = f2.select('TieneLimiteCuantitativo').distinct()\n",
        "TieneLimite_unicos_conteo = f2.groupBy('TieneLimiteCuantitativo').count()\n",
        "TieneLimite_unicos_conteo.show()"
      ]
    },
    {
      "cell_type": "markdown",
      "metadata": {
        "id": "slyFY6Ne1E7B"
      },
      "source": [
        "Se puede apreciar que hay 4 diferentes usadas en la variable TieneLimiteCuantitativo, 'Si', 'No', 'Yes' (Si en inglés) y 'Nein' (posible descripcion de no, traducción en Alemán)"
      ]
    },
    {
      "cell_type": "code",
      "execution_count": null,
      "metadata": {
        "id": "pGJmq0kL1E7C",
        "outputId": "960f81d2-71f7-4d73-8ec1-5a86d1146695"
      },
      "outputs": [
        {
          "name": "stdout",
          "output_type": "stream",
          "text": [
            "Número de registros que cumplen con las condiciones: 0\n"
          ]
        }
      ],
      "source": [
        "df_joined = f3.join(f2, \"IdTipof2_T\", \"inner\")\n",
        "\n",
        "# Filtrar según las f4 especificadas\n",
        "filtrado_df = df_joined.filter(\n",
        "    (df_joined.cantidadLimite <= 0) &\n",
        "    ((df_joined.TieneLimiteCuantitativo == 'Si') | (df_joined.TieneLimiteCuantitativo == 'Yes'))\n",
        ")\n",
        "\n",
        "# Contar los registros que cumplen con las f4\n",
        "conteo = filtrado_df.count()\n",
        "\n",
        "# Mostrar el resultado\n",
        "print(f\"Número de registros que cumplen con las f4: {conteo}\")"
      ]
    },
    {
      "cell_type": "markdown",
      "metadata": {
        "id": "eUhNUWL_1E7D"
      },
      "source": [
        "Se puede apreciar que se cumple la regla de negocio dado que los registros cuyo valor en la variable TieneLimiteCuantitativo es 'Si' o 'Yes', tienen todos valores diferentes de 0"
      ]
    },
    {
      "cell_type": "markdown",
      "metadata": {
        "id": "1LVbLJMb1E7D"
      },
      "source": [
        "- Las fuentes FuenteAreasDeServicio_Copia_E y FuenteTiposBeneficio_Copia_E comparten información de los años 2017 al 2019\n",
        "\n",
        "Se evalúa el rango de fechas para cada tabla dado que no tienen variables en común"
      ]
    },
    {
      "cell_type": "code",
      "execution_count": null,
      "metadata": {
        "id": "_3j2v_PQ1E7E",
        "outputId": "72c290d2-f880-4b24-bf95-d27bd5456a1d"
      },
      "outputs": [
        {
          "name": "stdout",
          "output_type": "stream",
          "text": [
            "Número de registros entre 2017 y 2019 para la tabla Beneficios: 849\n",
            "Número de registros entre 2017 y 2019 para la tabla Areas: 182533\n"
          ]
        }
      ],
      "source": [
        "df_f2s_filtered = f2.filter((f2.Fecha >= 2017) & (f2.Fecha <= 2019))\n",
        "df_f4_filtered = f4.filter((f4.Fecha >= 2017) & (f4.Fecha <= 2019))\n",
        "\n",
        "# Mostrar el resultado\n",
        "print(f\"Número de registros entre 2017 y 2019 para la tabla f2s: {df_f2s_filtered.count()}\")\n",
        "print(f\"Número de registros entre 2017 y 2019 para la tabla f4: {df_f4_filtered.count()}\")"
      ]
    },
    {
      "cell_type": "code",
      "execution_count": null,
      "metadata": {
        "id": "viVedxvl1E7F",
        "outputId": "2d176760-24f6-401b-839a-3a65295e73c4"
      },
      "outputs": [
        {
          "name": "stdout",
          "output_type": "stream",
          "text": [
            "+-----+\n",
            "|Fecha|\n",
            "+-----+\n",
            "| 2018|\n",
            "| 1800|\n",
            "| 2017|\n",
            "+-----+\n",
            "\n"
          ]
        }
      ],
      "source": [
        "Fecha_unicos = f4.select('Fecha').distinct()\n",
        "Fecha_unicos.show()"
      ]
    },
    {
      "cell_type": "code",
      "execution_count": null,
      "metadata": {
        "id": "n2uGDxOi1E7G",
        "outputId": "c52a4f8b-d249-4bab-f654-4180a2d16229"
      },
      "outputs": [
        {
          "name": "stdout",
          "output_type": "stream",
          "text": [
            "+-----+-----+\n",
            "|Fecha|count|\n",
            "+-----+-----+\n",
            "| 2018|83322|\n",
            "| 1800| 6282|\n",
            "| 2017|99211|\n",
            "+-----+-----+\n",
            "\n"
          ]
        }
      ],
      "source": [
        "Fecha_unicos_conteo = f4.groupBy('Fecha').count()\n",
        "Fecha_unicos_conteo.show()"
      ]
    },
    {
      "cell_type": "markdown",
      "metadata": {
        "id": "wmGl4Mli1E7H"
      },
      "source": [
        "Se aprecia que la tabla Tipo Beneficios cumple la condición para las fechas, pero la tabla de áreas no, se hace la revisión para evaluar los datos y se encuentra que 6282 registros tienen fecha de 1800, lo quedebe ser un error"
      ]
    },
    {
      "cell_type": "markdown",
      "metadata": {
        "id": "xYz80QKQ1E7H"
      },
      "source": [
        "### Análisis descriptivo\n",
        "A continuación se muestran los estadisticos generales como conteo, mínimo, máximo, desviación estandar y percentiles utilizando summary()"
      ]
    },
    {
      "cell_type": "code",
      "execution_count": null,
      "metadata": {
        "id": "EQn0vtoW1E7J",
        "outputId": "5c02b511-c0a1-4941-f9c8-9051f5b51616"
      },
      "outputs": [
        {
          "name": "stdout",
          "output_type": "stream",
          "text": [
            "+-------+-----------------+--------------------+-----------------+-----+---------------------+-----------------------+----------------------------------------+---------------------------------------+-------------------+\n",
            "|summary|IdTipoBeneficio_T|              Nombre|  UnidadDelLimite|EsEHB|EstaCubiertaPorSeguro|TieneLimiteCuantitativo|ExcluidoDelDesembolsoMaximoDentroDeLaRed|ExcluidoDelDesembolsoMaximoFueraDeLaRed|              Fecha|\n",
            "+-------+-----------------+--------------------+-----------------+-----+---------------------+-----------------------+----------------------------------------+---------------------------------------+-------------------+\n",
            "|  count|              849|                 849|              849|  849|                  849|                    849|                                     849|                                    849|                849|\n",
            "|   mean|  504.62308598351|                null|             null| null|                 null|                   null|                                    null|                                   null|  2017.208480565371|\n",
            "| stddev|305.0836557627739|                null|             null| null|                 null|                   null|                                    null|                                   null|0.40646157760308743|\n",
            "|    min|                5|Abortion for Whic...|                 |   No|                False|                   Nein|                           Algunas veces|                                     No|               2017|\n",
            "|    25%|              220|                null|             null| null|                 null|                   null|                                    null|                                   null|               2017|\n",
            "|    50%|              510|                null|             null| null|                 null|                   null|                                    null|                                   null|               2017|\n",
            "|    75%|              790|                null|             null| null|                 null|                   null|                                    null|                                   null|               2017|\n",
            "|    max|             1055|X-rays and Diagno...|Visit(s) per year|  Yes|                  Yes|                    Yes|                                     Yes|                                    Yes|               2018|\n",
            "+-------+-----------------+--------------------+-----------------+-----+---------------------+-----------------------+----------------------------------------+---------------------------------------+-------------------+\n",
            "\n"
          ]
        }
      ],
      "source": [
        "f2.summary().show()"
      ]
    },
    {
      "cell_type": "markdown",
      "metadata": {
        "id": "EGjNsRMd1E7J"
      },
      "source": [
        "Dada la naturaleza de las variables, estos estadisticos generales no explican muy bien con se comportan las variables. A continuación se harán los gráficos de distribución y de caja para apreciar mejor"
      ]
    },
    {
      "cell_type": "code",
      "execution_count": null,
      "metadata": {
        "id": "7jJPfW8Z1E7K",
        "outputId": "d1b69328-ab6a-4800-f818-0324e9bb6146"
      },
      "outputs": [
        {
          "name": "stderr",
          "output_type": "stream",
          "text": [
            "C:\\Users\\estudiante\\anaconda3\\envs\\Tutoriales\\lib\\site-packages\\ipykernel_launcher.py:19: UserWarning: Tight layout not applied. The bottom and top margins cannot be made large enough to accommodate all axes decorations.\n"
          ]
        },
        {
          "data": {
            "image/png": "[encoded data removed]",
            "text/plain": [
              "<Figure size 720x360 with 1 Axes>"
            ]
          },
          "metadata": {},
          "output_type": "display_data"
        },
        {
          "name": "stderr",
          "output_type": "stream",
          "text": [
            "C:\\Users\\estudiante\\anaconda3\\envs\\Tutoriales\\lib\\site-packages\\ipykernel_launcher.py:19: UserWarning: Tight layout not applied. The bottom and top margins cannot be made large enough to accommodate all axes decorations.\n"
          ]
        },
        {
          "data": {
            "image/png": "[encoded data removed]",
            "text/plain": [
              "<Figure size 720x360 with 1 Axes>"
            ]
          },
          "metadata": {},
          "output_type": "display_data"
        },
        {
          "data": {
            "image/png": "[encoded data removed]",
            "text/plain": [
              "<Figure size 720x360 with 1 Axes>"
            ]
          },
          "metadata": {},
          "output_type": "display_data"
        },
        {
          "data": {
            "image/png": "[encoded data removed]",
            "text/plain": [
              "<Figure size 720x360 with 1 Axes>"
            ]
          },
          "metadata": {},
          "output_type": "display_data"
        },
        {
          "data": {
            "image/png": "[encoded data removed]",
            "text/plain": [
              "<Figure size 720x360 with 1 Axes>"
            ]
          },
          "metadata": {},
          "output_type": "display_data"
        },
        {
          "data": {
            "image/png": "[encoded data removed]",
            "text/plain": [
              "<Figure size 720x360 with 1 Axes>"
            ]
          },
          "metadata": {},
          "output_type": "display_data"
        },
        {
          "data": {
            "image/png": "[encoded data removed]",
            "text/plain": [
              "<Figure size 720x360 with 1 Axes>"
            ]
          },
          "metadata": {},
          "output_type": "display_data"
        }
      ],
      "source": [
        "%matplotlib inline\n",
        "import matplotlib.pyplot as plt\n",
        "\n",
        "#fig1, ax1 = plt.subplots()\n",
        "#ax1.set_title('Cantidad de productos')\n",
        "#ax1.boxplot(np.array(detallesOrdenes.select('Cantidad').collect()))\n",
        "\n",
        "string_cols = [f.name for f in f2.schema.fields if isinstance(f.dataType, StringType)]\n",
        "\n",
        "for columna in string_cols:\n",
        "\n",
        "    value_counts = f2.groupBy(columna).count().orderBy('count', ascending=False).toPandas()\n",
        "    plt.figure(figsize=(10, 5))\n",
        "    plt.bar(value_counts[columna], value_counts['count'], color='skyblue')\n",
        "    plt.title(f'Distribución de {columna}')\n",
        "    plt.xlabel('Valores')\n",
        "    plt.ylabel('Frecuencia')\n",
        "    plt.xticks(rotation=90)  # Rotar etiquetas para mejor visualización\n",
        "    plt.tight_layout()  # Ajustar layout\n",
        "    plt.show()\n"
      ]
    },
    {
      "cell_type": "markdown",
      "metadata": {
        "id": "RnpIkNjQ1E7K"
      },
      "source": [
        "## Análisis de calidad de datos\n",
        "A continuación validamos la calidad de los datos basados en 4 dimensiones:\n",
        "- Completitud: Datos que no existen o no se conocen\n",
        "- Unicidad (Duplicidad): Datos que son idénticos en diferentes registros o registros con valores idénticos en atributos en los que no debería ocurrir\n",
        "- Consistencia: Esta medida se define por la validez o integridad del dato, en la definición de su estructura, al interior de una fila o entre diferentes filas de la misma fuente o de diferentes fuentes. El manejo de unidades en los datos y el significado del dato son generadores de inconsistencias.\n",
        "- Validez: a nivel de formato y de sentido de los datos más alla de sus valores"
      ]
    },
    {
      "cell_type": "markdown",
      "metadata": {
        "id": "nqOvqWWj1E7L"
      },
      "source": [
        "### Unicidad y validez\n",
        "\n",
        "En este punto debemos verificar que no existen registros identicos en todas las columnas o que los valores de la llave primaria no se repiten, pues este último atributo no debería repetirse."
      ]
    },
    {
      "cell_type": "code",
      "execution_count": null,
      "metadata": {
        "id": "5gGdKUGU1E7L",
        "outputId": "99b132b8-9e04-4d27-efd4-d4f150b8aad8"
      },
      "outputs": [
        {
          "name": "stdout",
          "output_type": "stream",
          "text": [
            "Existen filas repetidas\n",
            "El contenido de la tabla es 849 y el número de valores únicos es 578\n"
          ]
        }
      ],
      "source": [
        "if f2.count() != f2.distinct().count():\n",
        "    print('Existen filas repetidas')\n",
        "    print(f'El contenido de la tabla es {f2.count()} y el número de valores únicos es {f2.distinct().count()}')"
      ]
    },
    {
      "cell_type": "code",
      "execution_count": null,
      "metadata": {
        "id": "Fv7Mit6U1E7M",
        "outputId": "c3c0b081-e181-4c41-8516-7c1c082d7e55"
      },
      "outputs": [
        {
          "name": "stdout",
          "output_type": "stream",
          "text": [
            "+-----------------+-----+\n",
            "|idTipoBeneficio_T|count|\n",
            "+-----------------+-----+\n",
            "|              540|    5|\n",
            "|               85|   13|\n",
            "|              580|    2|\n",
            "|               65|    2|\n",
            "|              255|    3|\n",
            "|              970|    3|\n",
            "|              375|    2|\n",
            "|              115|    2|\n",
            "|              830|   19|\n",
            "|             1030|   14|\n",
            "|              460|    4|\n",
            "|              350|   11|\n",
            "|              860|    2|\n",
            "|              875|    2|\n",
            "|              330|   14|\n",
            "|              625|    5|\n",
            "|              190|   29|\n",
            "|              225|    2|\n",
            "|              360|    9|\n",
            "|              725|    8|\n",
            "+-----------------+-----+\n",
            "only showing top 20 rows\n",
            "\n"
          ]
        },
        {
          "data": {
            "text/plain": [
              "132"
            ]
          },
          "metadata": {},
          "output_type": "display_data"
        }
      ],
      "source": [
        "\n",
        "valores_repetidos_f2 = f2.groupBy('idTipof2_T').count().filter(col('count') > 1)\n",
        "valores_repetidos_f2.show()\n",
        "valores_repetidos_f2.count()"
      ]
    },
    {
      "cell_type": "markdown",
      "metadata": {
        "id": "ypCdN-4j1E7M"
      },
      "source": [
        "Se observa que la tabla TipoBeneficio contiene valores duplucados, de 849 registros, solo 578 son valores únicos. Al buscar por la variable identificadora de la tabla, se encuentra que 132 ID están utilizados más una vez."
      ]
    },
    {
      "cell_type": "code",
      "execution_count": null,
      "metadata": {
        "id": "tN4UUA2M1E7N",
        "outputId": "a167f383-4734-42ec-febe-220e12113a32"
      },
      "outputs": [
        {
          "name": "stdout",
          "output_type": "stream",
          "text": [
            "+-----------------+-------------+----------------------+------------+----------------------------+------------------------------+----------------------------+---------------------------+\n",
            "|IdTipoBeneficio_T|unique_Nombre|unique_UnidadDelLimite|unique_EsEHB|unique_EstaCubiertaPorSeguro|unique_TieneLimiteCuantitativo|unique_ExcluidoDentroDeLaRed|unique_ExcluidoFueraDeLaRed|\n",
            "+-----------------+-------------+----------------------+------------+----------------------------+------------------------------+----------------------------+---------------------------+\n",
            "|              540|            1|                     2|           2|                           1|                             2|                           1|                          2|\n",
            "|               85|            1|                     3|           2|                           2|                             2|                           1|                          2|\n",
            "|              255|            1|                     1|           1|                           1|                             1|                           1|                          2|\n",
            "|              375|            1|                     1|           2|                           1|                             1|                           1|                          2|\n",
            "|              830|            1|                     9|           1|                           1|                             3|                           1|                          2|\n",
            "|             1030|            1|                     3|           2|                           2|                             2|                           2|                          2|\n",
            "|              460|            1|                     1|           2|                           2|                             1|                           1|                          1|\n",
            "|              350|            1|                     6|           2|                           1|                             2|                           1|                          2|\n",
            "|              860|            1|                     2|           1|                           1|                             1|                           1|                          1|\n",
            "|              875|            1|                     1|           1|                           1|                             1|                           1|                          2|\n",
            "|              330|            1|                     5|           2|                           1|                             3|                           1|                          2|\n",
            "|              625|            1|                     1|           1|                           1|                             1|                           1|                          2|\n",
            "|              225|            1|                     1|           1|                           1|                             1|                           1|                          2|\n",
            "|              190|            1|                    11|           2|                           2|                             2|                           1|                          2|\n",
            "|              360|            1|                     4|           1|                           1|                             2|                           1|                          2|\n",
            "|              725|            1|                     1|           2|                           2|                             1|                           1|                          2|\n",
            "|              140|            1|                     1|           1|                           2|                             1|                           1|                          2|\n",
            "|             1055|            1|                     1|           1|                           1|                             1|                           1|                          2|\n",
            "|              305|            1|                     2|           2|                           1|                             2|                           1|                          2|\n",
            "|              435|            1|                     1|           1|                           1|                             1|                           1|                          2|\n",
            "+-----------------+-------------+----------------------+------------+----------------------------+------------------------------+----------------------------+---------------------------+\n",
            "only showing top 20 rows\n",
            "\n"
          ]
        },
        {
          "data": {
            "text/plain": [
              "96"
            ]
          },
          "metadata": {},
          "output_type": "display_data"
        }
      ],
      "source": [
        "from pyspark.sql.functions import col, count, countDistinct\n",
        "# Agrupar por 'IdTipof2_T' y contar valores únicos en las otras columnas\n",
        "distinct_counts = f2.groupBy('IdTipof2_T').agg(\n",
        "    countDistinct('Nombre').alias('unique_Nombre'),\n",
        "    countDistinct('UnidadDelLimite').alias('unique_UnidadDelLimite'),\n",
        "    countDistinct('EsEHB').alias('unique_EsEHB'),\n",
        "    countDistinct('EstaCubiertaPorSeguro').alias('unique_EstaCubiertaPorSeguro'),\n",
        "    countDistinct('TieneLimiteCuantitativo').alias('unique_TieneLimiteCuantitativo'),\n",
        "    countDistinct('ExcluidoDelDesembolsoMaximoDentroDeLaRed').alias('unique_ExcluidoDentroDeLaRed'),\n",
        "    countDistinct('ExcluidoDelDesembolsoMaximoFueraDeLaRed').alias('unique_ExcluidoFueraDeLaRed')\n",
        ")\n",
        "\n",
        "# Filtrar los resultados donde alguna columna tiene más de un valor único\n",
        "conflicting_records = distinct_counts.filter(\n",
        "    (col('unique_Nombre') > 1) |\n",
        "    (col('unique_UnidadDelLimite') > 1) |\n",
        "    (col('unique_EsEHB') > 1) |\n",
        "    (col('unique_EstaCubiertaPorSeguro') > 1) |\n",
        "    (col('unique_TieneLimiteCuantitativo') > 1) |\n",
        "    (col('unique_ExcluidoDentroDeLaRed') > 1) |\n",
        "    (col('unique_ExcluidoFueraDeLaRed') > 1)\n",
        ")\n",
        "\n",
        "# Mostrar los resultados\n",
        "conflicting_records.show()\n",
        "conflicting_records.count()\n"
      ]
    },
    {
      "cell_type": "markdown",
      "metadata": {
        "id": "pCAv26nc1E7O"
      },
      "source": [
        "Se evalua el contenido de los datos para los registros con ID duplicado, de los 132 registros que tienen al menos 1 duplicado, 96 de ellos tienen contenido diferente en las demás variables"
      ]
    },
    {
      "cell_type": "markdown",
      "metadata": {
        "id": "SeEokkyX1E7P"
      },
      "source": [
        "### Completitud y validez"
      ]
    },
    {
      "cell_type": "code",
      "execution_count": null,
      "metadata": {
        "id": "7hQUUJJD1E7P"
      },
      "outputs": [],
      "source": [
        "def contar_vacios(df):\n",
        "    resultados = []\n",
        "    for c in df.columns:\n",
        "        vacios = df.filter(df[c].isNull()).count()\n",
        "        if vacios!=0:\n",
        "            print('número de vacíos para columna '+c+': '+str( vacios ))\n",
        "            resultados.append(vacios)\n",
        "    return resultados\n",
        "\n",
        "def cardinalidad(df):\n",
        "    resultado = {}\n",
        "    for c in df.columns:\n",
        "        cardinalidad = df.select(col(c)).distinct().count()\n",
        "        if cardinalidad>=df.count()*0.5:\n",
        "            resultado[c] = cardinalidad\n",
        "    return resultado"
      ]
    },
    {
      "cell_type": "code",
      "execution_count": null,
      "metadata": {
        "id": "6EAixvib1E7Q",
        "outputId": "fc6f00fe-caee-4167-cc2e-eeceab2b4aa2"
      },
      "outputs": [
        {
          "name": "stdout",
          "output_type": "stream",
          "text": [
            "detalles de Beneficio: \n"
          ]
        }
      ],
      "source": [
        "columnas_vacias_f2 = contar_vacios(f2)\n",
        "print('detalles de Beneficio: ')\n"
      ]
    },
    {
      "cell_type": "code",
      "execution_count": null,
      "metadata": {
        "id": "EATDrICv1E7R",
        "outputId": "926781be-e490-4666-bdfc-f4da2700132e"
      },
      "outputs": [
        {
          "data": {
            "text/plain": [
              "{}"
            ]
          },
          "metadata": {},
          "output_type": "display_data"
        }
      ],
      "source": [
        "columnas_alta_cardinalidad_f2 = cardinalidad(f2)\n",
        "columnas_alta_cardinalidad_f2\n"
      ]
    },
    {
      "cell_type": "markdown",
      "metadata": {
        "id": "b1QbDf0P1E7R"
      },
      "source": [
        "De las celdas anteriores se puede apreciar que la tabla TipoBeneficio no contiene valores Nulos, tampoco existe alta cardinalidad entre sus variables"
      ]
    },
    {
      "cell_type": "markdown",
      "metadata": {
        "id": "-fpXVFfR1E7S"
      },
      "source": [
        "<a id=\"s4\"></a>\n",
        "## F3. BeneficiosPlanes: FuentePlanesBeneficio_Copia_E"
      ]
    },
    {
      "cell_type": "code",
      "execution_count": null,
      "metadata": {
        "id": "sTcioQpx1E7T",
        "outputId": "6f09931c-31fa-400e-a504-6665ea38302c"
      },
      "outputs": [
        {
          "name": "stdout",
          "output_type": "stream",
          "text": [
            "+-----------------+------------------+-------------------------+---------------------------+-----------------+-----------------+----------+-------------+-----------+-------------+--------------+\n",
            "|IdTipoBeneficio_T|IdAreaDeServicio_T|IdCondicionDePagoCopago_T|IdCondicionDePagoCoseguro_T|IdNivelServicio_T|         IdPlan_T|     Fecha|IdProveedor_T|valorCopago|valorCoseguro|cantidadLimite|\n",
            "+-----------------+------------------+-------------------------+---------------------------+-----------------+-----------------+----------+-------------+-----------+-------------+--------------+\n",
            "|              640|          10382017|                       34|                         27|                3|16842FL0070128-03|2017-12-31|        16842|          0|           50|            35|\n",
            "|              225|          31512017|                      238|                         45|                2|29418TX0140002-04|2017-12-31|        29418|          0|            0|          null|\n",
            "|              190|          66252017|                      238|                         45|                1|52697WI0010002-00|2017-12-31|        52697|          0|            0|          null|\n",
            "|              620|          49492017|                       34|                         45|                3|38166WI0180012-06|2017-12-31|        38166|          0|          100|          null|\n",
            "|              795|          37872017|                       34|                         45|                3|33602TX0460322-03|2017-12-31|        33602|          0|          100|          null|\n",
            "+-----------------+------------------+-------------------------+---------------------------+-----------------+-----------------+----------+-------------+-----------+-------------+--------------+\n",
            "only showing top 5 rows\n",
            "\n"
          ]
        },
        {
          "name": "stderr",
          "output_type": "stream",
          "text": [
            "                                                                                \r"
          ]
        }
      ],
      "source": [
        "f3.show(5)"
      ]
    },
    {
      "cell_type": "markdown",
      "metadata": {
        "id": "CjGb2kHZ1E7U"
      },
      "source": [
        "### Perfilamiento de datos"
      ]
    },
    {
      "cell_type": "code",
      "execution_count": null,
      "metadata": {
        "id": "iIc4_2zB1E7V",
        "outputId": "f3f7e761-0857-4767-a696-ad7b34ee8577"
      },
      "outputs": [
        {
          "name": "stdout",
          "output_type": "stream",
          "text": [
            "root\n",
            " |-- IdTipoBeneficio_T: long (nullable = true)\n",
            " |-- IdAreaDeServicio_T: long (nullable = true)\n",
            " |-- IdCondicionDePagoCopago_T: integer (nullable = true)\n",
            " |-- IdCondicionDePagoCoseguro_T: integer (nullable = true)\n",
            " |-- IdNivelServicio_T: integer (nullable = true)\n",
            " |-- IdPlan_T: string (nullable = true)\n",
            " |-- Fecha: string (nullable = true)\n",
            " |-- IdProveedor_T: integer (nullable = true)\n",
            " |-- valorCopago: integer (nullable = true)\n",
            " |-- valorCoseguro: integer (nullable = true)\n",
            " |-- cantidadLimite: integer (nullable = true)\n",
            "\n"
          ]
        }
      ],
      "source": [
        "f3.printSchema()"
      ]
    },
    {
      "cell_type": "markdown",
      "metadata": {
        "id": "tiCGK0TM1E7W"
      },
      "source": [
        "El esquema de la tabla a analizar consta de las siguientes columnas: 2 columnas de tipo long las cuales corresponden a los identificadores del tipo del beneficio y al área de servicio; 7 atributos de tipo integer los cuales representan los identificadores de la condición de pago Copago, Coseguro, el nivel del servicio, el proveedor, el valor de Copago y Coseguro y la cantidad límite del tipo de beneficio; finalmente, se presentan dos atributos de tipo string que corresponden con la fecha de la oferta del beneficio para ese plan y el identificador del nivel del beneficio."
      ]
    },
    {
      "cell_type": "markdown",
      "metadata": {
        "id": "F1x_ORMV1E7X"
      },
      "source": [
        "Resumen diccionario:\n",
        "\n",
        "- idPlan_T: identificador del plan\n",
        "- idTipoBeneficio_T: identificador del tipo de beneficio\n",
        "- idAreaDeServicio_T: identificador del área de servicio\n",
        "- idCondicionesDePagoCopago_T: identificador de la condicion de pago Copago\n",
        "- idCondicionesDePagoCoseguro_T: identificador de la condicion de pago Coseguro\n",
        "- idProveedor_T: identificador del proveedor del plan\n",
        "- Fecha: Fecha de oferta del beneficio para ese plan\n",
        "- idNivelServicio_T: identificador del nivel de servicio\n",
        "- valorCopago: valor del copago\n",
        "- valorCoseguro: valor del coseguro"
      ]
    },
    {
      "cell_type": "code",
      "execution_count": null,
      "metadata": {
        "id": "avKNdSXP1E7X",
        "outputId": "08e65943-1aa8-4382-92b8-6b98c9bf26ca"
      },
      "outputs": [
        {
          "name": "stdout",
          "output_type": "stream",
          "text": [
            "36036 11\n"
          ]
        }
      ],
      "source": [
        "print(f3.count(), len(f3.columns))"
      ]
    },
    {
      "cell_type": "markdown",
      "metadata": {
        "id": "66isciZ51E7Z"
      },
      "source": [
        "Existen 36036 registros con 11 columnas en la tabla solicitada."
      ]
    },
    {
      "cell_type": "markdown",
      "metadata": {
        "id": "2bCdHnEq1E7Z"
      },
      "source": [
        "Análisis de valores extremos para Copago y Coseguro"
      ]
    },
    {
      "cell_type": "code",
      "execution_count": null,
      "metadata": {
        "id": "b-XG_EzM1E7a",
        "outputId": "c9d2e51e-d251-4ea2-ea29-08da4d7b59c5"
      },
      "outputs": [
        {
          "data": {
            "image/png": "[encoded data removed]",
            "text/plain": [
              "<Figure size 1000x600 with 1 Axes>"
            ]
          },
          "metadata": {},
          "output_type": "display_data"
        },
        {
          "data": {
            "image/png": "[encoded data removed]",
            "text/plain": [
              "<Figure size 1000x600 with 1 Axes>"
            ]
          },
          "metadata": {},
          "output_type": "display_data"
        }
      ],
      "source": [
        "f3_pd = f3.toPandas()\n",
        "\n",
        "plt.figure(figsize=(10, 6))\n",
        "sns.boxplot(y=f3_pd[\"valorCopago\"])\n",
        "plt.title('Distribución de Valores de Copago')\n",
        "plt.ylabel('Valor Copago')\n",
        "plt.show()\n",
        "\n",
        "plt.figure(figsize=(10, 6))\n",
        "sns.boxplot(y=f3_pd[\"valorCoseguro\"])\n",
        "plt.title('Distribución de Valores de Coseguro')\n",
        "plt.ylabel('Valor Coseguro')\n",
        "plt.show()"
      ]
    },
    {
      "cell_type": "markdown",
      "metadata": {
        "id": "YciuSiW41E7b"
      },
      "source": [
        "Distribución de valor de Copago"
      ]
    },
    {
      "cell_type": "code",
      "execution_count": null,
      "metadata": {
        "id": "Rp94CmAk1E7c",
        "outputId": "4a7e01f7-5ac2-4df1-af0f-92385254f37c"
      },
      "outputs": [
        {
          "data": {
            "image/png": "[encoded data removed]",
            "text/plain": [
              "<Figure size 1200x600 with 1 Axes>"
            ]
          },
          "metadata": {},
          "output_type": "display_data"
        }
      ],
      "source": [
        "import seaborn as sns\n",
        "plt.figure(figsize=(12, 6))\n",
        "sns.histplot(f3_pd[\"valorCopago\"], bins=30, kde=True)\n",
        "plt.xlabel('Valor de Copago')\n",
        "plt.ylabel('Frecuencia')\n",
        "plt.title('Distribución de Valor de Copago')\n",
        "plt.show()"
      ]
    },
    {
      "cell_type": "markdown",
      "metadata": {
        "id": "9NUoeE6N1E7d"
      },
      "source": [
        "Distribución de valor de Coseguro"
      ]
    },
    {
      "cell_type": "code",
      "execution_count": null,
      "metadata": {
        "id": "kBBWH8YJ1E7e",
        "outputId": "4db27bbc-609c-4a4e-e57b-f0a652d20051"
      },
      "outputs": [
        {
          "data": {
            "image/png": "[encoded data removed]",
            "text/plain": [
              "<Figure size 1200x600 with 1 Axes>"
            ]
          },
          "metadata": {},
          "output_type": "display_data"
        }
      ],
      "source": [
        "plt.figure(figsize=(12, 6))\n",
        "sns.histplot(f3_pd[\"valorCoseguro\"], bins=30, kde=True)\n",
        "plt.xlabel('Valor de Coseguro')\n",
        "plt.ylabel('Frecuencia')\n",
        "plt.title('Distribución de Valor de Coseguro')\n",
        "plt.show()"
      ]
    },
    {
      "cell_type": "markdown",
      "metadata": {
        "id": "mraQ4YY_1E7e"
      },
      "source": [
        "Relación entre Copago y Coseguro"
      ]
    },
    {
      "cell_type": "code",
      "execution_count": null,
      "metadata": {
        "id": "QpE5tQTg1E7f",
        "outputId": "039fcc50-df75-4a68-8f2a-274c0b1c173b"
      },
      "outputs": [
        {
          "data": {
            "image/png": "[encoded data removed]",
            "text/plain": [
              "<Figure size 1000x600 with 1 Axes>"
            ]
          },
          "metadata": {},
          "output_type": "display_data"
        }
      ],
      "source": [
        "plt.figure(figsize=(10, 6))\n",
        "sns.scatterplot(x=f3_pd[\"valorCopago\"], y=f3_pd[\"valorCoseguro\"])\n",
        "plt.xlabel('Valor Copago')\n",
        "plt.ylabel('Valor Coseguro')\n",
        "plt.title('Relación entre Valor de Copago y Valor de Coseguro')\n",
        "plt.show()"
      ]
    },
    {
      "cell_type": "markdown",
      "metadata": {
        "id": "Vn0n7oF21E7g"
      },
      "source": [
        "## Análisis de calidad de datos"
      ]
    },
    {
      "cell_type": "markdown",
      "metadata": {
        "id": "Q48x5o901E7g"
      },
      "source": [
        "### Completitud\n",
        "\n",
        "Se imprime la cantidad de registros nulos por cada columna."
      ]
    },
    {
      "cell_type": "code",
      "execution_count": null,
      "metadata": {
        "id": "em8dIvs41E7h",
        "outputId": "02f6ae73-e704-4a0e-9042-c870ca6e7a79"
      },
      "outputs": [
        {
          "data": {
            "text/plain": [
              "{'IdTipoBeneficio_T': 2086,\n",
              " 'IdAreaDeServicio_T': 2041,\n",
              " 'IdCondicionDePagoCopago_T': 0,\n",
              " 'IdCondicionDePagoCoseguro_T': 0,\n",
              " 'IdNivelServicio_T': 0,\n",
              " 'IdPlan_T': 0,\n",
              " 'Fecha': 0,\n",
              " 'IdProveedor_T': 0,\n",
              " 'valorCopago': 0,\n",
              " 'valorCoseguro': 0,\n",
              " 'cantidadLimite': 30571}"
            ]
          },
          "metadata": {},
          "output_type": "display_data"
        }
      ],
      "source": [
        "{col:f3.filter(f3[col].isNull()).count() for col in f3.columns}"
      ]
    },
    {
      "cell_type": "markdown",
      "metadata": {
        "id": "R2srEbnT1E7h"
      },
      "source": [
        "### Duplicidad\n",
        "\n",
        "Se imprime la cantidad de registros duplicados por cada columna.\n"
      ]
    },
    {
      "cell_type": "code",
      "execution_count": null,
      "metadata": {
        "id": "WZlqFb281E7i",
        "outputId": "4d811574-c06e-49a3-ca28-011c3599656d"
      },
      "outputs": [
        {
          "data": {
            "text/plain": [
              "{'IdTipoBeneficio_T': 264,\n",
              " 'IdAreaDeServicio_T': 5750,\n",
              " 'IdCondicionDePagoCopago_T': 14,\n",
              " 'IdCondicionDePagoCoseguro_T': 5,\n",
              " 'IdNivelServicio_T': 3,\n",
              " 'IdPlan_T': 392,\n",
              " 'Fecha': 5,\n",
              " 'IdProveedor_T': 125,\n",
              " 'valorCopago': 47,\n",
              " 'valorCoseguro': 23,\n",
              " 'cantidadLimite': 42}"
            ]
          },
          "metadata": {},
          "output_type": "display_data"
        }
      ],
      "source": [
        "{c: f3.groupBy(c).count().filter(col(\"count\") > 1).count() for c in f3.columns}"
      ]
    },
    {
      "cell_type": "markdown",
      "metadata": {
        "id": "CmCoBRl31E7i"
      },
      "source": [
        "### Consistencia\n",
        "\n",
        "Se imprimen los registros que se salen de un estándar generalmente utilizado por la mayoría de registros, en este caso en el formato de las fechas para el formato 'Fecha'."
      ]
    },
    {
      "cell_type": "code",
      "execution_count": null,
      "metadata": {
        "id": "tLBbdol41E7j",
        "outputId": "da22c5cc-c38d-4d91-d8fa-57cfb9355e2e"
      },
      "outputs": [
        {
          "name": "stdout",
          "output_type": "stream",
          "text": [
            "Total de registros con formato fecha distinto a yyyy-mm-dd: 2056\n"
          ]
        }
      ],
      "source": [
        "fechas_invalidas = f3.filter(to_date(col(\"Fecha\"), 'yyyy-MM-dd').isNull()).count()\n",
        "print(f\"Total de registros con formato fecha distinto a yyyy-mm-dd: {fechas_invalidas}\")"
      ]
    },
    {
      "cell_type": "markdown",
      "metadata": {
        "id": "1t2puEb71E7k"
      },
      "source": [
        "Ejemplo de fechas con un formato distino."
      ]
    },
    {
      "cell_type": "code",
      "execution_count": null,
      "metadata": {
        "id": "6uh1C3Lf1E7l",
        "outputId": "4e6cd814-5eb3-4d91-fd92-63a70fa89bd8"
      },
      "outputs": [
        {
          "name": "stdout",
          "output_type": "stream",
          "text": [
            "+-----------+\n",
            "|      Fecha|\n",
            "+-----------+\n",
            "|Dec 31,2017|\n",
            "|Dec 31,2017|\n",
            "|Dec 31,2018|\n",
            "|Dec 31,2017|\n",
            "|Dec 31,2017|\n",
            "+-----------+\n",
            "only showing top 5 rows\n",
            "\n"
          ]
        }
      ],
      "source": [
        "from pyspark.sql.functions import to_date, year\n",
        "f3.filter(to_date(col(\"Fecha\"), 'yyyy-MM-dd').isNull()).select('Fecha').show(5)"
      ]
    },
    {
      "cell_type": "markdown",
      "metadata": {
        "id": "Cm_PO-pj1E7m"
      },
      "source": [
        "### Validez\n",
        "\n",
        "Se imprime la cantidad de registros que tengan valores no podrían ser válidos en el contexto del aplicativo y considerando la naturaleza de los campos."
      ]
    },
    {
      "cell_type": "code",
      "execution_count": null,
      "metadata": {
        "id": "qtcEOWZp1E7n",
        "outputId": "5f93aadd-a39f-4e92-d061-2c1fb27913d5"
      },
      "outputs": [
        {
          "name": "stdout",
          "output_type": "stream",
          "text": [
            "Total valores inválidos: 0\n"
          ]
        }
      ],
      "source": [
        "no_validos = f3.filter(\n",
        "    (col(\"IdTipoBeneficio_T\") < 0) |\n",
        "    (col(\"IdAreaDeServicio_T\") < 0) |\n",
        "    (col(\"IdCondicionDePagoCopago_T\") < 0) |\n",
        "    (col(\"IdCondicionDePagoCoseguro_T\") < 0) |\n",
        "    (col(\"IdNivelServicio_T\") < 0) |\n",
        "    (col(\"IdProveedor_T\") < 0) |\n",
        "    (col(\"valorCopago\") < 0) |\n",
        "    (col(\"valorCoseguro\") < 0) |\n",
        "    (col(\"cantidadLimite\") < 0)\n",
        ").count()\n",
        "print(f\"Total valores inválidos: {no_validos}\")"
      ]
    },
    {
      "cell_type": "code",
      "execution_count": null,
      "metadata": {
        "id": "HNyf7Vab1E7o"
      },
      "outputs": [],
      "source": [
        "f3 = f3.withColumn(\"Fecha\", to_date(col(\"Fecha\"), \"yyyy-MM-dd\"))"
      ]
    },
    {
      "cell_type": "markdown",
      "metadata": {
        "id": "4E3kGIk61E7p"
      },
      "source": [
        "Validar tipos de beneficios con límite cuantitativo deben tener una cantidad límite diferente de cero"
      ]
    },
    {
      "cell_type": "code",
      "execution_count": null,
      "metadata": {
        "id": "tI-xXCxA1E7q",
        "outputId": "9eff1633-a45b-4d8a-b843-35e6ef538912"
      },
      "outputs": [
        {
          "name": "stdout",
          "output_type": "stream",
          "text": [
            "Planes con valor de copago excedido en 2018:\n",
            "+-----------------+------------------+-------------------------+---------------------------+-----------------+-----------------+----------+-------------+-----------+-------------+--------------+\n",
            "|IdTipoBeneficio_T|IdAreaDeServicio_T|IdCondicionDePagoCopago_T|IdCondicionDePagoCoseguro_T|IdNivelServicio_T|         IdPlan_T|     Fecha|IdProveedor_T|valorCopago|valorCoseguro|cantidadLimite|\n",
            "+-----------------+------------------+-------------------------+---------------------------+-----------------+-----------------+----------+-------------+-----------+-------------+--------------+\n",
            "|              480|           9492018|                      204|                         36|                1|16322PA0050102-00|2018-12-31|        16322|       3500|            0|          null|\n",
            "|              415|           9632018|                      204|                         36|                1|16322PA0050102-00|2018-12-31|        16322|       3500|            0|          null|\n",
            "|              175|           9652018|                      238|                         36|                1|16322PA0050102-00|2018-12-31|        16322|       3500|            0|          null|\n",
            "|              990|           9732018|                      238|                         36|                1|16322PA0050102-00|2018-12-31|        16322|       3500|            0|          null|\n",
            "|              865|           9542018|                      204|                         36|                1|16322PA0050102-00|2018-12-31|        16322|       3500|            0|           120|\n",
            "|             1950|           9492018|                      204|                         36|                1|16322PA0050102-00|2018-12-31|        16322|       3500|            0|          null|\n",
            "|             1950|           9492018|                      204|                         36|                1|16322PA0050102-00|2018-12-31|        16322|       3500|            0|          null|\n",
            "|              175|           9652018|                      238|                         36|                1|16322PA0050102-00|2018-12-31|        16322|       3500|            0|          null|\n",
            "+-----------------+------------------+-------------------------+---------------------------+-----------------+-----------------+----------+-------------+-----------+-------------+--------------+\n",
            "\n",
            "No existen planes con valor de coseguro excedido en 2018\n"
          ]
        }
      ],
      "source": [
        "f3_2018 = f3.filter(year(col(\"Fecha\")) == 2018)\n",
        "\n",
        "f3_copago_exceeded = f3_2018.filter(col(\"valorCopago\") > 3300)\n",
        "f3_coseguro_exceeded = f3_2018.filter(col(\"valorCoseguro\") > 100)\n",
        "\n",
        "if f3_copago_exceeded.count() > 0:\n",
        "    print(\"Planes con valor de copago excedido en 2018:\")\n",
        "    f3_copago_exceeded.show()\n",
        "else:\n",
        "    print(\"No existen planes con valor de copago excedido en 2018\")\n",
        "\n",
        "\n",
        "if f3_coseguro_exceeded.count() > 0:\n",
        "    print(\"Planes con valor de coseguro excedido en 2018:\")\n",
        "    f3_coseguro_exceeded.show()\n",
        "else:\n",
        "    print(\"No existen planes con valor de coseguro excedido en 2018\")"
      ]
    },
    {
      "cell_type": "markdown",
      "metadata": {
        "id": "GqHzs8GJ1E71"
      },
      "source": [
        "Verificar que las fechas estén dentro del rango de 2017 a 2019"
      ]
    },
    {
      "cell_type": "code",
      "execution_count": null,
      "metadata": {
        "id": "XU1mDO_v1E72",
        "outputId": "69d5580d-f17e-46fb-d90d-b5547be8a467"
      },
      "outputs": [
        {
          "name": "stdout",
          "output_type": "stream",
          "text": [
            "Planes con fechas fuera del rango 2017-2019:\n",
            "+-----------------+------------------+-------------------------+---------------------------+-----------------+-----------------+----------+-------------+-----------+-------------+--------------+\n",
            "|IdTipoBeneficio_T|IdAreaDeServicio_T|IdCondicionDePagoCopago_T|IdCondicionDePagoCoseguro_T|IdNivelServicio_T|         IdPlan_T|     Fecha|IdProveedor_T|valorCopago|valorCoseguro|cantidadLimite|\n",
            "+-----------------+------------------+-------------------------+---------------------------+-----------------+-----------------+----------+-------------+-----------+-------------+--------------+\n",
            "|              130|          55212018|                       34|                         18|                1|41047OH0010019-04|1920-12-31|        41047|          0|            0|          null|\n",
            "|              640|          46162017|                       34|                         27|                1|37833WI0510044-03|1920-12-31|        37833|          0|           20|          null|\n",
            "|              830|          46912018|                      238|                         45|                2|37833WI0540010-01|1920-12-31|        37833|          0|            0|             1|\n",
            "|              735|          39312017|                      238|                         45|                3|33602TX0780065-02|1920-12-31|        33602|          0|            0|          null|\n",
            "|              400|          78152017|                      238|                         45|                1|66252TX0030004-02|1920-12-31|        66252|          0|            0|          null|\n",
            "|              865|          95882017|                      238|                         45|                2|87571OK0350035-02|1920-12-31|        87571|          0|            0|            30|\n",
            "|              490|          38422017|                       34|                         27|                3|33602TX0770014-01|1920-12-31|        33602|          0|           50|          null|\n",
            "|               30|          95672017|                      238|                         45|                3|87571OK0350035-02|1920-12-31|        87571|          0|            0|          null|\n",
            "|              875|          82502018|                       34|                         27|                3|67243LA0090004-03|1920-12-31|        67243|          0|           50|          null|\n",
            "|              795|          42272018|                       34|                         36|                2|36096IL0990141-03|1920-12-31|        36096|          0|            0|          null|\n",
            "|              645|          67092017|                      238|                         45|                2|52697WI0010002-00|1920-12-31|        52697|          0|            0|          null|\n",
            "|              235|          38512017|                       34|                         27|                3|33602TX0770036-05|1920-12-31|        33602|          0|           50|          null|\n",
            "|             1015|          82502018|                       34|                         27|                3|67243LA0090004-03|1920-12-31|        67243|          0|           50|          null|\n",
            "|               10|          35412018|                       34|                         27|                1|31274WV0480009-01|1920-12-31|        31274|          0|           10|          null|\n",
            "|              595|         103572018|                      238|                         45|                3|91762NJ0070093-00|1920-12-31|        91762|          0|            0|          null|\n",
            "|             1055|          58602018|                       34|                         45|                3|41921VA0020003-03|1920-12-31|        41921|          0|          100|          null|\n",
            "|              700|          50162018|                      238|                         45|                2|38345WI0080018-03|1920-12-31|        38345|          0|            0|          null|\n",
            "|              420|          45922017|                       34|                         45|                3|37833WI0380063-01|1920-12-31|        37833|          0|          100|          null|\n",
            "|              590|         117562018|                      238|                         45|                3|99969OH0080069-00|1920-12-31|        99969|          0|            0|          null|\n",
            "|               85|          28072018|                      238|                         45|                3|28162OH0060072-00|1920-12-31|        28162|          0|            0|          null|\n",
            "+-----------------+------------------+-------------------------+---------------------------+-----------------+-----------------+----------+-------------+-----------+-------------+--------------+\n",
            "only showing top 20 rows\n",
            "\n"
          ]
        }
      ],
      "source": [
        "f3_invalid_dates = f3.filter((year(col(\"Fecha\")) < 2017) | (year(col(\"Fecha\")) > 2019))\n",
        "\n",
        "if f3_invalid_dates.count() > 0:\n",
        "    print(\"Planes con fechas fuera del rango 2017-2019:\")\n",
        "    f3_invalid_dates.show()\n",
        "else:\n",
        "    print(\"No existen planes con fechas fuera del rango 2017-2019\")\n"
      ]
    },
    {
      "cell_type": "markdown",
      "metadata": {
        "id": "RAi-Qb_s1E79"
      },
      "source": [
        "<a id=\"s5\"></a>\n",
        "## F4. Tablas de referencia: FuenteCondicionesDePago_Copia_E"
      ]
    },
    {
      "cell_type": "markdown",
      "metadata": {
        "id": "f5KTgkFZ1E79"
      },
      "source": [
        "### Entendimiento general de datos"
      ]
    },
    {
      "cell_type": "code",
      "execution_count": null,
      "metadata": {
        "id": "1wmc1gUc1E79",
        "outputId": "bd92210c-1518-4e99-e2ca-4fc5effb2fff"
      },
      "outputs": [
        {
          "name": "stdout",
          "output_type": "stream",
          "text": [
            "+---------------------+--------------------+--------+\n",
            "|IdCondicionesDePago_T|         Descripcion|    Tipo|\n",
            "+---------------------+--------------------+--------+\n",
            "|                  187|Copay with deduct...|  Copago|\n",
            "|                  204|       Copay per Day|  Copago|\n",
            "|                   45|         Coinsurance|Coseguro|\n",
            "|                   85|Copay per Day bef...|  Copago|\n",
            "|                   18|No Charge after d...|Coseguro|\n",
            "+---------------------+--------------------+--------+\n",
            "only showing top 5 rows\n",
            "\n"
          ]
        }
      ],
      "source": [
        "f4.show(5)"
      ]
    },
    {
      "cell_type": "markdown",
      "metadata": {
        "id": "NPHQjXX11E7-"
      },
      "source": [
        "La consulta anterior muestra la tabla solo tiene la información relacionada a las condiciones de pago, toda la información esta relacionada al identidicador de las condiciones de pago <i>IdCondicionesDePago_T</i>."
      ]
    },
    {
      "cell_type": "code",
      "execution_count": null,
      "metadata": {
        "id": "w-K9wjIA1E7_",
        "outputId": "7ee4f2f1-bbf2-4edc-92df-bb02a1db7059"
      },
      "outputs": [
        {
          "data": {
            "text/plain": [
              "StructType(List(StructField(IdCondicionesDePago_T,IntegerType,true),StructField(Descripcion,StringType,true),StructField(Tipo,StringType,true)))"
            ]
          },
          "metadata": {},
          "output_type": "display_data"
        }
      ],
      "source": [
        "f4.schema"
      ]
    },
    {
      "cell_type": "markdown",
      "metadata": {
        "id": "2TAtdyZH1E8A"
      },
      "source": [
        "Para entender la estructura de datos con la que estamos trabajando usamos .schema, que nos muestra el tipo de dato de cada columna. En la tabla de condiciones encontramos que hay 1 variable de tipo Integer (IdCondicionesDePago_T) y 2 variables de tipo String (Descripcion, Tipo)."
      ]
    },
    {
      "cell_type": "markdown",
      "metadata": {
        "id": "_IXmnuwl1E8A"
      },
      "source": [
        "Ahora revisamos cuantos datos tenemos disponibles."
      ]
    },
    {
      "cell_type": "code",
      "execution_count": null,
      "metadata": {
        "id": "ppEgllhc1E8C",
        "outputId": "8e2f0b72-893f-4567-f8bb-78cb6942e95f"
      },
      "outputs": [
        {
          "name": "stdout",
          "output_type": "stream",
          "text": [
            "(31, 3)\n"
          ]
        }
      ],
      "source": [
        "print((f4.count(), len(f4.columns)))"
      ]
    },
    {
      "cell_type": "markdown",
      "metadata": {
        "id": "e4yniYj01E8C"
      },
      "source": [
        "**¿Cuantos datos tenemos?** En total tenemos 31 tipos de condiciones de pago y 3 variables.\n",
        "\n",
        "A continuación, se describe cada una de las variables:\n",
        "\n",
        "**IdCondicionesDePago_T</i>**: identificador de la condicion de pago\n",
        "\n",
        "**Descripcion**: descripción de la condición de pago\n",
        "\n",
        "**Tipo**: Copago o Coseguro o Anticipado"
      ]
    },
    {
      "cell_type": "markdown",
      "metadata": {
        "id": "xEvuEi8i1E8D"
      },
      "source": [
        "### Revisión de reglas de negocio\n",
        "\n",
        "Existen 15 y 5 diferentes condiciones de copago y coseguro respectivamente."
      ]
    },
    {
      "cell_type": "code",
      "execution_count": null,
      "metadata": {
        "id": "ODfWRTCG1E8E",
        "outputId": "ac8b667b-b677-492f-d25b-265bc514be46"
      },
      "outputs": [
        {
          "name": "stdout",
          "output_type": "stream",
          "text": [
            "+---------------------+--------------------+-------------+\n",
            "|IdCondicionesDePago_T|         Descripcion|         Tipo|\n",
            "+---------------------+--------------------+-------------+\n",
            "|                  187|Copay with deduct...|       Copago|\n",
            "|                  204|       Copay per Day|       Copago|\n",
            "|                   45|         Coinsurance|     Coseguro|\n",
            "|                   85|Copay per Day bef...|       Copago|\n",
            "|                   18|No Charge after d...|     Coseguro|\n",
            "|                  136|Copay per Stay wi...|       Copago|\n",
            "|                   27|Coinsurance after...|     Coseguro|\n",
            "|                  238|               Copay|       Copago|\n",
            "|                  207|No Charge after d...|       Copago|\n",
            "|                  153|Copay after deduc...|       Copago|\n",
            "|                   36|      Not Applicable|     Coseguro|\n",
            "|                   17|Copay per Day aft...|       Copago|\n",
            "|                  119|Copay per Day wit...|       Copago|\n",
            "|                  170|Copay before dedu...|       Copago|\n",
            "|                   51|           No Charge|       Copago|\n",
            "|                  102|Copay per Stay be...|       Copago|\n",
            "|                   34|      Not Applicable|     Copagado|\n",
            "|                   68|Copay per Stay af...|SinTipoCopago|\n",
            "|                  221|      Copay per Stay|          NaN|\n",
            "|                    9|           No Charge|  Coseguridad|\n",
            "|                  714|               Copay|       Copago|\n",
            "|                  135|         Coinsurance|     Coseguro|\n",
            "|                  663|      Copay per Stay|       Copago|\n",
            "|                  204|Copay per Stay af...|       Copago|\n",
            "|                   27|Coinsurance after...|     Coseguro|\n",
            "|                  221|      Copay per Stay|          NaN|\n",
            "|                  207|No Charge after d...|       Copago|\n",
            "|                   45|         Coinsurance|     Coseguro|\n",
            "|                  204|Copay per Stay af...|       Copago|\n",
            "|                  119|Copay per Day wit...|       Copago|\n",
            "|                   51|           No Charge|       Copago|\n",
            "+---------------------+--------------------+-------------+\n",
            "\n"
          ]
        },
        {
          "data": {
            "text/plain": [
              "24"
            ]
          },
          "metadata": {},
          "output_type": "display_data"
        }
      ],
      "source": [
        "f4.show(31)\n",
        "f4.distinct().count()"
      ]
    },
    {
      "cell_type": "code",
      "execution_count": null,
      "metadata": {
        "id": "Eg4wwIhV1E8E",
        "outputId": "25694c6f-640a-44f8-da90-5a55105bb6f0"
      },
      "outputs": [
        {
          "name": "stdout",
          "output_type": "stream",
          "text": [
            "Existen 14 diferentes condiciones de Copago.\n",
            "Existen 5 diferentes condiciones de Coseguro.\n"
          ]
        }
      ],
      "source": [
        "# Verificar cantidad de f4 de copago y de coseguro\n",
        "count_copago = f4.filter(col('Tipo') == 'Copago') \\\n",
        "                    .select(countDistinct('Idf4DePago_T')).collect()[0][0]\n",
        "count_coseguro = f4.filter(col('Tipo') == 'Coseguro') \\\n",
        "                    .select(countDistinct('Idf4DePago_T')).collect()[0][0]\n",
        "\n",
        "print(f\"Existen {count_copago} diferentes f4 de Copago.\")\n",
        "print(f\"Existen {count_coseguro} diferentes f4 de Coseguro.\")"
      ]
    },
    {
      "cell_type": "markdown",
      "metadata": {
        "id": "roVTB-1t1E8F"
      },
      "source": [
        "Se observa que se cumple con la cantidad de condiciones de coseguro, sin embargo, no se cumple con la cantidad de condiciones de copago.\n",
        "En total se encuentan 19 diferentes condiciones de copago y coseguro, pero existen 24 condiciones distinas, por lo tanto, se verificará a que valores corresponden las condiciones faltantes."
      ]
    },
    {
      "cell_type": "code",
      "execution_count": null,
      "metadata": {
        "id": "6dU2RX5v1E8F",
        "outputId": "6cecac65-d5db-4c5c-8a57-145fccfdc4b7"
      },
      "outputs": [
        {
          "name": "stdout",
          "output_type": "stream",
          "text": [
            "+---------------------+-------------------------------+-------------+\n",
            "|IdCondicionesDePago_T|Descripcion                    |Tipo         |\n",
            "+---------------------+-------------------------------+-------------+\n",
            "|34                   |Not Applicable                 |Copagado     |\n",
            "|68                   |Copay per Stay after deductible|SinTipoCopago|\n",
            "|221                  |Copay per Stay                 |NaN          |\n",
            "|9                    |No Charge                      |Coseguridad  |\n",
            "|221                  |Copay per Stay                 |NaN          |\n",
            "+---------------------+-------------------------------+-------------+\n",
            "\n"
          ]
        }
      ],
      "source": [
        "# Verificar valores diferentes de copago y coseguro\n",
        "otros_valores = f4.filter(~col('Tipo').isin(['Copago', 'Coseguro']))\n",
        "valores_unicos = otros_valores.select('Tipo').distinct()\n",
        "otros_valores.show(truncate=False)"
      ]
    },
    {
      "cell_type": "markdown",
      "metadata": {
        "id": "hk0LB1mc1E8G"
      },
      "source": [
        "Se encuentran varios tipos no descritos explicitamente por el negocio. Además, hay 2 valores vacíos que deberían corresponder a copagos, sin embargo, en este caso se debería confirmar con el negocio si se puede diligenciar estos registros con \"Copago\" y si las otras condiciones son validas o se trata de un error."
      ]
    },
    {
      "cell_type": "markdown",
      "metadata": {
        "id": "h4WZKv-n1E8H"
      },
      "source": [
        "### Análisis descriptivo\n",
        "A continuación se analizaran diferentes estadísticas descriptivas de los datos."
      ]
    },
    {
      "cell_type": "code",
      "execution_count": null,
      "metadata": {
        "id": "TR_K4aPg1E8H",
        "outputId": "d8670005-ade3-46d3-e4d4-2af25535bbbd"
      },
      "outputs": [
        {
          "name": "stdout",
          "output_type": "stream",
          "text": [
            "+-------+---------------------+--------------+-------------+\n",
            "|summary|IdCondicionesDePago_T|   Descripcion|         Tipo|\n",
            "+-------+---------------------+--------------+-------------+\n",
            "|  count|                   31|            31|           31|\n",
            "|   mean|   152.16129032258064|          null|          NaN|\n",
            "| stddev|   161.75312398306122|          null|          NaN|\n",
            "|    min|                    9|   Coinsurance|     Copagado|\n",
            "|    25%|                   45|          null|          NaN|\n",
            "|    50%|                  119|          null|          NaN|\n",
            "|    75%|                  204|          null|          NaN|\n",
            "|    max|                  714|Not Applicable|SinTipoCopago|\n",
            "+-------+---------------------+--------------+-------------+\n",
            "\n"
          ]
        }
      ],
      "source": [
        "f4.summary().show()"
      ]
    },
    {
      "cell_type": "markdown",
      "metadata": {
        "id": "BycvSd691E8I"
      },
      "source": [
        "En el caso particular de esta tabla no tiene sentido revisar medidas de tendencia y dispersión debido a que los datos son categóricos. Sin embargo, si se puede visualizar graficamente la distirbución de los datos."
      ]
    },
    {
      "cell_type": "code",
      "execution_count": null,
      "metadata": {
        "id": "7GomoH1a1E8J"
      },
      "outputs": [],
      "source": [
        "f4_pandas = f4.toPandas()"
      ]
    },
    {
      "cell_type": "code",
      "execution_count": null,
      "metadata": {
        "id": "S1A5TZSS1E8K",
        "outputId": "496cfb7b-224a-4834-a22a-2977ef8a2719"
      },
      "outputs": [
        {
          "data": {
            "image/png": "[encoded data removed]",
            "text/plain": [
              "<Figure size 720x432 with 1 Axes>"
            ]
          },
          "metadata": {},
          "output_type": "display_data"
        }
      ],
      "source": [
        "%matplotlib inline\n",
        "import matplotlib.pyplot as plt\n",
        "\n",
        "conteo_f4 = f4_pandas['Tipo'].value_counts().reset_index()\n",
        "conteo_f4.columns = ['Tipo', 'Cantidad']\n",
        "conteo_f4 = conteo_f4.sort_values(by='Cantidad', ascending=False)\n",
        "\n",
        "plt.figure(figsize=(10, 6))\n",
        "plt.bar(conteo_f4['Tipo'], conteo_f4['Cantidad'], color='skyblue')\n",
        "plt.xlabel('Tipo de Condición')\n",
        "plt.ylabel('Cantidad')\n",
        "plt.title('Cantidad de Veces que se Repite cada Tipo de Condición')\n",
        "plt.xticks(rotation=45, ha='right')\n",
        "plt.grid(axis='y', linestyle='--', alpha=0.7)\n",
        "plt.tight_layout()\n",
        "plt.show()"
      ]
    },
    {
      "cell_type": "markdown",
      "metadata": {
        "id": "O6ImVuOR1E8L"
      },
      "source": [
        "Lo anterior muestra que existen 18 tipos de copago, 7 tipos de coseguro, 2 tipos no identificados, 1 tipo copagado, 1 sin tipo de copago y 1 registro con coseguridad. Sin embargo, se debe tener cuidado con usar esto para realizar análisis ya que hay registros repetidos en la base de datos y se debe confirmar con el negocio los tipos de condiciones no reportados."
      ]
    },
    {
      "cell_type": "markdown",
      "metadata": {
        "id": "ebWIQPsC1E8M"
      },
      "source": [
        "## Análisis de calidad de datos\n",
        "A continuación validamos la calidad de los datos basados en 4 dimensiones:\n",
        "- Completitud: Datos que no existen o no se conocen\n",
        "- Unicidad (Duplicidad): Datos que son idénticos en diferentes registros o registros con valores idénticos en atributos en los que no debería ocurrir\n",
        "- Consistencia: Esta medida se define por la validez o integridad del dato, en la definición de su estructura, al interior de una fila o entre diferentes filas de la misma fuente o de diferentes fuentes. El manejo de unidades en los datos y el significado del dato son generadores de inconsistencias.\n",
        "- Validez: a nivel de formato y de sentido de los datos más alla de sus valores"
      ]
    },
    {
      "cell_type": "markdown",
      "metadata": {
        "id": "8xjn6eQ-1E8N"
      },
      "source": [
        "### Unicidad y validez\n",
        "\n",
        "En este punto debemos verificar que no existen registros identicos en todas las columnas o que los valores de la llave primaria no se repiten, pues este último atributo no debería repetirse."
      ]
    },
    {
      "cell_type": "code",
      "execution_count": null,
      "metadata": {
        "id": "NBpsdvpA1E8N",
        "outputId": "3baa950b-5a2b-461b-a0c3-31325b8b8e73"
      },
      "outputs": [
        {
          "data": {
            "text/plain": [
              "31"
            ]
          },
          "metadata": {},
          "output_type": "display_data"
        }
      ],
      "source": [
        "# Revisar tamaño de la tabla\n",
        "f4.count()"
      ]
    },
    {
      "cell_type": "code",
      "execution_count": null,
      "metadata": {
        "id": "IhSVbQIs1E8O",
        "outputId": "f16168ff-aef6-477d-db78-d879eeb63526"
      },
      "outputs": [
        {
          "data": {
            "text/plain": [
              "24"
            ]
          },
          "metadata": {},
          "output_type": "display_data"
        }
      ],
      "source": [
        "# Revisar valores únicos de la tabla\n",
        "f4.distinct().count()"
      ]
    },
    {
      "cell_type": "code",
      "execution_count": null,
      "metadata": {
        "id": "0xvkK37q1E8P",
        "outputId": "ef5622bb-1962-48c4-c906-031c1a03946a"
      },
      "outputs": [
        {
          "data": {
            "text/plain": [
              "7"
            ]
          },
          "metadata": {},
          "output_type": "display_data"
        }
      ],
      "source": [
        "duplicados = f4.groupBy(f4.columns).count().filter(col('count') > 1)\n",
        "duplicados.count()"
      ]
    },
    {
      "cell_type": "code",
      "execution_count": null,
      "metadata": {
        "id": "UVWrFhPX1E8R",
        "outputId": "ea51eba0-10d9-455a-cb56-f2ecba8cf092"
      },
      "outputs": [
        {
          "data": {
            "text/plain": [
              "23"
            ]
          },
          "metadata": {},
          "output_type": "display_data"
        }
      ],
      "source": [
        "# Revisar valores únicos de la llave primaria\n",
        "f4.select(countDistinct(\"Idf4DePago_T\")).collect()[0][0]"
      ]
    },
    {
      "cell_type": "code",
      "execution_count": null,
      "metadata": {
        "id": "oBjZD7Q21E8S",
        "outputId": "c0d4f224-1951-4128-b39a-d4706c458b61"
      },
      "outputs": [
        {
          "name": "stdout",
          "output_type": "stream",
          "text": [
            "+---------------------+-----+\n",
            "|IdCondicionesDePago_T|count|\n",
            "+---------------------+-----+\n",
            "|                   27|    2|\n",
            "|                  207|    2|\n",
            "|                   51|    2|\n",
            "|                   45|    2|\n",
            "|                  221|    2|\n",
            "|                  204|    3|\n",
            "|                  119|    2|\n",
            "+---------------------+-----+\n",
            "\n"
          ]
        },
        {
          "data": {
            "text/plain": [
              "7"
            ]
          },
          "metadata": {},
          "output_type": "display_data"
        }
      ],
      "source": [
        "# Revisar valores repeditos de la llave primaria\n",
        "valores_repetidos = f4.groupBy('Idf4DePago_T').count().filter(col('count') > 1)\n",
        "valores_repetidos.show()\n",
        "valores_repetidos.count()"
      ]
    },
    {
      "cell_type": "markdown",
      "metadata": {
        "id": "chKpLTD51E8T"
      },
      "source": [
        "Lo anterior muestra que la tabla de condiciones tiene 7 valores repetidos, 23 valores únicos para la llave primaria \"IdCondicionesDePago_T\", 24 valores únicos para todas las columnas y la tabla condiciones tiene 31 registros. Por lo tanto es posible afirmar que existe un valor de IdCondicionesDePago_T que tiene valores diferentes en las columnas Descripcion y Tipo. A continuación, se verifica cual es el identificador que se repite, pero no tiene los mismos valores.  "
      ]
    },
    {
      "cell_type": "code",
      "execution_count": null,
      "metadata": {
        "id": "NUrnPvBs1E8U",
        "outputId": "41c999b3-8e38-4cc4-9abe-b96d6c1acb87"
      },
      "outputs": [
        {
          "name": "stdout",
          "output_type": "stream",
          "text": [
            "+---------------------+----------+----------+\n",
            "|IdCondicionesDePago_T|count_desc|count_tipo|\n",
            "+---------------------+----------+----------+\n",
            "|204                  |2         |1         |\n",
            "+---------------------+----------+----------+\n",
            "\n"
          ]
        }
      ],
      "source": [
        "# Mostrar valor diferente de la llave primaria\n",
        "valores_diferentes = f4.groupBy('Idf4DePago_T') \\\n",
        "    .agg(countDistinct('Descripcion').alias('count_desc'),\n",
        "         countDistinct('Tipo').alias('count_tipo'))\n",
        "registros_con_diferencias = valores_diferentes.filter((col('count_desc') > 1) | (col('count_tipo') > 1))\n",
        "registros_con_diferencias.show(truncate=False)"
      ]
    },
    {
      "cell_type": "markdown",
      "metadata": {
        "id": "C_p1scVh1E8V"
      },
      "source": [
        "Al verificar que el identificador 204 se repite con valores distintos para \"Tipo\" y \"Descripción\", debemos confirmar con el negocio si existe un error en el identificador.\n",
        "Ahora, pese a que la cantidad de registros y de valores únicos no coincide con la cantidad de 20 condiciones indicadas (15 y 5 diferentes condiciones de copago y coseguro), verificaremos cuantos valores únicos de condiciones de pago y de copago existen."
      ]
    },
    {
      "cell_type": "markdown",
      "metadata": {
        "id": "MdQCfSjv1E8X"
      },
      "source": [
        "### Completitud y validez"
      ]
    },
    {
      "cell_type": "markdown",
      "metadata": {
        "id": "0iJZ0yDD1E8Y"
      },
      "source": [
        "A continuación, se verifica la cantidad de registros vacíos y las columnas con una cardinalidad superior al 50%."
      ]
    },
    {
      "cell_type": "code",
      "execution_count": null,
      "metadata": {
        "id": "wS3VE7yo1E8Z"
      },
      "outputs": [],
      "source": [
        "def contar_vacios(df):\n",
        "    resultados = []\n",
        "    for c in df.columns:\n",
        "        vacios = df.filter((col(c).isNull()) | (isnan(col(c)))).count()\n",
        "        if vacios != 0:\n",
        "            print('Número de vacíos para columna ' + c + ': ' + str(vacios))\n",
        "            resultados.append((c, vacios))\n",
        "    return resultados\n",
        "\n",
        "def cardinalidad(df):\n",
        "    resultado = {}\n",
        "    for c in df.columns:\n",
        "        cardinalidad = df.select(col(c)).distinct().count()\n",
        "        if cardinalidad>=df.count()*0.5:\n",
        "            resultado[c] = cardinalidad\n",
        "    return resultado"
      ]
    },
    {
      "cell_type": "code",
      "execution_count": null,
      "metadata": {
        "id": "9aN5ooCR1E8Z",
        "outputId": "3b869623-cf24-42e0-9346-c4d5c1e6a1eb"
      },
      "outputs": [
        {
          "name": "stdout",
          "output_type": "stream",
          "text": [
            "Número de vacíos para columna Tipo: 2\n"
          ]
        },
        {
          "data": {
            "text/plain": [
              "[('Tipo', 2)]"
            ]
          },
          "metadata": {},
          "output_type": "display_data"
        }
      ],
      "source": [
        "contar_vacios(f4)"
      ]
    },
    {
      "cell_type": "code",
      "execution_count": null,
      "metadata": {
        "id": "w5BfvfRq1E8a",
        "outputId": "a0198b68-5fc8-49e7-d6c8-e95d30061c78"
      },
      "outputs": [
        {
          "data": {
            "text/plain": [
              "{'IdCondicionesDePago_T': 23, 'Descripcion': 17}"
            ]
          },
          "metadata": {},
          "output_type": "display_data"
        }
      ],
      "source": [
        "cardinalidad(f4)"
      ]
    },
    {
      "cell_type": "markdown",
      "metadata": {
        "id": "LwLuXg3k1E8a"
      },
      "source": [
        "Lo anterior muestra que la columna Tipo tiene 2 valores vacíos, esta conclusión ya se había encontrado en la revisión de las reglas de negocio.\n",
        "Por otra parte, las columnas IdCondicionesDePago_T y Descripcion tienen un una cardinalidad superior al 50%, es decir, que tiene una alta cantidad de registros distintos, esto tiene sentido pues representan la llave primaria y la descripción de la llave primaria respectivamente, sin embargo, podemos notar que no tienen el mismo porcentaje de cardinalidad, por lo tanto, debemos analizar las columnas que tienen la misma descripción para distintas llaves."
      ]
    },
    {
      "cell_type": "code",
      "execution_count": null,
      "metadata": {
        "id": "3EuJ1YeK1E8b",
        "outputId": "6a22929f-f59f-460c-8639-a045fba61f42"
      },
      "outputs": [
        {
          "name": "stdout",
          "output_type": "stream",
          "text": [
            "+-------------------------------+---------------+\n",
            "|Descripcion                    |IdsDuplicados  |\n",
            "+-------------------------------+---------------+\n",
            "|Coinsurance                    |[45, 135, 45]  |\n",
            "|Coinsurance after deductible   |[27, 27]       |\n",
            "|Copay                          |[238, 714]     |\n",
            "|Copay per Day with deductible  |[119, 119]     |\n",
            "|Copay per Stay                 |[221, 663, 221]|\n",
            "|Copay per Stay after deductible|[68, 204, 204] |\n",
            "|No Charge                      |[51, 9, 51]    |\n",
            "|No Charge after deductible     |[18, 207, 207] |\n",
            "|Not Applicable                 |[36, 34]       |\n",
            "+-------------------------------+---------------+\n",
            "\n"
          ]
        }
      ],
      "source": [
        "# Ver registros con la misma combinación \"Descripcion\", \"Tipo\" pero diferente llave primaria\n",
        "from pyspark.sql import functions as F\n",
        "from pyspark.sql.window import Window\n",
        "\n",
        "# Definir la ventana sobre la cual agrupar por Descripcion\n",
        "windowSpec = Window.partitionBy(\"Descripcion\")\n",
        "\n",
        "# Agregar una columna con una lista de Idf4DePago_T para cada grupo de Descripcion\n",
        "f4_val = f4.withColumn(\"IdsDuplicados\", F.collect_list(\"Idf4DePago_T\").over(windowSpec))\n",
        "\n",
        "# Filtrar solo los registros donde hay más de un Idf4DePago_T en la lista\n",
        "duplicados = f4_val.filter(F.size(\"IdsDuplicados\") > 1)\n",
        "\n",
        "# Quitar duplicados en la salida para mostrar cada combinación única de Descripcion una sola vez\n",
        "resultado_final = duplicados.select(\"Descripcion\", \"IdsDuplicados\").distinct()\n",
        "\n",
        "# Mostrar el resultado final sin repetir la misma combinación varias veces\n",
        "resultado_final.orderBy(\"Descripcion\").show(truncate=False)"
      ]
    },
    {
      "cell_type": "markdown",
      "metadata": {
        "id": "ZDFJv0nQ1E8b"
      },
      "source": [
        "En la tabla anterior se muestran las descripción que tienen varias llaves primarias en la tabla, algunas son debido a los registros duplicados que vimos anteriormente (por ejemplo Coinsurance after deductible), pero hay otras 7 que efectivamente tienen más de 1 llave primaria que las representa. Esto explica porque hay 24 registros únicos en la base de datos, pero tan solo 17 valores únicos en la columna descripción. Por lo tanto, debemos confirmar con el negocio si hay un error en la descripción o si se trata de registros duplicados y el error esta en la llave primaria."
      ]
    },
    {
      "cell_type": "markdown",
      "metadata": {
        "id": "LZyQcqCvPn3c"
      },
      "source": [
        "### Consistencia\n",
        "Esta medida se define por la validez o integridad del dato, en la definición de su estructura, al interior de una fila o entre diferentes filas de la misma fuente o de diferentes fuentes.\n",
        "En este caso podríamos verificar que las llaves foraneas existen en las tablas correspondientes, verificar que los datos obligatorios no pueden ser nulos, entre otros.\n",
        "\n",
        "En este caso, ya verificamos los valores nulos, pero ahora verificaremos que todas las tablas que usan información de la tabla condiciones solo tengan los códigos que aparecen en condiciones. En nuestro caso particular, únicamente la tabla planes beneficio tiene información asociada a las condiciones."
      ]
    },
    {
      "cell_type": "code",
      "execution_count": null,
      "metadata": {
        "id": "H5NyZqmi2Ngh",
        "outputId": "9a84278e-0fcd-4e0a-f8b3-7528dcf99cd7"
      },
      "outputs": [
        {
          "name": "stdout",
          "output_type": "stream",
          "text": [
            "+-------------------------+\n",
            "|IdCondicionDePagoCopago_T|\n",
            "+-------------------------+\n",
            "|                       85|\n",
            "|                       34|\n",
            "|                      207|\n",
            "|                       17|\n",
            "|                      238|\n",
            "|                      136|\n",
            "|                       51|\n",
            "|                      102|\n",
            "|                      221|\n",
            "|                      170|\n",
            "|                      204|\n",
            "|                       68|\n",
            "|                      153|\n",
            "|                      187|\n",
            "+-------------------------+\n",
            "\n"
          ]
        },
        {
          "data": {
            "text/plain": [
              "14"
            ]
          },
          "execution_count": 35,
          "metadata": {},
          "output_type": "execute_result"
        }
      ],
      "source": [
        "planes_copago = f3.select(\"IdCondicionDePagoCopago_T\").distinct()\n",
        "planes_copago.show()\n",
        "planes_copago.count()"
      ]
    },
    {
      "cell_type": "code",
      "execution_count": null,
      "metadata": {
        "id": "mfpLZEPz2Ngi",
        "outputId": "b03c2dbf-3a9f-41de-bb8a-a3754ce5cf11"
      },
      "outputs": [
        {
          "name": "stdout",
          "output_type": "stream",
          "text": [
            "+---------------------------+\n",
            "|IdCondicionDePagoCoseguro_T|\n",
            "+---------------------------+\n",
            "|                         27|\n",
            "|                          9|\n",
            "|                         45|\n",
            "|                         18|\n",
            "|                         36|\n",
            "+---------------------------+\n",
            "\n"
          ]
        },
        {
          "data": {
            "text/plain": [
              "5"
            ]
          },
          "execution_count": 36,
          "metadata": {},
          "output_type": "execute_result"
        }
      ],
      "source": [
        "planes_coseguro = f3.select(\"IdCondicionDePagoCoseguro_T\").distinct()\n",
        "planes_coseguro.show()\n",
        "planes_coseguro.count()"
      ]
    },
    {
      "cell_type": "code",
      "execution_count": null,
      "metadata": {
        "outputId": "b03c2dbf-3a9f-41de-bb8a-a3754ce5cf11",
        "id": "YXaMA9qt2_zz"
      },
      "outputs": [
        {
          "name": "stdout",
          "output_type": "stream",
          "text": [
            "+---------------------------+\n",
            "|IdCondicionDePagoCoseguro_T|\n",
            "+---------------------------+\n",
            "|                         27|\n",
            "|                          9|\n",
            "|                         45|\n",
            "|                         18|\n",
            "|                         36|\n",
            "+---------------------------+\n",
            "\n"
          ]
        },
        {
          "data": {
            "text/plain": [
              "5"
            ]
          },
          "execution_count": 36,
          "metadata": {},
          "output_type": "execute_result"
        }
      ],
      "source": [
        "planes_coseguro = planes.select(\"IdCondicionDePagoCoseguro_T\").distinct()\n",
        "planes_coseguro.show()\n",
        "planes_coseguro.count()"
      ]
    },
    {
      "cell_type": "code",
      "execution_count": null,
      "metadata": {
        "id": "nmhG3B0H2Ngi",
        "outputId": "d4f2718d-8d18-4360-a573-748317eef01f"
      },
      "outputs": [
        {
          "name": "stdout",
          "output_type": "stream",
          "text": [
            "Códigos de Coseguro incorrectos:\n",
            "+---------------------------+---------------------+-----------+-----------+\n",
            "|IdCondicionDePagoCoseguro_T|IdCondicionesDePago_T|Descripcion|       Tipo|\n",
            "+---------------------------+---------------------+-----------+-----------+\n",
            "|                          9|                    9|  No Charge|Coseguridad|\n",
            "+---------------------------+---------------------+-----------+-----------+\n",
            "\n",
            "Códigos de Copago incorrectos:\n",
            "+-------------------------+---------------------+--------------------+-------------+\n",
            "|IdCondicionDePagoCopago_T|IdCondicionesDePago_T|         Descripcion|         Tipo|\n",
            "+-------------------------+---------------------+--------------------+-------------+\n",
            "|                       34|                   34|      Not Applicable|     Copagado|\n",
            "|                      221|                  221|      Copay per Stay|          NaN|\n",
            "|                      221|                  221|      Copay per Stay|          NaN|\n",
            "|                       68|                   68|Copay per Stay af...|SinTipoCopago|\n",
            "+-------------------------+---------------------+--------------------+-------------+\n",
            "\n"
          ]
        }
      ],
      "source": [
        "verificar_coseguro = planes_coseguro.join(\n",
        "    f4,\n",
        "    planes_coseguro[\"IdCondicionDePagoCoseguro_T\"] == f4[\"IdCondicionesDePago_T\"]\n",
        ").filter(f4[\"Tipo\"] != \"Coseguro\")\n",
        "\n",
        "verificar_copago = planes_copago.join(\n",
        "    f4,\n",
        "    planes_copago[\"IdCondicionDePagoCopago_T\"] == f4[\"IdCondicionesDePago_T\"]\n",
        ").filter(f4[\"Tipo\"] != \"Copago\")\n",
        "\n",
        "print(\"Códigos de Coseguro incorrectos:\")\n",
        "verificar_coseguro.show()\n",
        "\n",
        "print(\"Códigos de Copago incorrectos:\")\n",
        "verificar_copago.show()"
      ]
    },
    {
      "cell_type": "markdown",
      "metadata": {
        "id": "uoCZcXma1E8d"
      },
      "source": [
        "Lo anterior muestra los códigos que aparecen en la tabla de planes beneficio, pero que en la tabla de condiciones no aparecen marcados como copago o coseguro. Especificamente, en el campo que identifica la condición de pago coseguro en la tabla de planes aparece el código 9, sin embargo, este código aparece en la tabla de condiciones con el tipo \"Coseguridad\". Asimismo, en el campo que identifica la condición de pago copago aparecen los códigos 34, 221 y 68, pero estos códigos aparecen en la tabla de condiciones con los tipos \"Copagado\", NaN y \"SinTipoCopago\". Se debe verificar con el negocio si estos códigos corresponden a copago y coseguro o si deben eliminarse."
      ]
    },
    {
      "cell_type": "markdown",
      "metadata": {
        "id": "4cj_BA4p1E8e"
      },
      "source": [
        "<a id=\"s6\"></a>\n",
        "## Conclusiones, preguntas al negocio y recomendaciones"
      ]
    },
    {
      "cell_type": "markdown",
      "metadata": {
        "id": "LFxrvYbC1E8e"
      },
      "source": [
        "En general, se obtuvo que todas las tablas propuestas presentaban al menos un problema de calidad de datos. Se recorrerá de forma general los problemas observados:\n",
        "\n",
        "* **F1. AreasdeServicio: FuenteAreasDeServicio_Copia_E**\n",
        "Los principales problemas observados fueron los registros duplicados (23% del total de los datos), y la gran disrupción generada por valores atípicos en los campos numéricos de población y área principalmente, que deben eliminarse si se desea tener información confiable para la fase de análisis.\n",
        "\n",
        "* **F2. TiposBeneficios: FuenteTiposBeneficio_Copia_E** En esta tabla se tiene información relacionada con los tipos de beneficio establecidos para los tipos de plan. Cada fila representa una caracteristica del tipo de beneficio. Se encuentra que existen diferentes valores a 'Si' y 'No' en la columna TieneLimiteCuantitativo, estos valores están en otros idiomas como inglés y Aleman. En total se tiene 849 registros y 9 variables, de estas hay 2 variables de tipo Integer (IdTipoBeneficio_T y Fecha) y 7 variables de tipo String (Nombre, UnidadDelLimite, EsEHB, EstaCubiertaPorSeguro, TieneLimiteCuantitativo, ExcluidoDelDesembolsoMaximoDentroDeLaRed, ExcluidoDelDesembolsoMaximoFueraDeLaRed). No se encuentra valores vacíos. Se encuentran registros duplicados. Al hacer la búsqueda se encuentra que solo 578 registros son valores únicos\n",
        "\n",
        "* **F3. BeneficiosPlanes: FuentePlanesBeneficio_Copia_E**\n",
        "Respecto a esta fuente existe un problema principal de calidad de datos, el cual radica en el formato del campo \"Fecha\". La mayoría de registros utilizan el formato yyyy-mm-dd, sin embargo existen 2056 registros que presentan un formato MM-dd-yyyy.\n",
        "\n",
        "* **F4. Tablas de referencia: FuenteCondicionesDePago_Copia_E**\n",
        "En esta tabla solo existe información relacionada con las condiciones de pago y aunque tiene poca información se encontraron varios problemas como la existencia de más condiciones de las reportadas, colo lo son: copagado, sin tipo de copago y coseguridad, estas últimas 3 condiciones no están definidas en el diccionario ¿son registros invalidos o se debe ajustar el diccionario?. Además, existen valores vacíos en la comulna \"Tipo\" y hay 7 registros duplicados."
      ]
    },
    {
      "cell_type": "markdown",
      "metadata": {
        "id": "_s1ibhwy1E8e"
      },
      "source": [
        "### Conclusiones reglas de negocio"
      ]
    },
    {
      "cell_type": "markdown",
      "metadata": {
        "id": "LxHEFN3s1E8f"
      },
      "source": [
        "1. Las áreas de servicios reportadas cubren todos los condados del país\n",
        "\n",
        "Del análisis de la tabla F1, se vio que esta regla es incorrecta. De 3143 condados en EE.UU, las áreas de servicio cubren solamente 2282 (72.6% de cubrimiento).\n",
        "\n",
        "2. Los tipos de beneficios con límite cuantitativo deben tener una cantidad límite diferente de cero en los planes que los ofrecen.\n",
        "\n",
        "Del análisis de la tabla F2, se confirmó que esta regla es correcta, pues en todos los planes se encontraros cantidades diferentes de 0.\n",
        "\n",
        "3. Las fuentes FuenteAreasDeServicio_Copia_E y FuenteTiposBeneficio_Copia_E comparten información de los años 2017 al 2019\n",
        "\n",
        "Esta regla es incorrecta, pues la tabla F1 solamente contiene datos para los años 2017 y 2018.\n",
        "\n",
        "4. La empresa comparte 5409 áreas de servicios y 170 tipos de beneficios.\n",
        "\n",
        "En el análisis de la tabla F1, se determinó que la regla es incorrecta, pues mientras que se cumple el número de áreas de servicio, en realidad hay 285 tipos diferentes de beneficio, no 170.\n",
        "\n",
        "5. El valor máximo Copago y Coseguro para el año 2018 es respectivamente 3300 y 100.\n",
        "\n",
        "Aunque si bien para Coseguro no se encontraron registros superiores a 100 en el año 2018, para Copago si se encontraron valores que superaban el umbral de 3300, esto ocurre para 8 registros.\n",
        "\n",
        "6. Además, les comparte información de 301 planes para 2017 y de 422 para el año 2018.\n",
        "\n",
        "Revisando los planes que se encuentran para el año 2017 y 2018, se encontraron que existen 16134 y 15794 respectivamente por lo que esta regla no se cumple.\n",
        "\n",
        "7. Existen 15 y 5 diferentes condiciones de copago y coseguro respectivamente.\n",
        "\n",
        "Esta regla no se cumple completamente, pues en tanto en la tabla f3 como en la f4 se cumple con la cantidad de condiciones de coseguro, pero no se cumple con la cantidad de condiciones de copago. Además, en la tabla f4 (condiciones) existen otras condiciones que no fueron reportadas ¿las condiciones copagado, sin tipo de copago y coseguridad son válidas?. Asimismo, en esta tabla hay 2 registros sin ningún tipo de condición asociada, pero por la descripción parecen ser copagos ¿se puede diligenciar con copago o se eliminan estos registros?\n"
      ]
    },
    {
      "cell_type": "markdown",
      "source": [
        "### Conclusiones de calidad\n",
        "\n",
        "* **F1. AreasdeServicio: FuenteAreasDeServicio_Copia_E**\n",
        "1. Se encontaron 43573 registros duplicados (23%) del total de los datos.\n",
        "2. Para el campo `IdGeografia_T`, es necesario verificar el ID con su respectiva tabla o dimensión de referencia, para confirmar la consistencia de los datos. Esta tabla no ha sido compartida hasta el momento.\n",
        "3. Para los campos `PoblacionAct` y `Area`, existen valores atípicamente altos que hacen que el cálculo de la media y la varianza no sean confiables. Al ser un capo calculado de estas dos, `Densidad` posee por extensión los mismos problemas de datos atípicos. Se sugiere eliminar dichos registros, para poder tener resultados confiables en las fases posteriores de análisis.\n",
        "4. Para el campo `Fecha`, se encontraron 6282 registros con el año 1800 registrado. Se busca consultar con la empresa antes de tomar la decisión de como lidiar con estos registros, pero inicialmente la acción más recomendable es imputar el año 2017 o 2018, que conforman los datos restantes.\n",
        "* **F2. TiposBeneficios: FuenteTiposBeneficio_Copia_E**\n",
        "\n",
        "1. Existen filas repetidas en la tabla TiposBeneficio\n",
        "2. El contenido de la tabla es 849 registros y el número de valores únicos es 578\n",
        "3. Se observa que la tabla TipoBeneficio contiene valores duplicados, de 849 registros, solo 578 son valores únicos. Al buscar por la variable identificadora de la tabla, se encuentra que 132 ID están utilizados más una vez.\n",
        "4. Se evalua el contenido de los datos para los registros con ID duplicado, de los 132 registros que tienen al menos 1 duplicado, 96 de ellos tienen contenido diferente en las demás variables.\n",
        "5. No existen valore vacíos.\n",
        "6. Tampoco hay columnas con alta cardinalidad.\n",
        "\n",
        "* **F3. BeneficiosPlanes: FuentePlanesBeneficio_Copia_E**\n",
        "\n",
        "1. La llave primaria (para la columna IdPlan_T se encuentra duplicada en 392 ocurrencias.\n",
        "\n",
        "2. Se debe estandarizar el formato de la fecha para posteriormente convertir la columna en tipo fecha y poder hacer los analisis de intervalos de tiempo para los planes (de no estar en un mismo formato, los registros diferentes no logran ser convertidos).\n",
        "\n",
        "* **F4. Tablas de referencia: FuenteCondicionesDePago_Copia_E**\n",
        "\n",
        "1. La llave primaria no tiene valores únicos, se deben eliminar los valores repetidos que contiene la misma información en todos los registros. Adempas, se encontró que el identificador 204 se repite con valores distintos para \"Tipo\" y \"Descripción\", ¿uno de los registros tiene un identificador incorrecto o se debe eliminar alguno?.\n",
        "\n",
        "2. La columna Tipo tiene 2 valores vacíos\n",
        "\n",
        "3. Las columnas IdCondicionesDePago_T y Descripcion tienen un una cardinalidad superior al 50%.\n",
        "\n",
        "4. Hay 7 duplicados de la combinación de columnas \"Descripción\" y \"Tipo\" que tienen diferente llave primaria, por esta razón aunque hay 24 registros únicos en la tabla, tan solo hay 17 valores únicos en la columna descripción. ¿Se trata de un error en la descripción que se puede modificar, es un error en la llave primaria o se deben elimnar algunos registros?.\n",
        "\n",
        "5. No hay consistencia total entre los códigos de copago y coseguro de la tabla condiciones con la tabla de planes. ¿Debemos eliminar los códigos que no coinciden o se debe reemplazar la descripción?"
      ],
      "metadata": {
        "id": "GYS4K0rV5Czl"
      }
    },
    {
      "cell_type": "markdown",
      "metadata": {
        "id": "g0LFWIaU1E8f"
      },
      "source": [
        "### Conclusiones de consultoría (con base en los análisis planteados)\n",
        "\n",
        "* **Análisis 1.a**: Dado un proveedor o grupo de proveedores si tiene o ha tenido un comportamiento desleal?\n",
        "\n",
        "En el análisis de la tabla F3. BeneficiosPlanes: FuentePlanesBeneficio_Copia_E, pudo realizarse de forma correcta dicho cálculo, por lo cual se concluye no solo que realizar el análisis sí es posible, sino también que sí existen los proveedores desleales.\n",
        "\n",
        "* **Análisis 1.b**: Dado un rango de fechas se identifican proveedores con comportamientos desleales. Un comportamiento desleal corresponde a proveedores que brinden planes con el mismo tipo de beneficio cuyo valor de copago o coseguro evidencian diferencias mayores al 20%\n",
        "\n",
        "Nuevamente, en el análisis para la tabla F3, se concluye que sí es posible llevar a cabo un análisis de competidores desleales según un rango de fechas."
      ]
    },
    {
      "cell_type": "markdown",
      "metadata": {
        "id": "l1iHcwC01E8f"
      },
      "source": [
        "* **Análisis 2.a**: Dado un rango de años, mostrar el nivel de cobertura de los planes con respecto a las áreas de servicio\n",
        "\n",
        "Es posible llevar a cabo este análisis haciendo un filtro sobre la tabla `FuentePlanesBeneficio_Copia_E` para el intervalo de fechas indicado, seguidamente se deben agrupar los registros por IdProveedor_T y IdTipoBeneficio_T para calcular las diferencias entre los valores máximos y mínimos de valorCopago y valorCoseguro y adicionalmente tomar los valores mínimos de ambas columnas para finalmente contrastarlos evaluando si se supera el 20%.\n",
        "\n",
        "* **Análisis 2.b** ¿Se ha logrado una cobertura total de los proveedores, cubriendo con sus planes TODAS las áreas de servicio?\n",
        "\n",
        "Se puede dar respuesta a este análisis utilizando la tablas `FuenteAreasDeServicio_Copia_E` y `FuentePlanesBeneficio_Copia_E` en donde se toma el total de áreas de servicio únicas, se calcula el número de áreas de servicio distintas por cada proveedor y finalmente contrastar ambos listados para evaluar si existe un proveedor que cubre exactamente el número total de áreas.\n",
        "\n",
        "+ **Análisis 2.c**: ¿Han existido áreas de servicios que sean cubiertas, a nivel de planes, por menos de dos proveedores?\n",
        "\n",
        "Es posible realizar este análisis utilizando la tabla `FuentesPlanesBeneficio_Copia_E` en donde se puede agregar la columna IdAreaDeServicio_T y contar valores únicos. Finalmente se debe filtrar para aquellos registros que tengan valores inferiores a 2.\n"
      ]
    },
    {
      "cell_type": "markdown",
      "metadata": {
        "id": "WEyOtP-z1E8h"
      },
      "source": [
        "* **Análisis 3.a**: Dado un rango de años, identificar ¿cuantos y cuales planes hay por áreas de servicio?\n",
        "\n",
        "Este análisis sí es posible consultando la tabla `FuentesPlanesBeneficio_Copia_E`, ya que esta contiene la fecha, el ID del área de servicio, y el ID del plan. También puede realizarse cruzando con las tablas de `FuenteAreasDeServicio_Copia_E`, para obtener más información sobre el área de servicio.\n",
        "\n",
        "* **Análisis 3.b**: ¿en qué áreas hay concentraciones de planes que no correspondan con la cantidad de habitantes del área?\n",
        "\n",
        "Este análisis puede completarse usando la tabla `FuentesPlanesBeneficio_Copia_E` en unión con `FuenteAreasDeServicio_Copia_E` según el ID del área. Se necesitaría en primer lugar eliminar de la segunda tabla los registros atípicos para Población, luego de ello se busca agrupar el total de planes según cada área, y comparar si este total es mayor a la población total del área en cuestión.\n"
      ]
    },
    {
      "cell_type": "markdown",
      "metadata": {
        "id": "ddTFZ2mo1E8i"
      },
      "source": [
        "* **Análisis 4.a**: Dado un rango de fechas y tipos de beneficios ¿Cómo han evolucionado los costos y tipos de beneficios a lo largo del tiempo por tipo de beneficio, proveedor, fecha?\n",
        "\n",
        "Es posible realizar este análisis parcialmente usando la tabla FuentesPlanesBeneficio_Copia_E, ya que esta tabla cuenta con información de fecha (Fecha), tipo de beneficio (idTipoBeneficio_T), condición de copago (idCondicionesDePagoCopago_T), condición de coseguro (idCondicionesDePagoCoseguro_T) y se puede relacionar con las tablas FuenteTiposBeneficio_Copia_E (por medio de las variables idCondicionesDePagoCopago_T y idCondicionesDePagoCoseguro_T) y FuenteCondicionesDePago_Copia_E (por medio de la variable idTipoBeneficio_T) si se desea conocer explicitamente el nombre del beneficio y de las condiciones. Entonces, es posible analizar como han evolucionado los tipos de beneficios a lo largo del tiempo por tipo de beneficio, proveedor y fecha con la información proporcionada, luego de realizar los ajustes solicitados para mejorar la calidad de la información. Sin embargo, con los datos disponibles, no es posible analizar la evolución de los costos por tipo de beneficio ya que solo se cuenta con información del valor de las condiciones de copago y coseguro, pero no se cuenta con información asociada al costo por tipo de beneficio.\n",
        "* **Análisis 4.b**: ¿Qué tipos de beneficios han aumentado o disminuido costos?\n",
        "\n",
        "Similar a lo anterior, con la información disponible solo se puede saber si los costos de las condiciones han aumentado o disminuido, pero no se cuenta con información de los costos de cada tipo de beneficio."
      ]
    },
    {
      "cell_type": "markdown",
      "source": [
        "## Reflexión sobre trabajo en equipo"
      ],
      "metadata": {
        "id": "ox8RzrHjywgd"
      }
    },
    {
      "cell_type": "markdown",
      "source": [
        "En cuanto al trabajo en equipo, consideramos que el desempeño de todos los compañeros fue excelente, y todos otorgamos una calificación de 5 a cada miembro. Todos cumplieron con las reuniones definidas y entregaron las tareas parciales y finales acordadas, cumpliendo además con todos los criterios de evaluación del curso. La calidad del trabajo de cada miembro fue muy buena, así como los aportes realizados para mejorar el trabajo de los demás. Por último, destacamos la buena comunicación del equipo y la capacidad para dar y recibir críticas con respeto.\n",
        "\n"
      ],
      "metadata": {
        "id": "4CtL_3JR0sZr"
      }
    }
  ],
  "metadata": {
    "colab": {
      "collapsed_sections": [
        "LZyQcqCvPn3c"
      ],
      "provenance": []
    },
    "kernelspec": {
      "display_name": "Python 3 (ipykernel)",
      "language": "python",
      "name": "python3"
    },
    "language_info": {
      "codemirror_mode": {
        "name": "ipython",
        "version": 3
      },
      "file_extension": ".py",
      "mimetype": "text/x-python",
      "name": "python",
      "nbconvert_exporter": "python",
      "pygments_lexer": "ipython3",
      "version": "3.7.13"
    },
    "toc-autonumbering": true,
    "toc-showcode": true
  },
  "nbformat": 4,
  "nbformat_minor": 0
}