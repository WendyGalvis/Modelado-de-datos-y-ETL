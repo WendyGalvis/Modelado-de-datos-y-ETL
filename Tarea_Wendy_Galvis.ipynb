{
 "cells": [
  {
   "cell_type": "markdown",
   "metadata": {
    "id": "YLE3Y7VOPn3G"
   },
   "source": [
    "# Entrega: Entender los datos"
   ]
  },
  {
   "cell_type": "markdown",
   "metadata": {
    "id": "V3leWyj9Pn3L"
   },
   "source": [
    "*Estudiante: Wendy Galvis Larios*\n",
    "\n",
    "Ahora que ya aprendió a usar PySpark para exploración y calidad de datos, lo invitamos a que realice el proceso de entendimiento de datos de la tabla movimientosCopia que se encuentra en la base de datos WWImportersTransactional, que registra el movimiento en inventario de un producto. La empresa no compartió información de las tablas de clientes ni de proveedores para esta actividad.\n",
    "\n",
    "En esta actividad le recomendamos revisar el diccionario de datos suministrado y en particular la información relacionada con la tabla movimientosCopia. Si tienen alguna duda relacionada con esta tabla deben incluirla en las preguntas o aclaraciones que le entreguen al negocio. En relación a los datos Wide World Importers menciona:\n",
    "\n",
    "* La cantidad máxima de productos movidos es 50 millones por transacción\n",
    "* Existen 236.668 movimientos de producto realizados desde 2013\n",
    "* Los movimientos están relacionados con 228.265 clientes\n",
    "* El formato de fechas manejado es YYYY-MM-DD HH:MM:SS\n",
    "* Actualmente tenemos 13 proveedores"
   ]
  },
  {
   "cell_type": "markdown",
   "metadata": {
    "id": "dm33nuYTPn3L"
   },
   "source": [
    "## Configuración e importe de paquetes"
   ]
  },
  {
   "cell_type": "code",
   "execution_count": 26,
   "metadata": {
    "id": "gGiDdRBNPn3M"
   },
   "outputs": [],
   "source": [
    "from pyspark.sql import SparkSession\n",
    "from pyspark.sql import functions\n",
    "from pyspark.sql.types import StructType\n",
    "from pyspark import SparkContext, SparkConf, SQLContext\n",
    "from pyspark.sql.types import FloatType, StringType, IntegerType, DateType\n",
    "from pyspark.sql.functions import udf, col, length, isnan, when, count\n",
    "import pyspark.sql.functions as f\n",
    "from pyspark.sql.functions import countDistinct \n",
    "from pyspark.sql.functions import sum, col\n",
    "import os \n",
    "from datetime import datetime\n",
    "from pyspark.sql import types as t\n",
    "from pandas_profiling import ProfileReport\n",
    "import matplotlib.pyplot as plt\n",
    "import numpy as np"
   ]
  },
  {
   "cell_type": "markdown",
   "metadata": {
    "id": "Tyk0YmZRPn3N"
   },
   "source": [
    "Configuración del controlador e inicio de sesion Spark"
   ]
  },
  {
   "cell_type": "code",
   "execution_count": 2,
   "metadata": {
    "id": "0r-yix1rPn3O"
   },
   "outputs": [],
   "source": [
    "path_jar_driver = 'C:\\Program Files (x86)\\MySQL\\Connector J 8.0\\mysql-connector-java-8.0.28.jar'"
   ]
  },
  {
   "cell_type": "code",
   "execution_count": 3,
   "metadata": {
    "id": "0-m3Q2MtPn3O",
    "outputId": "459f0ec2-9a36-4a36-edac-427852524d95"
   },
   "outputs": [
    {
     "name": "stderr",
     "output_type": "stream",
     "text": [
      "C:\\Users\\estudiante\\anaconda3\\envs\\Tutoriales\\lib\\site-packages\\pyspark\\sql\\context.py:79: FutureWarning: Deprecated in 3.0.0. Use SparkSession.builder.getOrCreate() instead.\n",
      "  FutureWarning\n"
     ]
    }
   ],
   "source": [
    "#Configuración de la sesión\n",
    "conf=SparkConf() \\\n",
    "    .set('spark.driver.extraClassPath', path_jar_driver)\n",
    "\n",
    "spark_context = SparkContext(conf=conf)\n",
    "sql_context = SQLContext(spark_context)\n",
    "spark = sql_context.sparkSession"
   ]
  },
  {
   "cell_type": "code",
   "execution_count": 6,
   "metadata": {
    "id": "0eQw66SIPn3P"
   },
   "outputs": [],
   "source": [
    "# Conexion con el servidor de base de datos:\n",
    "db_connection_string = 'jdbc:mysql://157.253.236.116:8080/WWImportersTransactional'\n",
    "db_user = 'Estudiante_8_202413'\n",
    "db_psswd = 'aabb1122'\n",
    "PATH='./'"
   ]
  },
  {
   "cell_type": "markdown",
   "metadata": {
    "id": "P1nkSAn5Pn3Q"
   },
   "source": [
    "## Perfilamiento de los datos"
   ]
  },
  {
   "cell_type": "markdown",
   "metadata": {
    "id": "Xw96w3ywPn3R"
   },
   "source": [
    "### Conexión a fuente de datos y acceso a los datos"
   ]
  },
  {
   "cell_type": "markdown",
   "metadata": {
    "id": "LKHpN3nzPn3R"
   },
   "source": [
    "#### Conexión a fuente de datos\n",
    "Se crea la función para conectarse a la fuente de datos y retornar un dataframe."
   ]
  },
  {
   "cell_type": "code",
   "execution_count": 7,
   "metadata": {
    "id": "SsdwInchPn3R"
   },
   "outputs": [],
   "source": [
    "def obtener_dataframe_de_bd(db_connection_string, sql, db_user, db_psswd):\n",
    "    df_bd = spark.read.format('jdbc')\\\n",
    "        .option('url', db_connection_string) \\\n",
    "        .option('dbtable', sql) \\\n",
    "        .option('user', db_user) \\\n",
    "        .option('password', db_psswd) \\\n",
    "        .option('driver', 'com.mysql.cj.jdbc.Driver') \\\n",
    "        .load()\n",
    "    return df_bd"
   ]
  },
  {
   "cell_type": "markdown",
   "metadata": {
    "id": "3HZloEq5Pn3S"
   },
   "source": [
    "#### Cargue de datos\n",
    "Debemos colunsultar únicamente la tabla: movimientosCopia"
   ]
  },
  {
   "cell_type": "code",
   "execution_count": 10,
   "metadata": {
    "id": "Ajy_XMshPn3T"
   },
   "outputs": [],
   "source": [
    "sql_movimientos = 'WWImportersTransactional.movimientosCopia'\n",
    "movimientos = obtener_dataframe_de_bd(db_connection_string, sql_movimientos, db_user, db_psswd)"
   ]
  },
  {
   "cell_type": "markdown",
   "metadata": {
    "id": "qxN27II0Pn3T"
   },
   "source": [
    "### Entendimiento general de datos"
   ]
  },
  {
   "cell_type": "code",
   "execution_count": null,
   "metadata": {
    "id": "HtrqSl0zPn3T",
    "outputId": "c20c03fc-68d4-4d2e-eb8f-91a06cdd3174"
   },
   "outputs": [
    {
     "name": "stdout",
     "output_type": "stream",
     "text": [
      "+---------------------+----------+-----------------+---------+---------+-----------+---------------+----------------+--------+\n",
      "|TransaccionProductoID|ProductoID|TipoTransaccionID|ClienteID|InvoiceID|ProveedorID|OrdenDeCompraID|FechaTransaccion|Cantidad|\n",
      "+---------------------+----------+-----------------+---------+---------+-----------+---------------+----------------+--------+\n",
      "|               118903|       217|               10|    476.0|  24904.0|           |               |     Apr 25,2014|   -40.0|\n",
      "|               286890|       135|               10|     33.0|  60117.0|           |               |     Dec 10,2015|    -7.0|\n",
      "|               285233|       111|               10|    180.0|  59768.0|           |               |     Dec 04,2015|    -2.0|\n",
      "|               290145|       213|               10|     33.0|  60795.0|           |               |     Dec 23,2015|    -3.0|\n",
      "|               247492|        90|               10|     55.0|  51851.0|           |               |     Jul 27,2015|   -24.0|\n",
      "+---------------------+----------+-----------------+---------+---------+-----------+---------------+----------------+--------+\n",
      "only showing top 5 rows\n",
      "\n"
     ]
    }
   ],
   "source": [
    "movimientos.show(5)"
   ]
  },
  {
   "cell_type": "markdown",
   "metadata": {
    "id": "Q_aZvenTPn3U"
   },
   "source": [
    "La consulta anterior muestra la tabla de movimientos y evidencia que continene información **relacionada con el movimiento, la transacción, el producto, el cliente, el proveeder y con la órden**. La información del movimiento es su identificador <i>TransaccionProductoID</i>, la fecha en la que se realizó el movimiento <i>FechaTransaccion</i>, el identificador de la factura <i>InvoiceID</i> y la cantidad de productos que se retiraron o ingresaron al inventario <i>Cantidad</i>. La información del producto es su identificador <i>ProductoID</i>, así como la información de la transacción es su identificador <i>TipoTransaccionID</i>, la información del cliente es su identificador <i>ClienteID</i>, la información del proveedor es su identificador <i>ProveedorID</i> y la información de la orden es su identificador <i>OrdenDeCompraID</i>"
   ]
  },
  {
   "cell_type": "code",
   "execution_count": 12,
   "metadata": {
    "id": "lLV_ItLhPn3U",
    "outputId": "db9438a4-0a6d-4809-ea99-752add60ad64"
   },
   "outputs": [
    {
     "data": {
      "text/plain": [
       "StructType(List(StructField(TransaccionProductoID,IntegerType,true),StructField(ProductoID,IntegerType,true),StructField(TipoTransaccionID,IntegerType,true),StructField(ClienteID,DoubleType,true),StructField(InvoiceID,DoubleType,true),StructField(ProveedorID,StringType,true),StructField(OrdenDeCompraID,StringType,true),StructField(FechaTransaccion,StringType,true),StructField(Cantidad,DoubleType,true)))"
      ]
     },
     "execution_count": 12,
     "metadata": {},
     "output_type": "execute_result"
    }
   ],
   "source": [
    "movimientos.schema"
   ]
  },
  {
   "cell_type": "markdown",
   "metadata": {
    "id": "seP-zo8JPn3U"
   },
   "source": [
    "Para entender la estructura de datos con la que estamos trabajando usamos .schema, que nos muestra el tipo de dato de cada columna. En la tabla de ordenes encontramos que hay 3 variables de tipo Integer (TransaccionProductoID, ProductoID, TipoTransaccionID), 3 variables de tipo Double (ClienteID, InvoiceID, Cantidad), y 3 variables de tipo String (ProveedorID, OrdenDeCompraID, FechaTransaccion). Una pregunta que podríamos realizar al negocio sería por qué se tienen diferentes tipos de datos para las columnas relacionadas con identificadores y si es posible ajustarlos todos a una columna tipo Integer, de tal forma que no tengamos inconvenientes a futuro por la diferencia en los tipos de datos."
   ]
  },
  {
   "cell_type": "markdown",
   "metadata": {
    "id": "uw09BODdPn3V"
   },
   "source": [
    "Ahora revisamos cuantos datos tenemos disponibles."
   ]
  },
  {
   "cell_type": "code",
   "execution_count": 14,
   "metadata": {
    "id": "g0Lvl535Pn3V",
    "outputId": "6fb3f30d-2179-4d50-ddd5-4880e28673d8"
   },
   "outputs": [
    {
     "name": "stdout",
     "output_type": "stream",
     "text": [
      "(204292, 9)\n"
     ]
    }
   ],
   "source": [
    "print((movimientos.count(), len(movimientos.columns)))"
   ]
  },
  {
   "cell_type": "markdown",
   "metadata": {
    "id": "kqwEyUFpPn3V"
   },
   "source": [
    "**¿Cuantos datos tenemos?** En total tenemos 204.292 movimientos y 9 variables."
   ]
  },
  {
   "cell_type": "markdown",
   "metadata": {
    "id": "GnAScmClPn3W"
   },
   "source": [
    "### Revisión de reglas de negocio \n",
    "\n",
    "La primera regla que asegura que la cantidad máxima de productos movidos es 50 millones por transacción. Para esto verificamos ningun registro de la columna <i>Cantidad</i> supere el valor de 50 millones"
   ]
  },
  {
   "cell_type": "code",
   "execution_count": 17,
   "metadata": {},
   "outputs": [
    {
     "name": "stdout",
     "output_type": "stream",
     "text": [
      "+---------------------+--------+\n",
      "|TransaccionProductoID|Cantidad|\n",
      "+---------------------+--------+\n",
      "+---------------------+--------+\n",
      "\n"
     ]
    }
   ],
   "source": [
    "movimientos_cantidad = movimientos.select('TransaccionProductoID','Cantidad').where((movimientos['Cantidad'] > 50000000))\n",
    "movimientos_cantidad.show()"
   ]
  },
  {
   "cell_type": "markdown",
   "metadata": {},
   "source": [
    "Lo anterior muestra que no existe ninguna transacción que supere la cantidad máxima de 50.000.000. La revisión se hizo asumiendo que cada registro representa una transacción diferente ya que esta representado por la llave primaria <i>TransaccionProductoID</i>. Sin embargo, como una última verificación, comprobaremos que la columna <i>TransaccionProductoID</i> solo tiene valores únicos."
   ]
  },
  {
   "cell_type": "code",
   "execution_count": 21,
   "metadata": {},
   "outputs": [
    {
     "data": {
      "text/plain": [
       "173659"
      ]
     },
     "execution_count": 21,
     "metadata": {},
     "output_type": "execute_result"
    }
   ],
   "source": [
    "movimientos.select(countDistinct(\"TransaccionProductoID\")).collect()[0][0]"
   ]
  },
  {
   "cell_type": "code",
   "execution_count": 25,
   "metadata": {},
   "outputs": [
    {
     "name": "stdout",
     "output_type": "stream",
     "text": [
      "+---------------------+-----+\n",
      "|TransaccionProductoID|count|\n",
      "+---------------------+-----+\n",
      "|               197953|    2|\n",
      "|               101055|    2|\n",
      "|               309597|    2|\n",
      "|               209326|    2|\n",
      "|               213516|    2|\n",
      "+---------------------+-----+\n",
      "only showing top 5 rows\n",
      "\n"
     ]
    },
    {
     "data": {
      "text/plain": [
       "30633"
      ]
     },
     "execution_count": 25,
     "metadata": {},
     "output_type": "execute_result"
    }
   ],
   "source": [
    "valores_repetidos = movimientos.groupBy('TransaccionProductoID').count().filter(col('count') > 1)\n",
    "valores_repetidos.show(5)\n",
    "valores_repetidos.count()"
   ]
  },
  {
   "cell_type": "markdown",
   "metadata": {},
   "source": [
    "Al realizar esta verificación encontramos que <i>TransaccionProductoID</i>, que se describe como la llave primaria no tiene valores únicos. Se debe solicitar una aclaración al negocio respecto a esto, ya que la llave primaria debe ser única y no debe tener valores repetidos.\n",
    "Dado esto, entonces verificaremos si no hay transacciones que superen los 50.000.000 sumando la columna <i>Cantidad</i> por cada <i>TransaccionProductoID</i> único."
   ]
  },
  {
   "cell_type": "code",
   "execution_count": 27,
   "metadata": {},
   "outputs": [
    {
     "name": "stdout",
     "output_type": "stream",
     "text": [
      "+---------------------+-------------+\n",
      "|TransaccionProductoID|TotalCantidad|\n",
      "+---------------------+-------------+\n",
      "+---------------------+-------------+\n",
      "\n"
     ]
    }
   ],
   "source": [
    "cantidad_transaccion = movimientos.groupBy('TransaccionProductoID').agg(sum('Cantidad').alias('TotalCantidad'))\n",
    "transacciones_mayores = cantidad_transaccion.filter(col('TotalCantidad') > 50000000)\n",
    "transacciones_mayores.show()"
   ]
  },
  {
   "cell_type": "markdown",
   "metadata": {},
   "source": [
    "Esta comprobación muestra que la regla si se cumple, ninguna de las transacciones supera los 50 millones. La segunda regla indica que existen 236.668 movimientos de producto realizados desde 2013. Para esto, revisaremos la cantidad de registros en la base de datos y las fechas."
   ]
  },
  {
   "cell_type": "code",
   "execution_count": 28,
   "metadata": {},
   "outputs": [
    {
     "name": "stdout",
     "output_type": "stream",
     "text": [
      "204292\n"
     ]
    }
   ],
   "source": [
    "print((movimientos.count()))"
   ]
  },
  {
   "cell_type": "code",
   "execution_count": 29,
   "metadata": {},
   "outputs": [
    {
     "data": {
      "text/plain": [
       "173659"
      ]
     },
     "execution_count": 29,
     "metadata": {},
     "output_type": "execute_result"
    }
   ],
   "source": [
    "movimientos.distinct().count()"
   ]
  },
  {
   "cell_type": "code",
   "execution_count": 35,
   "metadata": {},
   "outputs": [
    {
     "name": "stdout",
     "output_type": "stream",
     "text": [
      "+---------------------+\n",
      "|min(FechaTransaccion)|\n",
      "+---------------------+\n",
      "| 2013-12-31 07:00:...|\n",
      "+---------------------+\n",
      "\n"
     ]
    }
   ],
   "source": [
    "movimientos.agg({\"FechaTransaccion\": \"min\"}).show()"
   ]
  },
  {
   "cell_type": "markdown",
   "metadata": {},
   "source": [
    "Sobre esta regla podemos concluir que se cumple parcialmente pues en primer lugar, la cantidad de movimientos indicados no coincide con la cantidad de registros, mientras que la regla indica que hay 236.668 movimientos, los datos tienen solamente 204.292 y además muchos de esos movimientos son registros duplicados, por lo que la diferencia es aún mayor, ya que la cantidad de movimientos reales son 173.659. Ademas de esto, aunque la fecha mínima se dio en el año 2013, todos los registros correspondientes a este año son del último día (31 diciembre), es posible que se hayan compartido los datos de forma incorrecta y se hayan omitido registros del 2013, sin embargo, se debe consultar al negocio sobre los datos faltantes.\n",
    "\n",
    "La tercera regla indica que los movimientos están relacionados con 228.265 clientes. Con las verificaciones anteriores es posible concluir que esta regla tampoco se cumple, ya que la cantidad de clientes asociados a los movimientos no puede superar la cantidad de registros en la tabla de movimientos. Sin embargo, a continuación revisaremos la cantidad de identificadores únicos asociados a clientes para verificar la cantidad real de clientes actualmente."
   ]
  },
  {
   "cell_type": "code",
   "execution_count": 37,
   "metadata": {
    "id": "ssjlV5xbPn3W",
    "outputId": "2ab69e67-fcc0-42c0-bf32-425d65c5118b"
   },
   "outputs": [
    {
     "data": {
      "text/plain": [
       "664"
      ]
     },
     "execution_count": 37,
     "metadata": {},
     "output_type": "execute_result"
    }
   ],
   "source": [
    "movimientos.select(\"ClienteID\").distinct().count()"
   ]
  },
  {
   "cell_type": "markdown",
   "metadata": {},
   "source": [
    "Evidentemente esta regla no se cumple y la cantidad de clientes asociados a los movimientos dista mucho de lo indicado por el negocios. Debemos reportar la inconsitencia.\n",
    "La cuarta regla menciona que el formato de fechas manejado es YYYY-MM-DD HH:MM:SS, en nuestro caso la única columna asociada a fecha es <i>FechaTransaccion</i>, para verificar que los datos cumplen esta regla usaremos  expresiones regulares."
   ]
  },
  {
   "cell_type": "code",
   "execution_count": 39,
   "metadata": {},
   "outputs": [
    {
     "name": "stdout",
     "output_type": "stream",
     "text": [
      "Número total de movimientos: 204292, número de movimientos con formato correcto: 140038\n"
     ]
    }
   ],
   "source": [
    "regex = \"[0-2]\\d{3}-(0[1-9]|1[0-2])-(0[1-9]|[1-2][0-9]|3[0-1])\"\n",
    "cumplenFormato = movimientos.filter(movimientos[\"FechaTransaccion\"].rlike(regex))\n",
    "print(\"Número total de movimientos: \"+str(movimientos.count())+\", número de movimientos con formato correcto: \"+str(cumplenFormato.count()))"
   ]
  },
  {
   "cell_type": "code",
   "execution_count": 42,
   "metadata": {},
   "outputs": [
    {
     "name": "stdout",
     "output_type": "stream",
     "text": [
      "+----------------+\n",
      "|FechaTransaccion|\n",
      "+----------------+\n",
      "|     Apr 25,2014|\n",
      "|     Dec 10,2015|\n",
      "|     Dec 04,2015|\n",
      "|     Dec 23,2015|\n",
      "|     Jul 27,2015|\n",
      "+----------------+\n",
      "only showing top 5 rows\n",
      "\n"
     ]
    },
    {
     "data": {
      "text/plain": [
       "(64254, None)"
      ]
     },
     "execution_count": 42,
     "metadata": {},
     "output_type": "execute_result"
    }
   ],
   "source": [
    "noCumplenFormato = movimientos.filter(~movimientos[\"FechaTransaccion\"].rlike(regex))\n",
    "noCumplenFormato.count(), noCumplenFormato.select(col(\"FechaTransaccion\")).show(5)"
   ]
  },
  {
   "cell_type": "markdown",
   "metadata": {},
   "source": [
    "A partir de lo anterior, encontramos que hay 64.254 registros que no cumplen con el formato especificado. Sin embargo, parece que solo es un problema de formato ya que los registros que no cumple de cualquier forma representan una fecha, simplemente esta expresada de una forma diferente. En este caso informaremos al negocio que debemos hacer un ajuste en el formato de la fecha para que todos tengan el formato especificado y así evitar inconvenientes a futuro.\n",
    "\n",
    "Finalmente, la última regla establece que se tienen 13 proveedores. A continuación, realizaremos la verificación."
   ]
  },
  {
   "cell_type": "code",
   "execution_count": 43,
   "metadata": {},
   "outputs": [
    {
     "data": {
      "text/plain": [
       "4"
      ]
     },
     "execution_count": 43,
     "metadata": {},
     "output_type": "execute_result"
    }
   ],
   "source": [
    "movimientos.select(\"ProveedorID\").distinct().count()"
   ]
  },
  {
   "cell_type": "markdown",
   "metadata": {},
   "source": [
    "De forma similar a las reglas anteriores, evidenciamos que la cantidad de proveedores que aparecen en la tabla de movimientos es inferior. Esto refuerza la idea de que es posible que se haya compartido la base de datos incompleta. Además de esto, verificaremos la cantidad de registros vacíos en la columna relacionada con proveedores y clientes."
   ]
  },
  {
   "cell_type": "code",
   "execution_count": 53,
   "metadata": {},
   "outputs": [
    {
     "name": "stdout",
     "output_type": "stream",
     "text": [
      "Número total de Clientes vacíos: 0\n",
      "Número total de Proveedores vacíos: 197182\n"
     ]
    }
   ],
   "source": [
    "proveedores_vacios = movimientos.filter((col(\"ProveedorID\").isNull()) | (col(\"ProveedorID\") == '')).count()\n",
    "clientes_vacios = movimientos.filter((col(\"ClienteID\").isNull()) | (col(\"ClienteID\") == '')).count()\n",
    "print(f\"Número total de Clientes vacíos: {clientes_vacios}\")\n",
    "print(f\"Número total de Proveedores vacíos: {proveedores_vacios}\")"
   ]
  },
  {
   "cell_type": "markdown",
   "metadata": {},
   "source": [
    "Lo anterior nos permite observar que faltan muchos datos en la variable asociada a proveedores, por lo tanto, es posible que hayan un problema con esta columna que debe ser reportada al negocio."
   ]
  },
  {
   "cell_type": "markdown",
   "metadata": {
    "id": "UuZspay3Pn3Z"
   },
   "source": [
    "### Análisis descriptivo\n",
    "A continuación se analizaran diferentes estadísticas descriptivas de los datos. Se debe aclarar que en el caso particular de la tabla movimientosCopia no tiene sentido analizar las medidas de tendencia y dispersión de las variables TransaccionProductoID,   ProductoID, TipoTransaccionID, ClienteID, InvoiceID, ProveedorID Y OrdenDeCompraID, ya que aunque son numericas, no representan una medida como tal.\n"
   ]
  },
  {
   "cell_type": "code",
   "execution_count": 54,
   "metadata": {
    "id": "TkWrIdDhPn3Z",
    "outputId": "7d37ef91-452e-49d9-8282-f1676c2b5ea9"
   },
   "outputs": [
    {
     "name": "stdout",
     "output_type": "stream",
     "text": [
      "+-------+---------------------+------------------+-------------------+------------------+-----------------+-----------------+------------------+--------------------+-----------------+\n",
      "|summary|TransaccionProductoID|        ProductoID|  TipoTransaccionID|         ClienteID|        InvoiceID|      ProveedorID|   OrdenDeCompraID|    FechaTransaccion|         Cantidad|\n",
      "+-------+---------------------+------------------+-------------------+------------------+-----------------+-----------------+------------------+--------------------+-----------------+\n",
      "|  count|               204292|            204292|             204292|            204292|           204292|           204292|            204292|              204292|           204292|\n",
      "|   mean|   212458.04047637695|110.70090850351458| 10.035253460732676| 517.3252941867523|42957.26929590978|4.951898734177215|1345.9973277074544|                null|719.4997650421946|\n",
      "| stddev|    71352.37579752573| 63.49014746219581|0.18563716955046372|353.50136995999276| 16826.9772221931|1.406311225432683|420.37740964792835|                null| 4729.36659747762|\n",
      "|    min|                89146|                 1|                 10|               0.0|              0.0|                 |                  |2013-12-31 07:00:...|           -360.0|\n",
      "|    25%|               150639|                56|                 10|             145.0|          30120.0|              4.0|             986.0|                null|            -60.0|\n",
      "|    50%|               212323|               110|                 10|             511.0|          43546.0|              4.0|            1347.0|                null|             -9.0|\n",
      "|    75%|               274216|               166|                 10|             877.0|          56983.0|              7.0|            1710.0|                null|             -5.0|\n",
      "|    max|               336251|               227|                 12|            1061.0|          70510.0|              7.0|             999.0|         Sep 30,2015|          67368.0|\n",
      "+-------+---------------------+------------------+-------------------+------------------+-----------------+-----------------+------------------+--------------------+-----------------+\n",
      "\n"
     ]
    }
   ],
   "source": [
    "movimientos.summary().show()"
   ]
  },
  {
   "cell_type": "markdown",
   "metadata": {},
   "source": [
    "Lo anterior nos muestra que todas las columnas tienen la misma cantidad de registros, por lo que aparetemente no hay columnas vacías, sin embargo, anteriormente vimos que la columna de proveedor no tiene información en la mayoría de los registros.\n",
    "Respecto a la variable Cantidad se encuentra que la media es de 719.49, lo cual indica que, en promedio, en cada transacción ingresaron 719.49 productos, sin embargo, la desviación estandar es considerablemente alta (4729). Además de esto, se debe tener en cuenta que esta variable tiene valores positivos y negativos, por lo que se debe complementar el análisis, en este caso particular opté por elaborar un histográma que permita observar la distribución de los valores.\n",
    "Respecto a la fecha, se encuentra que se cuenta con información desde el 31 de diciembre de 2013 hasta el 30 de septiembre de 2015.\n",
    "Finalmente, en cuanto a los identificadores se encuentra que las transaccines van desde 89146 hasta 336251, los productos desde 1 hasta 227, el tipo de transacción de 10 a 12 (en este caso el valor de los percentiles tambien muestra que la mayoría de los registros tienen el código 10). El identificador de clientes y facturas va desde 0, mientras que el valor mínimo para proveedores y ordenes de compra aparece vacío, lo que muestra que estas columnas tienen valores faltantes."
   ]
  },
  {
   "cell_type": "code",
   "execution_count": 63,
   "metadata": {},
   "outputs": [
    {
     "data": {
      "image/png": "[encoded data removed]",
      "text/plain": [
       "<Figure size 720x432 with 1 Axes>"
      ]
     },
     "metadata": {
      "needs_background": "light"
     },
     "output_type": "display_data"
    }
   ],
   "source": [
    "movimientos_pandas = movimientos.select('Cantidad').toPandas()\n",
    "plt.figure(figsize=(10, 6))\n",
    "plt.hist(movimientos_pandas['Cantidad'], bins=30, edgecolor='black')\n",
    "plt.xlabel('Cantidad')\n",
    "plt.ylabel('Frecuencia')\n",
    "plt.title('Distribución de la Cantidad')\n",
    "plt.grid(True)\n",
    "plt.show()"
   ]
  },
  {
   "cell_type": "code",
   "execution_count": 65,
   "metadata": {},
   "outputs": [
    {
     "name": "stdout",
     "output_type": "stream",
     "text": [
      "Valores por encima de 0: 7129\n",
      "Valores por debajo de 0: 197158\n"
     ]
    }
   ],
   "source": [
    "valores_positivos = movimientos_pandas[movimientos_pandas['Cantidad'] > 0]['Cantidad'].count()\n",
    "valores_negativos = movimientos_pandas[movimientos_pandas['Cantidad'] < 0]['Cantidad'].count()\n",
    "print(f\"Valores por encima de 0: {valores_positivos}\")\n",
    "print(f\"Valores por debajo de 0: {valores_negativos}\")"
   ]
  },
  {
   "cell_type": "code",
   "execution_count": 68,
   "metadata": {},
   "outputs": [
    {
     "data": {
      "image/png": "[encoded data removed]",
      "text/plain": [
       "<Figure size 1008x432 with 2 Axes>"
      ]
     },
     "metadata": {
      "needs_background": "light"
     },
     "output_type": "display_data"
    }
   ],
   "source": [
    "valores_positivos = movimientos_pandas[movimientos_pandas['Cantidad'] > 0]['Cantidad']\n",
    "valores_negativos = movimientos_pandas[movimientos_pandas['Cantidad'] < 0]['Cantidad']\n",
    "\n",
    "fig, (ax1, ax2) = plt.subplots(1, 2, figsize=(14, 6))\n",
    "\n",
    "# Histograma para valores positivos\n",
    "ax1.hist(valores_positivos, bins=30, color='blue', edgecolor='black')\n",
    "ax1.set_xlabel('Cantidad')\n",
    "ax1.set_ylabel('Frecuencia')\n",
    "ax1.set_title('Distribución de Valores Positivos')\n",
    "ax1.grid(True)\n",
    "\n",
    "# Histograma para valores negativos\n",
    "ax2.hist(valores_negativos, bins=30, color='red', edgecolor='black')\n",
    "ax2.set_xlabel('Cantidad')\n",
    "ax2.set_ylabel('Frecuencia')\n",
    "ax2.set_title('Distribución de Valores Negativos')\n",
    "ax2.grid(True)\n",
    "\n",
    "plt.tight_layout()\n",
    "plt.show()"
   ]
  },
  {
   "cell_type": "markdown",
   "metadata": {},
   "source": [
    "Lo anterior nos muestra que los datos registran una mayor cantidad de veces los retiros y con una menor freciencia los ingresos, especificamente hay 197.158 registros que reportan retiros (cantidades negativas) frente a tan solo 7.129 registros que reportan valores ingresos (cantidades positivas). Sin embargo, la mayoría de retiros de productos tienen valores bajos (menores a 50) mientras que muchos ingresos tienen valores altos, en la gráfica de distribución de valores positivos se evidencia que gran cantidad de valores se concentran en valores altos (entre 20.000 y 30.000). Lo anterior es lo que provoca que el promedio de la columna cantidad sea un valor positivo."
   ]
  },
  {
   "cell_type": "markdown",
   "metadata": {
    "id": "c0_4fokYPn3a"
   },
   "source": [
    "Además de lo anterior, puede ser útil verificar cuales son las fechas en las que se realiza una mayor cantidad de transacciones (independientemente de la cantidad) o tambien puede interesarnos cuales son los clientes y proveedores que realizan más transacciones. A continuación, se muestra con detalle lo descrito anteriormente (para este análisis asumimos que cada registro representa una transacción)."
   ]
  },
  {
   "cell_type": "code",
   "execution_count": 69,
   "metadata": {
    "id": "iz9SiUvHPn3b",
    "outputId": "449aaac6-4825-4104-e748-78056fc4f88f"
   },
   "outputs": [
    {
     "name": "stdout",
     "output_type": "stream",
     "text": [
      "+---------+-----+\n",
      "|ClienteID|count|\n",
      "+---------+-----+\n",
      "|      0.0| 7156|\n",
      "|    980.0|  409|\n",
      "|    810.0|  401|\n",
      "|    804.0|  395|\n",
      "|    149.0|  395|\n",
      "+---------+-----+\n",
      "only showing top 5 rows\n",
      "\n"
     ]
    }
   ],
   "source": [
    "movimientos.groupby(\"ClienteID\").count().orderBy(\"count\", ascending=False).show(5)"
   ]
  },
  {
   "cell_type": "markdown",
   "metadata": {},
   "source": [
    "La tabla anterior muestra los 5 clientes con mayor cantidad de transacciones, observamos que el cliente con e identificador 0 tiene la mayor cantidad de transacciones, muy superior a los demás. Por lo tanto, considero importante solicitar aclaración al negocio y comprobar si 0 corresponde a un código correcto o es un error en los datos."
   ]
  },
  {
   "cell_type": "code",
   "execution_count": 70,
   "metadata": {},
   "outputs": [
    {
     "name": "stdout",
     "output_type": "stream",
     "text": [
      "+-----------+------+\n",
      "|ProveedorID| count|\n",
      "+-----------+------+\n",
      "|           |197182|\n",
      "|        4.0|  4832|\n",
      "|        7.0|  2267|\n",
      "|        1.0|    11|\n",
      "+-----------+------+\n",
      "\n"
     ]
    }
   ],
   "source": [
    "movimientos.groupby(\"ProveedorID\").count().orderBy(\"count\", ascending=False).show(5)"
   ]
  },
  {
   "cell_type": "markdown",
   "metadata": {},
   "source": [
    "Como se vio anteriormente, solo existen datos de 3 proveedores, la mayoría de información asociada a este campo se encuentra vacía, pero el proveedor con mayor cantidad de transacciones es el 4."
   ]
  },
  {
   "cell_type": "code",
   "execution_count": 72,
   "metadata": {},
   "outputs": [
    {
     "name": "stdout",
     "output_type": "stream",
     "text": [
      "+--------------------+-----+\n",
      "|    FechaTransaccion|count|\n",
      "+--------------------+-----+\n",
      "|2015-11-03 12:00:...|  331|\n",
      "|2015-01-21 12:00:...|  326|\n",
      "|2015-04-14 12:00:...|  323|\n",
      "|2016-05-04 12:00:...|  323|\n",
      "|2015-10-06 12:00:...|  317|\n",
      "|2016-03-23 12:00:...|  314|\n",
      "|2015-11-24 12:00:...|  309|\n",
      "|2016-02-24 12:00:...|  307|\n",
      "|2016-02-26 12:00:...|  304|\n",
      "|2016-03-22 12:00:...|  304|\n",
      "+--------------------+-----+\n",
      "only showing top 10 rows\n",
      "\n"
     ]
    }
   ],
   "source": [
    "movimientos.groupby(\"FechaTransaccion\").count().orderBy(\"count\", ascending=False).show(10)"
   ]
  },
  {
   "cell_type": "markdown",
   "metadata": {},
   "source": [
    "Lo anterior sugiere que la mayoría de transacciones están registradas en 2015 y 2016 puede de las primeras 10 fechas en las que se reporta mayor cantidad de transacciones 5 son en 2015 y 5 en 2016.\n",
    "\n",
    "A continuación, revisarmos si existen variables altamente correlacionadas en los datos, encontrando que existe una alta correlación entre el identificador de la factura y de la transacción y entre el tipo de transacción y la cantidad. Se debe consultar al negocio si es necesario mantener todas estas columnas."
   ]
  },
  {
   "cell_type": "code",
   "execution_count": 90,
   "metadata": {},
   "outputs": [
    {
     "data": {
      "text/html": [
       "<style type=\"text/css\">\n",
       "#T_48644_row0_col0, #T_48644_row1_col1, #T_48644_row2_col2, #T_48644_row3_col3, #T_48644_row4_col4, #T_48644_row5_col5 {\n",
       "  background-color: #b40426;\n",
       "  color: #f1f1f1;\n",
       "}\n",
       "#T_48644_row0_col1, #T_48644_row3_col0 {\n",
       "  background-color: #4257c9;\n",
       "  color: #f1f1f1;\n",
       "}\n",
       "#T_48644_row0_col2, #T_48644_row1_col4 {\n",
       "  background-color: #a7c5fe;\n",
       "  color: #000000;\n",
       "}\n",
       "#T_48644_row0_col3 {\n",
       "  background-color: #88abfd;\n",
       "  color: #000000;\n",
       "}\n",
       "#T_48644_row0_col4 {\n",
       "  background-color: #d55042;\n",
       "  color: #f1f1f1;\n",
       "}\n",
       "#T_48644_row0_col5 {\n",
       "  background-color: #aac7fd;\n",
       "  color: #000000;\n",
       "}\n",
       "#T_48644_row1_col0 {\n",
       "  background-color: #4055c8;\n",
       "  color: #f1f1f1;\n",
       "}\n",
       "#T_48644_row1_col2 {\n",
       "  background-color: #aec9fc;\n",
       "  color: #000000;\n",
       "}\n",
       "#T_48644_row1_col3 {\n",
       "  background-color: #7ea1fa;\n",
       "  color: #f1f1f1;\n",
       "}\n",
       "#T_48644_row1_col5 {\n",
       "  background-color: #a2c1ff;\n",
       "  color: #000000;\n",
       "}\n",
       "#T_48644_row2_col0, #T_48644_row2_col3, #T_48644_row2_col4, #T_48644_row3_col1, #T_48644_row4_col2, #T_48644_row4_col5 {\n",
       "  background-color: #3b4cc0;\n",
       "  color: #f1f1f1;\n",
       "}\n",
       "#T_48644_row2_col1, #T_48644_row5_col1 {\n",
       "  background-color: #455cce;\n",
       "  color: #f1f1f1;\n",
       "}\n",
       "#T_48644_row2_col5 {\n",
       "  background-color: #dc5d4a;\n",
       "  color: #f1f1f1;\n",
       "}\n",
       "#T_48644_row3_col2 {\n",
       "  background-color: #6687ed;\n",
       "  color: #f1f1f1;\n",
       "}\n",
       "#T_48644_row3_col4 {\n",
       "  background-color: #cad8ef;\n",
       "  color: #000000;\n",
       "}\n",
       "#T_48644_row3_col5 {\n",
       "  background-color: #6180e9;\n",
       "  color: #f1f1f1;\n",
       "}\n",
       "#T_48644_row4_col0 {\n",
       "  background-color: #e16751;\n",
       "  color: #f1f1f1;\n",
       "}\n",
       "#T_48644_row4_col1 {\n",
       "  background-color: #3d50c3;\n",
       "  color: #f1f1f1;\n",
       "}\n",
       "#T_48644_row4_col3 {\n",
       "  background-color: #abc8fd;\n",
       "  color: #000000;\n",
       "}\n",
       "#T_48644_row5_col0 {\n",
       "  background-color: #4c66d6;\n",
       "  color: #f1f1f1;\n",
       "}\n",
       "#T_48644_row5_col2 {\n",
       "  background-color: #d95847;\n",
       "  color: #f1f1f1;\n",
       "}\n",
       "#T_48644_row5_col3 {\n",
       "  background-color: #445acc;\n",
       "  color: #f1f1f1;\n",
       "}\n",
       "#T_48644_row5_col4 {\n",
       "  background-color: #4961d2;\n",
       "  color: #f1f1f1;\n",
       "}\n",
       "</style>\n",
       "<table id=\"T_48644_\">\n",
       "  <thead>\n",
       "    <tr>\n",
       "      <th class=\"blank level0\" >&nbsp;</th>\n",
       "      <th class=\"col_heading level0 col0\" >TransaccionProductoID</th>\n",
       "      <th class=\"col_heading level0 col1\" >ProductoID</th>\n",
       "      <th class=\"col_heading level0 col2\" >TipoTransaccionID</th>\n",
       "      <th class=\"col_heading level0 col3\" >ClienteID</th>\n",
       "      <th class=\"col_heading level0 col4\" >InvoiceID</th>\n",
       "      <th class=\"col_heading level0 col5\" >Cantidad</th>\n",
       "    </tr>\n",
       "  </thead>\n",
       "  <tbody>\n",
       "    <tr>\n",
       "      <th id=\"T_48644_level0_row0\" class=\"row_heading level0 row0\" >TransaccionProductoID</th>\n",
       "      <td id=\"T_48644_row0_col0\" class=\"data row0 col0\" >1.000000</td>\n",
       "      <td id=\"T_48644_row0_col1\" class=\"data row0 col1\" >0.017905</td>\n",
       "      <td id=\"T_48644_row0_col2\" class=\"data row0 col2\" >-0.001819</td>\n",
       "      <td id=\"T_48644_row0_col3\" class=\"data row0 col3\" >0.021868</td>\n",
       "      <td id=\"T_48644_row0_col4\" class=\"data row0 col4\" >0.859235</td>\n",
       "      <td id=\"T_48644_row0_col5\" class=\"data row0 col5\" >0.060616</td>\n",
       "    </tr>\n",
       "    <tr>\n",
       "      <th id=\"T_48644_level0_row1\" class=\"row_heading level0 row1\" >ProductoID</th>\n",
       "      <td id=\"T_48644_row1_col0\" class=\"data row1 col0\" >0.017905</td>\n",
       "      <td id=\"T_48644_row1_col1\" class=\"data row1 col1\" >1.000000</td>\n",
       "      <td id=\"T_48644_row1_col2\" class=\"data row1 col2\" >0.028463</td>\n",
       "      <td id=\"T_48644_row1_col3\" class=\"data row1 col3\" >-0.009326</td>\n",
       "      <td id=\"T_48644_row1_col4\" class=\"data row1 col4\" >0.001007</td>\n",
       "      <td id=\"T_48644_row1_col5\" class=\"data row1 col5\" >0.028805</td>\n",
       "    </tr>\n",
       "    <tr>\n",
       "      <th id=\"T_48644_level0_row2\" class=\"row_heading level0 row2\" >TipoTransaccionID</th>\n",
       "      <td id=\"T_48644_row2_col0\" class=\"data row2 col0\" >-0.001819</td>\n",
       "      <td id=\"T_48644_row2_col1\" class=\"data row2 col1\" >0.028463</td>\n",
       "      <td id=\"T_48644_row2_col2\" class=\"data row2 col2\" >1.000000</td>\n",
       "      <td id=\"T_48644_row2_col3\" class=\"data row2 col3\" >-0.277915</td>\n",
       "      <td id=\"T_48644_row2_col4\" class=\"data row2 col4\" >-0.484808</td>\n",
       "      <td id=\"T_48644_row2_col5\" class=\"data row2 col5\" >0.833650</td>\n",
       "    </tr>\n",
       "    <tr>\n",
       "      <th id=\"T_48644_level0_row3\" class=\"row_heading level0 row3\" >ClienteID</th>\n",
       "      <td id=\"T_48644_row3_col0\" class=\"data row3 col0\" >0.021868</td>\n",
       "      <td id=\"T_48644_row3_col1\" class=\"data row3 col1\" >-0.009326</td>\n",
       "      <td id=\"T_48644_row3_col2\" class=\"data row3 col2\" >-0.277915</td>\n",
       "      <td id=\"T_48644_row3_col3\" class=\"data row3 col3\" >1.000000</td>\n",
       "      <td id=\"T_48644_row3_col4\" class=\"data row3 col4\" >0.154670</td>\n",
       "      <td id=\"T_48644_row3_col5\" class=\"data row3 col5\" >-0.234709</td>\n",
       "    </tr>\n",
       "    <tr>\n",
       "      <th id=\"T_48644_level0_row4\" class=\"row_heading level0 row4\" >InvoiceID</th>\n",
       "      <td id=\"T_48644_row4_col0\" class=\"data row4 col0\" >0.859235</td>\n",
       "      <td id=\"T_48644_row4_col1\" class=\"data row4 col1\" >0.001007</td>\n",
       "      <td id=\"T_48644_row4_col2\" class=\"data row4 col2\" >-0.484808</td>\n",
       "      <td id=\"T_48644_row4_col3\" class=\"data row4 col3\" >0.154670</td>\n",
       "      <td id=\"T_48644_row4_col4\" class=\"data row4 col4\" >1.000000</td>\n",
       "      <td id=\"T_48644_row4_col5\" class=\"data row4 col5\" >-0.409633</td>\n",
       "    </tr>\n",
       "    <tr>\n",
       "      <th id=\"T_48644_level0_row5\" class=\"row_heading level0 row5\" >Cantidad</th>\n",
       "      <td id=\"T_48644_row5_col0\" class=\"data row5 col0\" >0.060616</td>\n",
       "      <td id=\"T_48644_row5_col1\" class=\"data row5 col1\" >0.028805</td>\n",
       "      <td id=\"T_48644_row5_col2\" class=\"data row5 col2\" >0.833650</td>\n",
       "      <td id=\"T_48644_row5_col3\" class=\"data row5 col3\" >-0.234709</td>\n",
       "      <td id=\"T_48644_row5_col4\" class=\"data row5 col4\" >-0.409633</td>\n",
       "      <td id=\"T_48644_row5_col5\" class=\"data row5 col5\" >1.000000</td>\n",
       "    </tr>\n",
       "  </tbody>\n",
       "</table>\n"
      ],
      "text/plain": [
       "<pandas.io.formats.style.Styler at 0x16bcfe2cf88>"
      ]
     },
     "execution_count": 90,
     "metadata": {},
     "output_type": "execute_result"
    }
   ],
   "source": [
    "corr = movimientos.toPandas().corr(method='pearson')\n",
    "corr.style.background_gradient(cmap='coolwarm')"
   ]
  },
  {
   "cell_type": "markdown",
   "metadata": {
    "id": "9bG1x9gWPn3b",
    "tags": []
   },
   "source": [
    "## Análisis de calidad de datos\n",
    "A continuación validamos la calidad de los datos basados en 4 dimensiones:\n",
    "- Completitud: Datos que no existen o no se conocen\n",
    "- Unicidad (Duplicidad): Datos que son idénticos en diferentes registros o registros con valores idénticos en atributos en los que no debería ocurrir\n",
    "- Consistencia: Esta medida se define por la validez o integridad del dato, en la definición de su estructura, al interior de una fila o entre diferentes filas de la misma fuente o de diferentes fuentes. El manejo de unidades en los datos y el significado del dato son generadores de inconsistencias.\n",
    "- Validez: a nivel de formato y de sentido de los datos más alla de sus valores"
   ]
  },
  {
   "cell_type": "markdown",
   "metadata": {
    "id": "ZHLs1H0hPn3b"
   },
   "source": [
    "### Unicidad y validez\n",
    "\n",
    "En este punto debemos veridicar que no existen registros identicos en todas las columnas o que los valores de la llave primaria no se repiten, pues este último atributo no debería repetirse."
   ]
  },
  {
   "cell_type": "code",
   "execution_count": 74,
   "metadata": {},
   "outputs": [
    {
     "name": "stdout",
     "output_type": "stream",
     "text": [
      "204292\n",
      "173659\n"
     ]
    }
   ],
   "source": [
    "# Verificar si existen registros repetidos:\n",
    "print((movimientos.count()))\n",
    "print(movimientos.distinct().count())"
   ]
  },
  {
   "cell_type": "code",
   "execution_count": 75,
   "metadata": {},
   "outputs": [
    {
     "data": {
      "text/plain": [
       "173659"
      ]
     },
     "execution_count": 75,
     "metadata": {},
     "output_type": "execute_result"
    }
   ],
   "source": [
    "# Verificar si los valores de la llave primaria se repiten\n",
    "movimientos.select(countDistinct(\"TransaccionProductoID\")).collect()[0][0]"
   ]
  },
  {
   "cell_type": "markdown",
   "metadata": {},
   "source": [
    "Lo anterior ya se había evidenciado anteriormente, en conclusión solo hay 173.659 registros únicos. El resto de registros se deberían eliminar."
   ]
  },
  {
   "cell_type": "markdown",
   "metadata": {
    "id": "QgkzeSm4Pn3b"
   },
   "source": [
    "### Completitud y validez"
   ]
  },
  {
   "cell_type": "markdown",
   "metadata": {},
   "source": [
    "A continuación, se verifica la cantidad de registros vacíos y las columnas con una cardinalidad superior al 50%."
   ]
  },
  {
   "cell_type": "code",
   "execution_count": 84,
   "metadata": {
    "id": "mIWH-vVoPn3b"
   },
   "outputs": [],
   "source": [
    "def contar_vacios(df):\n",
    "    resultados = []\n",
    "    for c in df.columns:\n",
    "        vacios = df.filter(df[c].isNull()).count()\n",
    "        if vacios!=0:\n",
    "            print('número de vacíos para columna '+c+': '+str( vacios ))\n",
    "            resultados.append(vacios)\n",
    "    return resultados\n",
    "\n",
    "def cardinalidad(df):\n",
    "    resultado = {}\n",
    "    for c in df.columns:\n",
    "        cardinalidad = df.select(col(c)).distinct().count()\n",
    "        if cardinalidad>=df.count()*0.5:\n",
    "            resultado[c] = cardinalidad\n",
    "    return resultado\n",
    "\n",
    "def contar_blancos(df):\n",
    "    resultados = []\n",
    "    for c in df.columns:\n",
    "        blancos = df.filter(df[c] == '').count()\n",
    "        if blancos != 0:\n",
    "            print('Número de blancos para columna ' + c + ': ' + str(blancos))\n",
    "            resultados.append((c, blancos))\n",
    "    return resultados"
   ]
  },
  {
   "cell_type": "code",
   "execution_count": 81,
   "metadata": {
    "id": "da_z_ti-Pn3b",
    "outputId": "ecac9b39-d97a-422a-a579-698c5733ab7b"
   },
   "outputs": [
    {
     "data": {
      "text/plain": [
       "[]"
      ]
     },
     "execution_count": 81,
     "metadata": {},
     "output_type": "execute_result"
    }
   ],
   "source": [
    "columnas_vacias_movimientos = contar_vacios(movimientos)\n",
    "columnas_vacias_movimientos"
   ]
  },
  {
   "cell_type": "code",
   "execution_count": 86,
   "metadata": {},
   "outputs": [
    {
     "name": "stdout",
     "output_type": "stream",
     "text": [
      "Número de blancos para columna ProveedorID: 197182\n",
      "Número de blancos para columna OrdenDeCompraID: 197182\n"
     ]
    },
    {
     "data": {
      "text/plain": [
       "[('ProveedorID', 197182), ('OrdenDeCompraID', 197182)]"
      ]
     },
     "execution_count": 86,
     "metadata": {},
     "output_type": "execute_result"
    }
   ],
   "source": [
    "contar_blancos_movimientos = contar_blancos(movimientos)\n",
    "contar_blancos_movimientos"
   ]
  },
  {
   "cell_type": "code",
   "execution_count": 82,
   "metadata": {
    "id": "NxXQm_KEPn3c",
    "outputId": "419b9709-25fe-43dd-d63a-a9be645d11f7"
   },
   "outputs": [
    {
     "data": {
      "text/plain": [
       "{'TransaccionProductoID': 173659}"
      ]
     },
     "execution_count": 82,
     "metadata": {},
     "output_type": "execute_result"
    }
   ],
   "source": [
    "columnas_alta_cardinalidad_movimientos = cardinalidad(movimientos)\n",
    "columnas_alta_cardinalidad_movimientos"
   ]
  },
  {
   "cell_type": "markdown",
   "metadata": {},
   "source": [
    "Lo anterior muestra que existen 2 columnas con 197.182 valores vacíos. Se debe preguntar al negocio porque existe esta gran cantidad de valores vacíos en dos columnas. De lo anterior podemos notar que al hacer el conteo de los valores faltantes revisando los nulos no se retorna ningún valor, por lo que fue necesario crear otra función que revisara los valores en blanco, esto se debe a que ProveedorID y OrdenDeCompraID son datos de tipo string, por lo que las columnas tengan cadenas vacías en lugar de valores nulos.\n",
    "Por otra parte, la columna TransaccionProductoID es la única que tiene una cardinalidad superior al 50%, es decir, que tiene una alta cantidad de registros distintos, esto tiene sentido pued esta columna representa la llave primaria."
   ]
  },
  {
   "cell_type": "markdown",
   "metadata": {
    "id": "LZyQcqCvPn3c"
   },
   "source": [
    "### Consistencia\n",
    "Esta medida se define por la validez o integridad del dato, en la definición de su estructura, al interior de una fila o entre diferentes filas de la misma fuente o de diferentes fuentes. \n",
    "En este caso podríamos verificar que las llaves foraneas existen en las tablas correspondientes, verificar que los datos obligatorios no pueden ser nulos, entre otros. En este caso, ya verificamos los valores nulos, pero ahora verificaremos que las cantidades no sean igual a 0, ya que no tiene sentido reportar un movimiento de 0."
   ]
  },
  {
   "cell_type": "code",
   "execution_count": 89,
   "metadata": {
    "id": "uHEz7IylPn3c",
    "outputId": "0f987de9-4b5e-4532-e42a-a547d3207985"
   },
   "outputs": [
    {
     "data": {
      "text/plain": [
       "DataFrame[TransaccionProductoID: int, ProductoID: int, TipoTransaccionID: int, ClienteID: double, InvoiceID: double, ProveedorID: string, OrdenDeCompraID: string, FechaTransaccion: string, Cantidad: double]"
      ]
     },
     "execution_count": 89,
     "metadata": {},
     "output_type": "execute_result"
    }
   ],
   "source": [
    "movimientos.filter(col(\"Cantidad\") == 0)"
   ]
  },
  {
   "cell_type": "markdown",
   "metadata": {
    "id": "oU6a547APn3c"
   },
   "source": [
    "Como se puede observar no hay registros de cantidad igual a 0, por lo que en ese sentido hay consistencia en los datos."
   ]
  },
  {
   "cell_type": "markdown",
   "metadata": {
    "id": "kxj4KoVDPn3f"
   },
   "source": [
    "## Conclusiones/resultados"
   ]
  },
  {
   "cell_type": "markdown",
   "metadata": {
    "id": "snq4CGXQPn3f"
   },
   "source": [
    "\n",
    "**Conclusiones generales:**\n",
    "\n",
    "1. En la tabla de movimientos tenemos información **relacionada con el movimiento, la transacción, el producto, el cliente, el proveedor y con la órden**. \n",
    "2. Cada fila representa un movimiento en el inventario, ya sea de ingreso o retiro. En promedio, se registra mayor cantidad de ingresos que de retiros.\n",
    "3. En total tenemos 204.292 movimientos y 9 variables, de estas hay 3 variables de tipo Integer, 3 variables de tipo Double, y 3 variables de tipo String.\n",
    "3. Al revisar el tipo de datos se encuentra que todos los identificadores no tienen el mismo tipo de datos aun cuando su estructura es similar ¿por qué?\n",
    "4. Hay 2 columnas con el 97% de datos vacíos (detalle en conclusiones de calidad).\n",
    "5. Hay 30.633 registros duplicados.\n",
    "6. Hay 664 clientes.\n",
    "7. Hay 3 proveedores.\n",
    "8. Existe una alta correlación entre el identificador de la factura y de la transacción y entre el tipo de transacción y la cantidad. ¿Debemos mantener las cuatro columnas o es posible eliminar alguna?\n",
    "\n",
    "\n",
    "**Conclusiones de reglas de negocio:**\n",
    "\n",
    "1. La llave primaria no tiene valores únicos, se deben eliminar los valores repetidos ya que contiene la misma información en todos los registros.\n",
    "\n",
    "2. La segunda regla no se cumple por completo, en primer lugar, la cantidad de movimientos reportados no coincide con los datos, ya que en la tabla de movimientos hay una menor cantidad de registros, además existen registros completamente duplicados que deben ser eliminados.  Por otra parte, aunque la primera fecha si corresponde a 2013, solo hay registros del 31 de diciembre en ese año ¿hacen falta datos o se reporto erradamente la cantidad de información disponible). \n",
    "\n",
    "2. La tercera regla tampoco se cumple pues la cantidad de clientes asociados no puede superar la cantidad de movimientos. Además, se encontro muchos clientes cuyo identificador es 0 ¿hay un error o es un identificador valido?\n",
    "\n",
    "3. La única columna asociada a la fecha no cumple con el formato indicado para todos sus registros, sin embargo, solo es necesario ajustar el formato para que coincida con el deseado ¿es posible que realicemos este ajuste? \n",
    "\n",
    "4. La información de la cantidad de proveedores no es cierta, en la tabla solo se encontraron 3 y muchos registros de esta columna estaban vacíos ¿se puede completar esta información o se puede eliminar esta variable?\n",
    "\n",
    "**Conclusiones de calidad:**\n",
    "\n",
    "1.  Las columnas ProveedorID y OrdenDeCompraID tienen 197.182 valores vacíos ¿por qué a ambas columnas les hace falta la misma cantidad de información?, ¿se pueden eliminar?. El resto de variables no tienen valores vacíos.\n",
    "\n",
    "2. Se identificaron valores extremos en la variable Cantidad, esto se evidencia al revisar los percentiles, ya que para el 75% de los datos, el valor de Cantidad no superaba -5, pero el valor máximo es 67.368. Esto tambien se observa en los gráficos de valores positivos y negativos, mientras que para los valores negativos la frencuencia más alta es superior a 100.000, para los valores positivos la frecuencia más alta apenas supera levemente los 600.\n",
    "\n",
    "3. Únicamente la columna TransaccionProductoID tiene una alta cardinalidad.\n",
    "\n",
    "**Conclusiones de consultoria**\n",
    "\n",
    "En atención a la solicitud de revisar los datos, concluimos que es posible trabajar con los datos de movimientosCopia, pero es necesario que el negocio revise las observaciones y consultas realizadas anteriormente para proceder a realizar los ajustes necesarios para organizar los datos adecuadamente. "
   ]
  }
 ],
 "metadata": {
  "colab": {
   "collapsed_sections": [
    "qxN27II0Pn3T",
    "GnAScmClPn3W",
    "UuZspay3Pn3Z",
    "ZHLs1H0hPn3b",
    "QgkzeSm4Pn3b",
    "LZyQcqCvPn3c",
    "eDf54JyKPn3d",
    "ltTluhtIPn3e",
    "IPhtXcD1Pn3g",
    "-axExLnhPn3g",
    "YfSMeXZQPn3g"
   ],
   "name": "MISW-ETL-Entendimiento.ipynb",
   "provenance": []
  },
  "kernelspec": {
   "display_name": "Python 3 (ipykernel)",
   "language": "python",
   "name": "python3"
  },
  "language_info": {
   "codemirror_mode": {
    "name": "ipython",
    "version": 3
   },
   "file_extension": ".py",
   "mimetype": "text/x-python",
   "name": "python",
   "nbconvert_exporter": "python",
   "pygments_lexer": "ipython3",
   "version": "3.7.13"
  },
  "toc-autonumbering": true,
  "toc-showcode": true
 },
 "nbformat": 4,
 "nbformat_minor": 4
}
